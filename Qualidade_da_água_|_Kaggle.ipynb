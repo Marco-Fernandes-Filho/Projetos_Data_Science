{
  "cells": [
    {
      "cell_type": "markdown",
      "metadata": {
        "id": "view-in-github",
        "colab_type": "text"
      },
      "source": [
        "<a href=\"https://colab.research.google.com/github/Marco-Fernandes-Filho/Projetos_Data_Science/blob/main/Qualidade_da_%C3%A1gua_%7C_Kaggle.ipynb\" target=\"_parent\"><img src=\"https://colab.research.google.com/assets/colab-badge.svg\" alt=\"Open In Colab\"/></a>"
      ]
    },
    {
      "cell_type": "markdown",
      "metadata": {
        "id": "1VoJ6ZRCoCLS"
      },
      "source": [
        "### Importação das bibliotecas"
      ]
    },
    {
      "cell_type": "code",
      "execution_count": null,
      "metadata": {
        "id": "lOwRYr4fgdCF"
      },
      "outputs": [],
      "source": [
        "import pandas as pd\n",
        "import numpy as np\n",
        "import seaborn as sns\n",
        "import matplotlib.pyplot as plt"
      ]
    },
    {
      "cell_type": "code",
      "execution_count": null,
      "metadata": {
        "id": "iNs-LPmunESU"
      },
      "outputs": [],
      "source": [
        "data_base = pd.read_csv('/content/water_potability.csv')"
      ]
    },
    {
      "cell_type": "markdown",
      "metadata": {
        "id": "o5-Xmyf1oHDD"
      },
      "source": [
        "### Analisando os dados\n"
      ]
    },
    {
      "cell_type": "code",
      "execution_count": null,
      "metadata": {
        "colab": {
          "base_uri": "https://localhost:8080/"
        },
        "id": "ZgzXjc0dnyHn",
        "outputId": "3beb9e15-4357-4f9f-ff3c-0496d5926905"
      },
      "outputs": [
        {
          "data": {
            "text/plain": [
              "(3276, 10)"
            ]
          },
          "execution_count": 5,
          "metadata": {},
          "output_type": "execute_result"
        }
      ],
      "source": [
        "data_base.shape"
      ]
    },
    {
      "cell_type": "code",
      "execution_count": null,
      "metadata": {
        "colab": {
          "base_uri": "https://localhost:8080/"
        },
        "id": "nk9sEBWInUvJ",
        "outputId": "1ed73b13-f2ab-4411-bb40-6b4dff74d877"
      },
      "outputs": [
        {
          "name": "stdout",
          "output_type": "stream",
          "text": [
            "<class 'pandas.core.frame.DataFrame'>\n",
            "RangeIndex: 3276 entries, 0 to 3275\n",
            "Data columns (total 10 columns):\n",
            " #   Column           Non-Null Count  Dtype  \n",
            "---  ------           --------------  -----  \n",
            " 0   ph               2785 non-null   float64\n",
            " 1   Hardness         3276 non-null   float64\n",
            " 2   Solids           3276 non-null   float64\n",
            " 3   Chloramines      3276 non-null   float64\n",
            " 4   Sulfate          2495 non-null   float64\n",
            " 5   Conductivity     3276 non-null   float64\n",
            " 6   Organic_carbon   3276 non-null   float64\n",
            " 7   Trihalomethanes  3114 non-null   float64\n",
            " 8   Turbidity        3276 non-null   float64\n",
            " 9   Potability       3276 non-null   int64  \n",
            "dtypes: float64(9), int64(1)\n",
            "memory usage: 256.1 KB\n"
          ]
        }
      ],
      "source": [
        "data_base.info()"
      ]
    },
    {
      "cell_type": "code",
      "execution_count": null,
      "metadata": {
        "colab": {
          "base_uri": "https://localhost:8080/"
        },
        "id": "QRhw8JylradL",
        "outputId": "041d374b-1d24-4930-c601-4a514b130c23"
      },
      "outputs": [
        {
          "data": {
            "text/plain": [
              "ph                 491\n",
              "Hardness             0\n",
              "Solids               0\n",
              "Chloramines          0\n",
              "Sulfate            781\n",
              "Conductivity         0\n",
              "Organic_carbon       0\n",
              "Trihalomethanes    162\n",
              "Turbidity            0\n",
              "Potability           0\n",
              "dtype: int64"
            ]
          },
          "execution_count": 7,
          "metadata": {},
          "output_type": "execute_result"
        }
      ],
      "source": [
        "data_base.isnull().sum()"
      ]
    },
    {
      "cell_type": "code",
      "execution_count": null,
      "metadata": {
        "colab": {
          "base_uri": "https://localhost:8080/",
          "height": 423
        },
        "id": "QPuR7_RRrnRP",
        "outputId": "20aed965-a8af-44c8-de09-b570b73fcb13"
      },
      "outputs": [
        {
          "data": {
            "text/html": [
              "\n",
              "  <div id=\"df-c28298f7-b939-4451-beaa-26dbe885d365\">\n",
              "    <div class=\"colab-df-container\">\n",
              "      <div>\n",
              "<style scoped>\n",
              "    .dataframe tbody tr th:only-of-type {\n",
              "        vertical-align: middle;\n",
              "    }\n",
              "\n",
              "    .dataframe tbody tr th {\n",
              "        vertical-align: top;\n",
              "    }\n",
              "\n",
              "    .dataframe thead th {\n",
              "        text-align: right;\n",
              "    }\n",
              "</style>\n",
              "<table border=\"1\" class=\"dataframe\">\n",
              "  <thead>\n",
              "    <tr style=\"text-align: right;\">\n",
              "      <th></th>\n",
              "      <th>ph</th>\n",
              "      <th>Hardness</th>\n",
              "      <th>Solids</th>\n",
              "      <th>Chloramines</th>\n",
              "      <th>Sulfate</th>\n",
              "      <th>Conductivity</th>\n",
              "      <th>Organic_carbon</th>\n",
              "      <th>Trihalomethanes</th>\n",
              "      <th>Turbidity</th>\n",
              "      <th>Potability</th>\n",
              "    </tr>\n",
              "  </thead>\n",
              "  <tbody>\n",
              "    <tr>\n",
              "      <th>0</th>\n",
              "      <td>NaN</td>\n",
              "      <td>204.890455</td>\n",
              "      <td>20791.318981</td>\n",
              "      <td>7.300212</td>\n",
              "      <td>368.516441</td>\n",
              "      <td>564.308654</td>\n",
              "      <td>10.379783</td>\n",
              "      <td>86.990970</td>\n",
              "      <td>2.963135</td>\n",
              "      <td>0</td>\n",
              "    </tr>\n",
              "    <tr>\n",
              "      <th>8</th>\n",
              "      <td>NaN</td>\n",
              "      <td>118.988579</td>\n",
              "      <td>14285.583854</td>\n",
              "      <td>7.804174</td>\n",
              "      <td>268.646941</td>\n",
              "      <td>389.375566</td>\n",
              "      <td>12.706049</td>\n",
              "      <td>53.928846</td>\n",
              "      <td>3.595017</td>\n",
              "      <td>0</td>\n",
              "    </tr>\n",
              "    <tr>\n",
              "      <th>13</th>\n",
              "      <td>NaN</td>\n",
              "      <td>150.174923</td>\n",
              "      <td>27331.361962</td>\n",
              "      <td>6.838223</td>\n",
              "      <td>299.415781</td>\n",
              "      <td>379.761835</td>\n",
              "      <td>19.370807</td>\n",
              "      <td>76.509996</td>\n",
              "      <td>4.413974</td>\n",
              "      <td>0</td>\n",
              "    </tr>\n",
              "    <tr>\n",
              "      <th>20</th>\n",
              "      <td>NaN</td>\n",
              "      <td>227.435048</td>\n",
              "      <td>22305.567414</td>\n",
              "      <td>10.333918</td>\n",
              "      <td>NaN</td>\n",
              "      <td>554.820086</td>\n",
              "      <td>16.331693</td>\n",
              "      <td>45.382815</td>\n",
              "      <td>4.133423</td>\n",
              "      <td>0</td>\n",
              "    </tr>\n",
              "    <tr>\n",
              "      <th>22</th>\n",
              "      <td>NaN</td>\n",
              "      <td>215.977859</td>\n",
              "      <td>17107.224226</td>\n",
              "      <td>5.607060</td>\n",
              "      <td>326.943978</td>\n",
              "      <td>436.256194</td>\n",
              "      <td>14.189062</td>\n",
              "      <td>59.855476</td>\n",
              "      <td>5.459251</td>\n",
              "      <td>0</td>\n",
              "    </tr>\n",
              "    <tr>\n",
              "      <th>...</th>\n",
              "      <td>...</td>\n",
              "      <td>...</td>\n",
              "      <td>...</td>\n",
              "      <td>...</td>\n",
              "      <td>...</td>\n",
              "      <td>...</td>\n",
              "      <td>...</td>\n",
              "      <td>...</td>\n",
              "      <td>...</td>\n",
              "      <td>...</td>\n",
              "    </tr>\n",
              "    <tr>\n",
              "      <th>3224</th>\n",
              "      <td>NaN</td>\n",
              "      <td>198.218700</td>\n",
              "      <td>31081.735264</td>\n",
              "      <td>7.419106</td>\n",
              "      <td>NaN</td>\n",
              "      <td>517.925946</td>\n",
              "      <td>11.711419</td>\n",
              "      <td>85.428785</td>\n",
              "      <td>3.345543</td>\n",
              "      <td>1</td>\n",
              "    </tr>\n",
              "    <tr>\n",
              "      <th>3229</th>\n",
              "      <td>NaN</td>\n",
              "      <td>203.204659</td>\n",
              "      <td>10643.186771</td>\n",
              "      <td>6.828936</td>\n",
              "      <td>NaN</td>\n",
              "      <td>384.597711</td>\n",
              "      <td>16.011328</td>\n",
              "      <td>72.911573</td>\n",
              "      <td>3.065910</td>\n",
              "      <td>1</td>\n",
              "    </tr>\n",
              "    <tr>\n",
              "      <th>3231</th>\n",
              "      <td>NaN</td>\n",
              "      <td>225.754109</td>\n",
              "      <td>28194.452646</td>\n",
              "      <td>5.892830</td>\n",
              "      <td>366.201583</td>\n",
              "      <td>418.272901</td>\n",
              "      <td>17.306832</td>\n",
              "      <td>103.912548</td>\n",
              "      <td>3.855895</td>\n",
              "      <td>1</td>\n",
              "    </tr>\n",
              "    <tr>\n",
              "      <th>3245</th>\n",
              "      <td>NaN</td>\n",
              "      <td>188.536608</td>\n",
              "      <td>24711.414927</td>\n",
              "      <td>7.129520</td>\n",
              "      <td>NaN</td>\n",
              "      <td>555.548534</td>\n",
              "      <td>16.959269</td>\n",
              "      <td>56.038702</td>\n",
              "      <td>4.331691</td>\n",
              "      <td>1</td>\n",
              "    </tr>\n",
              "    <tr>\n",
              "      <th>3260</th>\n",
              "      <td>NaN</td>\n",
              "      <td>134.736856</td>\n",
              "      <td>9000.025591</td>\n",
              "      <td>9.026293</td>\n",
              "      <td>NaN</td>\n",
              "      <td>428.213987</td>\n",
              "      <td>8.668672</td>\n",
              "      <td>74.773392</td>\n",
              "      <td>3.699558</td>\n",
              "      <td>1</td>\n",
              "    </tr>\n",
              "  </tbody>\n",
              "</table>\n",
              "<p>491 rows × 10 columns</p>\n",
              "</div>\n",
              "      <button class=\"colab-df-convert\" onclick=\"convertToInteractive('df-c28298f7-b939-4451-beaa-26dbe885d365')\"\n",
              "              title=\"Convert this dataframe to an interactive table.\"\n",
              "              style=\"display:none;\">\n",
              "        \n",
              "  <svg xmlns=\"http://www.w3.org/2000/svg\" height=\"24px\"viewBox=\"0 0 24 24\"\n",
              "       width=\"24px\">\n",
              "    <path d=\"M0 0h24v24H0V0z\" fill=\"none\"/>\n",
              "    <path d=\"M18.56 5.44l.94 2.06.94-2.06 2.06-.94-2.06-.94-.94-2.06-.94 2.06-2.06.94zm-11 1L8.5 8.5l.94-2.06 2.06-.94-2.06-.94L8.5 2.5l-.94 2.06-2.06.94zm10 10l.94 2.06.94-2.06 2.06-.94-2.06-.94-.94-2.06-.94 2.06-2.06.94z\"/><path d=\"M17.41 7.96l-1.37-1.37c-.4-.4-.92-.59-1.43-.59-.52 0-1.04.2-1.43.59L10.3 9.45l-7.72 7.72c-.78.78-.78 2.05 0 2.83L4 21.41c.39.39.9.59 1.41.59.51 0 1.02-.2 1.41-.59l7.78-7.78 2.81-2.81c.8-.78.8-2.07 0-2.86zM5.41 20L4 18.59l7.72-7.72 1.47 1.35L5.41 20z\"/>\n",
              "  </svg>\n",
              "      </button>\n",
              "      \n",
              "  <style>\n",
              "    .colab-df-container {\n",
              "      display:flex;\n",
              "      flex-wrap:wrap;\n",
              "      gap: 12px;\n",
              "    }\n",
              "\n",
              "    .colab-df-convert {\n",
              "      background-color: #E8F0FE;\n",
              "      border: none;\n",
              "      border-radius: 50%;\n",
              "      cursor: pointer;\n",
              "      display: none;\n",
              "      fill: #1967D2;\n",
              "      height: 32px;\n",
              "      padding: 0 0 0 0;\n",
              "      width: 32px;\n",
              "    }\n",
              "\n",
              "    .colab-df-convert:hover {\n",
              "      background-color: #E2EBFA;\n",
              "      box-shadow: 0px 1px 2px rgba(60, 64, 67, 0.3), 0px 1px 3px 1px rgba(60, 64, 67, 0.15);\n",
              "      fill: #174EA6;\n",
              "    }\n",
              "\n",
              "    [theme=dark] .colab-df-convert {\n",
              "      background-color: #3B4455;\n",
              "      fill: #D2E3FC;\n",
              "    }\n",
              "\n",
              "    [theme=dark] .colab-df-convert:hover {\n",
              "      background-color: #434B5C;\n",
              "      box-shadow: 0px 1px 3px 1px rgba(0, 0, 0, 0.15);\n",
              "      filter: drop-shadow(0px 1px 2px rgba(0, 0, 0, 0.3));\n",
              "      fill: #FFFFFF;\n",
              "    }\n",
              "  </style>\n",
              "\n",
              "      <script>\n",
              "        const buttonEl =\n",
              "          document.querySelector('#df-c28298f7-b939-4451-beaa-26dbe885d365 button.colab-df-convert');\n",
              "        buttonEl.style.display =\n",
              "          google.colab.kernel.accessAllowed ? 'block' : 'none';\n",
              "\n",
              "        async function convertToInteractive(key) {\n",
              "          const element = document.querySelector('#df-c28298f7-b939-4451-beaa-26dbe885d365');\n",
              "          const dataTable =\n",
              "            await google.colab.kernel.invokeFunction('convertToInteractive',\n",
              "                                                     [key], {});\n",
              "          if (!dataTable) return;\n",
              "\n",
              "          const docLinkHtml = 'Like what you see? Visit the ' +\n",
              "            '<a target=\"_blank\" href=https://colab.research.google.com/notebooks/data_table.ipynb>data table notebook</a>'\n",
              "            + ' to learn more about interactive tables.';\n",
              "          element.innerHTML = '';\n",
              "          dataTable['output_type'] = 'display_data';\n",
              "          await google.colab.output.renderOutput(dataTable, element);\n",
              "          const docLink = document.createElement('div');\n",
              "          docLink.innerHTML = docLinkHtml;\n",
              "          element.appendChild(docLink);\n",
              "        }\n",
              "      </script>\n",
              "    </div>\n",
              "  </div>\n",
              "  "
            ],
            "text/plain": [
              "      ph    Hardness        Solids  Chloramines     Sulfate  Conductivity  \\\n",
              "0    NaN  204.890455  20791.318981     7.300212  368.516441    564.308654   \n",
              "8    NaN  118.988579  14285.583854     7.804174  268.646941    389.375566   \n",
              "13   NaN  150.174923  27331.361962     6.838223  299.415781    379.761835   \n",
              "20   NaN  227.435048  22305.567414    10.333918         NaN    554.820086   \n",
              "22   NaN  215.977859  17107.224226     5.607060  326.943978    436.256194   \n",
              "...   ..         ...           ...          ...         ...           ...   \n",
              "3224 NaN  198.218700  31081.735264     7.419106         NaN    517.925946   \n",
              "3229 NaN  203.204659  10643.186771     6.828936         NaN    384.597711   \n",
              "3231 NaN  225.754109  28194.452646     5.892830  366.201583    418.272901   \n",
              "3245 NaN  188.536608  24711.414927     7.129520         NaN    555.548534   \n",
              "3260 NaN  134.736856   9000.025591     9.026293         NaN    428.213987   \n",
              "\n",
              "      Organic_carbon  Trihalomethanes  Turbidity  Potability  \n",
              "0          10.379783        86.990970   2.963135           0  \n",
              "8          12.706049        53.928846   3.595017           0  \n",
              "13         19.370807        76.509996   4.413974           0  \n",
              "20         16.331693        45.382815   4.133423           0  \n",
              "22         14.189062        59.855476   5.459251           0  \n",
              "...              ...              ...        ...         ...  \n",
              "3224       11.711419        85.428785   3.345543           1  \n",
              "3229       16.011328        72.911573   3.065910           1  \n",
              "3231       17.306832       103.912548   3.855895           1  \n",
              "3245       16.959269        56.038702   4.331691           1  \n",
              "3260        8.668672        74.773392   3.699558           1  \n",
              "\n",
              "[491 rows x 10 columns]"
            ]
          },
          "execution_count": 8,
          "metadata": {},
          "output_type": "execute_result"
        }
      ],
      "source": [
        "data_base.loc[pd.isnull(data_base['ph'])]"
      ]
    },
    {
      "cell_type": "code",
      "execution_count": null,
      "metadata": {
        "id": "om-xeohhsEBP"
      },
      "outputs": [],
      "source": [
        "data_base['ph'].fillna(data_base['ph'].mean(), inplace = True)\n",
        "data_base['Sulfate'].fillna(data_base['Sulfate'].mean(), inplace = True)\n",
        "data_base['Trihalomethanes'].fillna(data_base['Trihalomethanes'].mean(), inplace = True)\n"
      ]
    },
    {
      "cell_type": "code",
      "execution_count": null,
      "metadata": {
        "colab": {
          "base_uri": "https://localhost:8080/",
          "height": 344
        },
        "id": "5VZyqO45nb0e",
        "outputId": "40b585be-a46f-47e4-d451-68d5606f59e2"
      },
      "outputs": [
        {
          "data": {
            "text/html": [
              "\n",
              "  <div id=\"df-9f56467b-a28e-47f9-9be1-dba237a5202c\">\n",
              "    <div class=\"colab-df-container\">\n",
              "      <div>\n",
              "<style scoped>\n",
              "    .dataframe tbody tr th:only-of-type {\n",
              "        vertical-align: middle;\n",
              "    }\n",
              "\n",
              "    .dataframe tbody tr th {\n",
              "        vertical-align: top;\n",
              "    }\n",
              "\n",
              "    .dataframe thead th {\n",
              "        text-align: right;\n",
              "    }\n",
              "</style>\n",
              "<table border=\"1\" class=\"dataframe\">\n",
              "  <thead>\n",
              "    <tr style=\"text-align: right;\">\n",
              "      <th></th>\n",
              "      <th>ph</th>\n",
              "      <th>Hardness</th>\n",
              "      <th>Solids</th>\n",
              "      <th>Chloramines</th>\n",
              "      <th>Sulfate</th>\n",
              "      <th>Conductivity</th>\n",
              "      <th>Organic_carbon</th>\n",
              "      <th>Trihalomethanes</th>\n",
              "      <th>Turbidity</th>\n",
              "      <th>Potability</th>\n",
              "    </tr>\n",
              "  </thead>\n",
              "  <tbody>\n",
              "    <tr>\n",
              "      <th>count</th>\n",
              "      <td>3276.000000</td>\n",
              "      <td>3276.000000</td>\n",
              "      <td>3276.000000</td>\n",
              "      <td>3276.000000</td>\n",
              "      <td>3276.000000</td>\n",
              "      <td>3276.000000</td>\n",
              "      <td>3276.000000</td>\n",
              "      <td>3276.000000</td>\n",
              "      <td>3276.000000</td>\n",
              "      <td>3276.000000</td>\n",
              "    </tr>\n",
              "    <tr>\n",
              "      <th>mean</th>\n",
              "      <td>7.080795</td>\n",
              "      <td>196.369496</td>\n",
              "      <td>22014.092526</td>\n",
              "      <td>7.122277</td>\n",
              "      <td>333.775777</td>\n",
              "      <td>426.205111</td>\n",
              "      <td>14.284970</td>\n",
              "      <td>66.396293</td>\n",
              "      <td>3.966786</td>\n",
              "      <td>0.390110</td>\n",
              "    </tr>\n",
              "    <tr>\n",
              "      <th>std</th>\n",
              "      <td>1.469956</td>\n",
              "      <td>32.879761</td>\n",
              "      <td>8768.570828</td>\n",
              "      <td>1.583085</td>\n",
              "      <td>36.142612</td>\n",
              "      <td>80.824064</td>\n",
              "      <td>3.308162</td>\n",
              "      <td>15.769881</td>\n",
              "      <td>0.780382</td>\n",
              "      <td>0.487849</td>\n",
              "    </tr>\n",
              "    <tr>\n",
              "      <th>min</th>\n",
              "      <td>0.000000</td>\n",
              "      <td>47.432000</td>\n",
              "      <td>320.942611</td>\n",
              "      <td>0.352000</td>\n",
              "      <td>129.000000</td>\n",
              "      <td>181.483754</td>\n",
              "      <td>2.200000</td>\n",
              "      <td>0.738000</td>\n",
              "      <td>1.450000</td>\n",
              "      <td>0.000000</td>\n",
              "    </tr>\n",
              "    <tr>\n",
              "      <th>25%</th>\n",
              "      <td>6.277673</td>\n",
              "      <td>176.850538</td>\n",
              "      <td>15666.690297</td>\n",
              "      <td>6.127421</td>\n",
              "      <td>317.094638</td>\n",
              "      <td>365.734414</td>\n",
              "      <td>12.065801</td>\n",
              "      <td>56.647656</td>\n",
              "      <td>3.439711</td>\n",
              "      <td>0.000000</td>\n",
              "    </tr>\n",
              "    <tr>\n",
              "      <th>50%</th>\n",
              "      <td>7.080795</td>\n",
              "      <td>196.967627</td>\n",
              "      <td>20927.833607</td>\n",
              "      <td>7.130299</td>\n",
              "      <td>333.775777</td>\n",
              "      <td>421.884968</td>\n",
              "      <td>14.218338</td>\n",
              "      <td>66.396293</td>\n",
              "      <td>3.955028</td>\n",
              "      <td>0.000000</td>\n",
              "    </tr>\n",
              "    <tr>\n",
              "      <th>75%</th>\n",
              "      <td>7.870050</td>\n",
              "      <td>216.667456</td>\n",
              "      <td>27332.762127</td>\n",
              "      <td>8.114887</td>\n",
              "      <td>350.385756</td>\n",
              "      <td>481.792304</td>\n",
              "      <td>16.557652</td>\n",
              "      <td>76.666609</td>\n",
              "      <td>4.500320</td>\n",
              "      <td>1.000000</td>\n",
              "    </tr>\n",
              "    <tr>\n",
              "      <th>max</th>\n",
              "      <td>14.000000</td>\n",
              "      <td>323.124000</td>\n",
              "      <td>61227.196008</td>\n",
              "      <td>13.127000</td>\n",
              "      <td>481.030642</td>\n",
              "      <td>753.342620</td>\n",
              "      <td>28.300000</td>\n",
              "      <td>124.000000</td>\n",
              "      <td>6.739000</td>\n",
              "      <td>1.000000</td>\n",
              "    </tr>\n",
              "  </tbody>\n",
              "</table>\n",
              "</div>\n",
              "      <button class=\"colab-df-convert\" onclick=\"convertToInteractive('df-9f56467b-a28e-47f9-9be1-dba237a5202c')\"\n",
              "              title=\"Convert this dataframe to an interactive table.\"\n",
              "              style=\"display:none;\">\n",
              "        \n",
              "  <svg xmlns=\"http://www.w3.org/2000/svg\" height=\"24px\"viewBox=\"0 0 24 24\"\n",
              "       width=\"24px\">\n",
              "    <path d=\"M0 0h24v24H0V0z\" fill=\"none\"/>\n",
              "    <path d=\"M18.56 5.44l.94 2.06.94-2.06 2.06-.94-2.06-.94-.94-2.06-.94 2.06-2.06.94zm-11 1L8.5 8.5l.94-2.06 2.06-.94-2.06-.94L8.5 2.5l-.94 2.06-2.06.94zm10 10l.94 2.06.94-2.06 2.06-.94-2.06-.94-.94-2.06-.94 2.06-2.06.94z\"/><path d=\"M17.41 7.96l-1.37-1.37c-.4-.4-.92-.59-1.43-.59-.52 0-1.04.2-1.43.59L10.3 9.45l-7.72 7.72c-.78.78-.78 2.05 0 2.83L4 21.41c.39.39.9.59 1.41.59.51 0 1.02-.2 1.41-.59l7.78-7.78 2.81-2.81c.8-.78.8-2.07 0-2.86zM5.41 20L4 18.59l7.72-7.72 1.47 1.35L5.41 20z\"/>\n",
              "  </svg>\n",
              "      </button>\n",
              "      \n",
              "  <style>\n",
              "    .colab-df-container {\n",
              "      display:flex;\n",
              "      flex-wrap:wrap;\n",
              "      gap: 12px;\n",
              "    }\n",
              "\n",
              "    .colab-df-convert {\n",
              "      background-color: #E8F0FE;\n",
              "      border: none;\n",
              "      border-radius: 50%;\n",
              "      cursor: pointer;\n",
              "      display: none;\n",
              "      fill: #1967D2;\n",
              "      height: 32px;\n",
              "      padding: 0 0 0 0;\n",
              "      width: 32px;\n",
              "    }\n",
              "\n",
              "    .colab-df-convert:hover {\n",
              "      background-color: #E2EBFA;\n",
              "      box-shadow: 0px 1px 2px rgba(60, 64, 67, 0.3), 0px 1px 3px 1px rgba(60, 64, 67, 0.15);\n",
              "      fill: #174EA6;\n",
              "    }\n",
              "\n",
              "    [theme=dark] .colab-df-convert {\n",
              "      background-color: #3B4455;\n",
              "      fill: #D2E3FC;\n",
              "    }\n",
              "\n",
              "    [theme=dark] .colab-df-convert:hover {\n",
              "      background-color: #434B5C;\n",
              "      box-shadow: 0px 1px 3px 1px rgba(0, 0, 0, 0.15);\n",
              "      filter: drop-shadow(0px 1px 2px rgba(0, 0, 0, 0.3));\n",
              "      fill: #FFFFFF;\n",
              "    }\n",
              "  </style>\n",
              "\n",
              "      <script>\n",
              "        const buttonEl =\n",
              "          document.querySelector('#df-9f56467b-a28e-47f9-9be1-dba237a5202c button.colab-df-convert');\n",
              "        buttonEl.style.display =\n",
              "          google.colab.kernel.accessAllowed ? 'block' : 'none';\n",
              "\n",
              "        async function convertToInteractive(key) {\n",
              "          const element = document.querySelector('#df-9f56467b-a28e-47f9-9be1-dba237a5202c');\n",
              "          const dataTable =\n",
              "            await google.colab.kernel.invokeFunction('convertToInteractive',\n",
              "                                                     [key], {});\n",
              "          if (!dataTable) return;\n",
              "\n",
              "          const docLinkHtml = 'Like what you see? Visit the ' +\n",
              "            '<a target=\"_blank\" href=https://colab.research.google.com/notebooks/data_table.ipynb>data table notebook</a>'\n",
              "            + ' to learn more about interactive tables.';\n",
              "          element.innerHTML = '';\n",
              "          dataTable['output_type'] = 'display_data';\n",
              "          await google.colab.output.renderOutput(dataTable, element);\n",
              "          const docLink = document.createElement('div');\n",
              "          docLink.innerHTML = docLinkHtml;\n",
              "          element.appendChild(docLink);\n",
              "        }\n",
              "      </script>\n",
              "    </div>\n",
              "  </div>\n",
              "  "
            ],
            "text/plain": [
              "                ph     Hardness        Solids  Chloramines      Sulfate  \\\n",
              "count  3276.000000  3276.000000   3276.000000  3276.000000  3276.000000   \n",
              "mean      7.080795   196.369496  22014.092526     7.122277   333.775777   \n",
              "std       1.469956    32.879761   8768.570828     1.583085    36.142612   \n",
              "min       0.000000    47.432000    320.942611     0.352000   129.000000   \n",
              "25%       6.277673   176.850538  15666.690297     6.127421   317.094638   \n",
              "50%       7.080795   196.967627  20927.833607     7.130299   333.775777   \n",
              "75%       7.870050   216.667456  27332.762127     8.114887   350.385756   \n",
              "max      14.000000   323.124000  61227.196008    13.127000   481.030642   \n",
              "\n",
              "       Conductivity  Organic_carbon  Trihalomethanes    Turbidity   Potability  \n",
              "count   3276.000000     3276.000000      3276.000000  3276.000000  3276.000000  \n",
              "mean     426.205111       14.284970        66.396293     3.966786     0.390110  \n",
              "std       80.824064        3.308162        15.769881     0.780382     0.487849  \n",
              "min      181.483754        2.200000         0.738000     1.450000     0.000000  \n",
              "25%      365.734414       12.065801        56.647656     3.439711     0.000000  \n",
              "50%      421.884968       14.218338        66.396293     3.955028     0.000000  \n",
              "75%      481.792304       16.557652        76.666609     4.500320     1.000000  \n",
              "max      753.342620       28.300000       124.000000     6.739000     1.000000  "
            ]
          },
          "execution_count": 10,
          "metadata": {},
          "output_type": "execute_result"
        }
      ],
      "source": [
        "data_base.describe()"
      ]
    },
    {
      "cell_type": "code",
      "execution_count": null,
      "metadata": {
        "colab": {
          "base_uri": "https://localhost:8080/",
          "height": 300
        },
        "id": "xWsUpGDerMN3",
        "outputId": "a6efe34e-84f1-471b-cb91-a3a86928dcac"
      },
      "outputs": [
        {
          "data": {
            "text/html": [
              "\n",
              "  <div id=\"df-0c697305-45df-43bd-ba46-d942dd2e450d\">\n",
              "    <div class=\"colab-df-container\">\n",
              "      <div>\n",
              "<style scoped>\n",
              "    .dataframe tbody tr th:only-of-type {\n",
              "        vertical-align: middle;\n",
              "    }\n",
              "\n",
              "    .dataframe tbody tr th {\n",
              "        vertical-align: top;\n",
              "    }\n",
              "\n",
              "    .dataframe thead th {\n",
              "        text-align: right;\n",
              "    }\n",
              "</style>\n",
              "<table border=\"1\" class=\"dataframe\">\n",
              "  <thead>\n",
              "    <tr style=\"text-align: right;\">\n",
              "      <th></th>\n",
              "      <th>ph</th>\n",
              "      <th>Hardness</th>\n",
              "      <th>Solids</th>\n",
              "      <th>Chloramines</th>\n",
              "      <th>Sulfate</th>\n",
              "      <th>Conductivity</th>\n",
              "      <th>Organic_carbon</th>\n",
              "      <th>Trihalomethanes</th>\n",
              "      <th>Turbidity</th>\n",
              "      <th>Potability</th>\n",
              "    </tr>\n",
              "  </thead>\n",
              "  <tbody>\n",
              "    <tr>\n",
              "      <th>0</th>\n",
              "      <td>7.080795</td>\n",
              "      <td>204.890455</td>\n",
              "      <td>20791.318981</td>\n",
              "      <td>7.300212</td>\n",
              "      <td>368.516441</td>\n",
              "      <td>564.308654</td>\n",
              "      <td>10.379783</td>\n",
              "      <td>86.990970</td>\n",
              "      <td>2.963135</td>\n",
              "      <td>0</td>\n",
              "    </tr>\n",
              "    <tr>\n",
              "      <th>1</th>\n",
              "      <td>3.716080</td>\n",
              "      <td>129.422921</td>\n",
              "      <td>18630.057858</td>\n",
              "      <td>6.635246</td>\n",
              "      <td>333.775777</td>\n",
              "      <td>592.885359</td>\n",
              "      <td>15.180013</td>\n",
              "      <td>56.329076</td>\n",
              "      <td>4.500656</td>\n",
              "      <td>0</td>\n",
              "    </tr>\n",
              "    <tr>\n",
              "      <th>2</th>\n",
              "      <td>8.099124</td>\n",
              "      <td>224.236259</td>\n",
              "      <td>19909.541732</td>\n",
              "      <td>9.275884</td>\n",
              "      <td>333.775777</td>\n",
              "      <td>418.606213</td>\n",
              "      <td>16.868637</td>\n",
              "      <td>66.420093</td>\n",
              "      <td>3.055934</td>\n",
              "      <td>0</td>\n",
              "    </tr>\n",
              "    <tr>\n",
              "      <th>3</th>\n",
              "      <td>8.316766</td>\n",
              "      <td>214.373394</td>\n",
              "      <td>22018.417441</td>\n",
              "      <td>8.059332</td>\n",
              "      <td>356.886136</td>\n",
              "      <td>363.266516</td>\n",
              "      <td>18.436524</td>\n",
              "      <td>100.341674</td>\n",
              "      <td>4.628771</td>\n",
              "      <td>0</td>\n",
              "    </tr>\n",
              "    <tr>\n",
              "      <th>4</th>\n",
              "      <td>9.092223</td>\n",
              "      <td>181.101509</td>\n",
              "      <td>17978.986339</td>\n",
              "      <td>6.546600</td>\n",
              "      <td>310.135738</td>\n",
              "      <td>398.410813</td>\n",
              "      <td>11.558279</td>\n",
              "      <td>31.997993</td>\n",
              "      <td>4.075075</td>\n",
              "      <td>0</td>\n",
              "    </tr>\n",
              "    <tr>\n",
              "      <th>5</th>\n",
              "      <td>5.584087</td>\n",
              "      <td>188.313324</td>\n",
              "      <td>28748.687739</td>\n",
              "      <td>7.544869</td>\n",
              "      <td>326.678363</td>\n",
              "      <td>280.467916</td>\n",
              "      <td>8.399735</td>\n",
              "      <td>54.917862</td>\n",
              "      <td>2.559708</td>\n",
              "      <td>0</td>\n",
              "    </tr>\n",
              "    <tr>\n",
              "      <th>6</th>\n",
              "      <td>10.223862</td>\n",
              "      <td>248.071735</td>\n",
              "      <td>28749.716544</td>\n",
              "      <td>7.513408</td>\n",
              "      <td>393.663396</td>\n",
              "      <td>283.651634</td>\n",
              "      <td>13.789695</td>\n",
              "      <td>84.603556</td>\n",
              "      <td>2.672989</td>\n",
              "      <td>0</td>\n",
              "    </tr>\n",
              "    <tr>\n",
              "      <th>7</th>\n",
              "      <td>8.635849</td>\n",
              "      <td>203.361523</td>\n",
              "      <td>13672.091764</td>\n",
              "      <td>4.563009</td>\n",
              "      <td>303.309771</td>\n",
              "      <td>474.607645</td>\n",
              "      <td>12.363817</td>\n",
              "      <td>62.798309</td>\n",
              "      <td>4.401425</td>\n",
              "      <td>0</td>\n",
              "    </tr>\n",
              "  </tbody>\n",
              "</table>\n",
              "</div>\n",
              "      <button class=\"colab-df-convert\" onclick=\"convertToInteractive('df-0c697305-45df-43bd-ba46-d942dd2e450d')\"\n",
              "              title=\"Convert this dataframe to an interactive table.\"\n",
              "              style=\"display:none;\">\n",
              "        \n",
              "  <svg xmlns=\"http://www.w3.org/2000/svg\" height=\"24px\"viewBox=\"0 0 24 24\"\n",
              "       width=\"24px\">\n",
              "    <path d=\"M0 0h24v24H0V0z\" fill=\"none\"/>\n",
              "    <path d=\"M18.56 5.44l.94 2.06.94-2.06 2.06-.94-2.06-.94-.94-2.06-.94 2.06-2.06.94zm-11 1L8.5 8.5l.94-2.06 2.06-.94-2.06-.94L8.5 2.5l-.94 2.06-2.06.94zm10 10l.94 2.06.94-2.06 2.06-.94-2.06-.94-.94-2.06-.94 2.06-2.06.94z\"/><path d=\"M17.41 7.96l-1.37-1.37c-.4-.4-.92-.59-1.43-.59-.52 0-1.04.2-1.43.59L10.3 9.45l-7.72 7.72c-.78.78-.78 2.05 0 2.83L4 21.41c.39.39.9.59 1.41.59.51 0 1.02-.2 1.41-.59l7.78-7.78 2.81-2.81c.8-.78.8-2.07 0-2.86zM5.41 20L4 18.59l7.72-7.72 1.47 1.35L5.41 20z\"/>\n",
              "  </svg>\n",
              "      </button>\n",
              "      \n",
              "  <style>\n",
              "    .colab-df-container {\n",
              "      display:flex;\n",
              "      flex-wrap:wrap;\n",
              "      gap: 12px;\n",
              "    }\n",
              "\n",
              "    .colab-df-convert {\n",
              "      background-color: #E8F0FE;\n",
              "      border: none;\n",
              "      border-radius: 50%;\n",
              "      cursor: pointer;\n",
              "      display: none;\n",
              "      fill: #1967D2;\n",
              "      height: 32px;\n",
              "      padding: 0 0 0 0;\n",
              "      width: 32px;\n",
              "    }\n",
              "\n",
              "    .colab-df-convert:hover {\n",
              "      background-color: #E2EBFA;\n",
              "      box-shadow: 0px 1px 2px rgba(60, 64, 67, 0.3), 0px 1px 3px 1px rgba(60, 64, 67, 0.15);\n",
              "      fill: #174EA6;\n",
              "    }\n",
              "\n",
              "    [theme=dark] .colab-df-convert {\n",
              "      background-color: #3B4455;\n",
              "      fill: #D2E3FC;\n",
              "    }\n",
              "\n",
              "    [theme=dark] .colab-df-convert:hover {\n",
              "      background-color: #434B5C;\n",
              "      box-shadow: 0px 1px 3px 1px rgba(0, 0, 0, 0.15);\n",
              "      filter: drop-shadow(0px 1px 2px rgba(0, 0, 0, 0.3));\n",
              "      fill: #FFFFFF;\n",
              "    }\n",
              "  </style>\n",
              "\n",
              "      <script>\n",
              "        const buttonEl =\n",
              "          document.querySelector('#df-0c697305-45df-43bd-ba46-d942dd2e450d button.colab-df-convert');\n",
              "        buttonEl.style.display =\n",
              "          google.colab.kernel.accessAllowed ? 'block' : 'none';\n",
              "\n",
              "        async function convertToInteractive(key) {\n",
              "          const element = document.querySelector('#df-0c697305-45df-43bd-ba46-d942dd2e450d');\n",
              "          const dataTable =\n",
              "            await google.colab.kernel.invokeFunction('convertToInteractive',\n",
              "                                                     [key], {});\n",
              "          if (!dataTable) return;\n",
              "\n",
              "          const docLinkHtml = 'Like what you see? Visit the ' +\n",
              "            '<a target=\"_blank\" href=https://colab.research.google.com/notebooks/data_table.ipynb>data table notebook</a>'\n",
              "            + ' to learn more about interactive tables.';\n",
              "          element.innerHTML = '';\n",
              "          dataTable['output_type'] = 'display_data';\n",
              "          await google.colab.output.renderOutput(dataTable, element);\n",
              "          const docLink = document.createElement('div');\n",
              "          docLink.innerHTML = docLinkHtml;\n",
              "          element.appendChild(docLink);\n",
              "        }\n",
              "      </script>\n",
              "    </div>\n",
              "  </div>\n",
              "  "
            ],
            "text/plain": [
              "          ph    Hardness        Solids  Chloramines     Sulfate  Conductivity  \\\n",
              "0   7.080795  204.890455  20791.318981     7.300212  368.516441    564.308654   \n",
              "1   3.716080  129.422921  18630.057858     6.635246  333.775777    592.885359   \n",
              "2   8.099124  224.236259  19909.541732     9.275884  333.775777    418.606213   \n",
              "3   8.316766  214.373394  22018.417441     8.059332  356.886136    363.266516   \n",
              "4   9.092223  181.101509  17978.986339     6.546600  310.135738    398.410813   \n",
              "5   5.584087  188.313324  28748.687739     7.544869  326.678363    280.467916   \n",
              "6  10.223862  248.071735  28749.716544     7.513408  393.663396    283.651634   \n",
              "7   8.635849  203.361523  13672.091764     4.563009  303.309771    474.607645   \n",
              "\n",
              "   Organic_carbon  Trihalomethanes  Turbidity  Potability  \n",
              "0       10.379783        86.990970   2.963135           0  \n",
              "1       15.180013        56.329076   4.500656           0  \n",
              "2       16.868637        66.420093   3.055934           0  \n",
              "3       18.436524       100.341674   4.628771           0  \n",
              "4       11.558279        31.997993   4.075075           0  \n",
              "5        8.399735        54.917862   2.559708           0  \n",
              "6       13.789695        84.603556   2.672989           0  \n",
              "7       12.363817        62.798309   4.401425           0  "
            ]
          },
          "execution_count": 11,
          "metadata": {},
          "output_type": "execute_result"
        }
      ],
      "source": [
        "data_base.head(8)"
      ]
    },
    {
      "cell_type": "markdown",
      "metadata": {
        "id": "KLA4ymIgoMLp"
      },
      "source": [
        "### Análise Gráfica"
      ]
    },
    {
      "cell_type": "code",
      "execution_count": null,
      "metadata": {
        "colab": {
          "base_uri": "https://localhost:8080/",
          "height": 296
        },
        "id": "a9kMMrttnWSC",
        "outputId": "60f3f55b-475d-48f8-fb5c-f1430cfc70d1"
      },
      "outputs": [
        {
          "data": {
            "text/plain": [
              "<AxesSubplot:xlabel='Potability', ylabel='count'>"
            ]
          },
          "execution_count": 12,
          "metadata": {},
          "output_type": "execute_result"
        },
        {
          "data": {
            "image/png": "[encoded data removed]",
            "text/plain": [
              "<Figure size 432x288 with 1 Axes>"
            ]
          },
          "metadata": {},
          "output_type": "display_data"
        }
      ],
      "source": [
        "np.unique(data_base['Potability'])\n",
        "sns.countplot(x = data_base['Potability'])"
      ]
    },
    {
      "cell_type": "code",
      "execution_count": null,
      "metadata": {
        "colab": {
          "base_uri": "https://localhost:8080/"
        },
        "id": "uTUIjXSsoUzk",
        "outputId": "04d057f3-9863-431f-dc0a-e57502c469f3"
      },
      "outputs": [
        {
          "data": {
            "text/plain": [
              "pandas.core.frame.DataFrame"
            ]
          },
          "execution_count": 13,
          "metadata": {},
          "output_type": "execute_result"
        }
      ],
      "source": [
        "type(data_base)"
      ]
    },
    {
      "cell_type": "markdown",
      "metadata": {
        "id": "gTFvYW0kogZ5"
      },
      "source": [
        "### Divisão entre previsores e classe"
      ]
    },
    {
      "cell_type": "code",
      "execution_count": null,
      "metadata": {
        "id": "8YqRMQGJog4g"
      },
      "outputs": [],
      "source": [
        "x_water = data_base.iloc[:, 0:9].values"
      ]
    },
    {
      "cell_type": "code",
      "execution_count": null,
      "metadata": {
        "id": "mDykKhFCovst"
      },
      "outputs": [],
      "source": [
        "y_water = data_base.iloc[:, 9].values"
      ]
    },
    {
      "cell_type": "markdown",
      "metadata": {
        "id": "hPZ918ECvtht"
      },
      "source": [
        "### Mudaça de tipo"
      ]
    },
    {
      "cell_type": "code",
      "execution_count": null,
      "metadata": {
        "colab": {
          "base_uri": "https://localhost:8080/"
        },
        "id": "726CAuFqv8Ej",
        "outputId": "d560b1a8-44ac-4b68-d336-43b39140cb06"
      },
      "outputs": [
        {
          "data": {
            "text/plain": [
              "numpy.ndarray"
            ]
          },
          "execution_count": 16,
          "metadata": {},
          "output_type": "execute_result"
        }
      ],
      "source": [
        "type(x_water)"
      ]
    },
    {
      "cell_type": "code",
      "execution_count": null,
      "metadata": {
        "colab": {
          "base_uri": "https://localhost:8080/"
        },
        "id": "V13iK6KYw3dn",
        "outputId": "75de6b7f-3387-40b4-83be-07eff2488a41"
      },
      "outputs": [
        {
          "data": {
            "text/plain": [
              "numpy.ndarray"
            ]
          },
          "execution_count": 17,
          "metadata": {},
          "output_type": "execute_result"
        }
      ],
      "source": [
        "type(y_water)"
      ]
    },
    {
      "cell_type": "markdown",
      "metadata": {
        "id": "Q_bFCAa7wjda"
      },
      "source": [
        "### Escalonamento dos valores"
      ]
    },
    {
      "cell_type": "code",
      "execution_count": null,
      "metadata": {
        "id": "HuX6CNI2L0SI"
      },
      "outputs": [],
      "source": [
        "from sklearn.preprocessing import StandardScaler\n",
        "scaler = StandardScaler()"
      ]
    },
    {
      "cell_type": "code",
      "execution_count": null,
      "metadata": {
        "colab": {
          "base_uri": "https://localhost:8080/"
        },
        "id": "lteWwu5LZ7ck",
        "outputId": "e8a15aeb-02c1-41ec-8c44-8ee69a54602f"
      },
      "outputs": [
        {
          "data": {
            "text/plain": [
              "array([[7.08079450e+00, 2.04890455e+02, 2.07913190e+04, ...,\n",
              "        1.03797831e+01, 8.69909705e+01, 2.96313538e+00],\n",
              "       [3.71608008e+00, 1.29422921e+02, 1.86300579e+04, ...,\n",
              "        1.51800131e+01, 5.63290763e+01, 4.50065627e+00],\n",
              "       [8.09912419e+00, 2.24236259e+02, 1.99095417e+04, ...,\n",
              "        1.68686369e+01, 6.64200925e+01, 3.05593375e+00],\n",
              "       ...,\n",
              "       [9.41951032e+00, 1.75762646e+02, 3.31555782e+04, ...,\n",
              "        1.10390697e+01, 6.98454003e+01, 3.29887550e+00],\n",
              "       [5.12676292e+00, 2.30603758e+02, 1.19838694e+04, ...,\n",
              "        1.11689462e+01, 7.74882131e+01, 4.70865847e+00],\n",
              "       [7.87467136e+00, 1.95102299e+02, 1.74041771e+04, ...,\n",
              "        1.61403676e+01, 7.86984463e+01, 2.30914906e+00]])"
            ]
          },
          "execution_count": 19,
          "metadata": {},
          "output_type": "execute_result"
        }
      ],
      "source": [
        "x_water"
      ]
    },
    {
      "cell_type": "code",
      "execution_count": null,
      "metadata": {
        "colab": {
          "base_uri": "https://localhost:8080/"
        },
        "id": "S3NMdDbVhDcN",
        "outputId": "9699faa7-741f-448f-916f-791322e41ae2"
      },
      "outputs": [
        {
          "data": {
            "text/plain": [
              "array([0, 0, 0, ..., 1, 1, 1])"
            ]
          },
          "execution_count": 20,
          "metadata": {},
          "output_type": "execute_result"
        }
      ],
      "source": [
        "y_water"
      ]
    },
    {
      "cell_type": "code",
      "execution_count": null,
      "metadata": {
        "colab": {
          "base_uri": "https://localhost:8080/"
        },
        "id": "SUSpmRv1Yg3u",
        "outputId": "84da08d6-6137-4628-eb2f-9210ec705c7e"
      },
      "outputs": [
        {
          "data": {
            "text/plain": [
              "(3276, 9)"
            ]
          },
          "execution_count": 21,
          "metadata": {},
          "output_type": "execute_result"
        }
      ],
      "source": [
        "x_water.shape"
      ]
    },
    {
      "cell_type": "code",
      "execution_count": null,
      "metadata": {
        "id": "KkM-5AOLYk5f"
      },
      "outputs": [],
      "source": [
        "y_water = y_water.reshape(-1, 1)"
      ]
    },
    {
      "cell_type": "code",
      "execution_count": null,
      "metadata": {
        "colab": {
          "base_uri": "https://localhost:8080/"
        },
        "id": "lePTT7tTMl_l",
        "outputId": "59b0926a-31c4-4dcc-ac71-90047229d3d5"
      },
      "outputs": [
        {
          "data": {
            "text/plain": [
              "(3276, 1)"
            ]
          },
          "execution_count": 23,
          "metadata": {},
          "output_type": "execute_result"
        }
      ],
      "source": [
        "y_water.shape"
      ]
    },
    {
      "cell_type": "markdown",
      "metadata": {
        "id": "c_f5C_keNbOL"
      },
      "source": []
    },
    {
      "cell_type": "code",
      "execution_count": null,
      "metadata": {
        "id": "vJqec2gCL3dS"
      },
      "outputs": [],
      "source": [
        "x_water = scaler.fit_transform(x_water)\n"
      ]
    },
    {
      "cell_type": "markdown",
      "metadata": {
        "id": "R0E-zi6FNZ2t"
      },
      "source": [
        "### Divisão das bases em treinamento e teste"
      ]
    },
    {
      "cell_type": "code",
      "execution_count": null,
      "metadata": {
        "id": "GZxgrKC4NcPN"
      },
      "outputs": [],
      "source": [
        "from sklearn.model_selection import train_test_split"
      ]
    },
    {
      "cell_type": "code",
      "execution_count": null,
      "metadata": {
        "id": "SZsZW-kdN5bO"
      },
      "outputs": [],
      "source": [
        "x_water_treinamento, x_water_teste, y_water_treinamento, y_water_teste = train_test_split(x_water, y_water, test_size = 0.15, random_state = 0)"
      ]
    },
    {
      "cell_type": "code",
      "execution_count": null,
      "metadata": {
        "colab": {
          "base_uri": "https://localhost:8080/"
        },
        "id": "bqKquK2sgnLe",
        "outputId": "aedc9056-e48b-4c25-c298-2ff41dd71387"
      },
      "outputs": [
        {
          "data": {
            "text/plain": [
              "((2784, 9), (492, 9), (2784, 1), (492, 1))"
            ]
          },
          "execution_count": 27,
          "metadata": {},
          "output_type": "execute_result"
        }
      ],
      "source": [
        "x_water_treinamento.shape, x_water_teste.shape, y_water_treinamento.shape, y_water_teste.shape"
      ]
    },
    {
      "cell_type": "markdown",
      "metadata": {
        "id": "-1B-kMs1SwNw"
      },
      "source": [
        "### Salvar variáveis"
      ]
    },
    {
      "cell_type": "code",
      "execution_count": null,
      "metadata": {
        "id": "hF9I4-FTSy9g"
      },
      "outputs": [],
      "source": [
        "import pickle"
      ]
    },
    {
      "cell_type": "code",
      "execution_count": null,
      "metadata": {
        "id": "Fl7zNywZS2E4"
      },
      "outputs": [],
      "source": [
        "with open('new_base', mode = 'wb') as f:\n",
        "  pickle.dump([x_water_treinamento, y_water_treinamento, x_water_teste, y_water_teste], f)"
      ]
    },
    {
      "cell_type": "code",
      "execution_count": null,
      "metadata": {
        "colab": {
          "base_uri": "https://localhost:8080/"
        },
        "id": "B7gF-JO3Y6rb",
        "outputId": "eb2b740a-d9eb-490a-cbbc-ffe6ae047ce1"
      },
      "outputs": [
        {
          "data": {
            "text/plain": [
              "((2784, 9), (2784, 1))"
            ]
          },
          "execution_count": 30,
          "metadata": {},
          "output_type": "execute_result"
        }
      ],
      "source": [
        "x_water_treinamento.shape, y_water_treinamento.shape"
      ]
    },
    {
      "cell_type": "markdown",
      "metadata": {
        "id": "PGXv5MP-VtPN"
      },
      "source": [
        "### Modelos"
      ]
    },
    {
      "cell_type": "markdown",
      "metadata": {
        "id": "MThlhb82Vvsv"
      },
      "source": [
        "### Naive Bayes"
      ]
    },
    {
      "cell_type": "code",
      "execution_count": null,
      "metadata": {
        "id": "VU_yGcZfVz98"
      },
      "outputs": [],
      "source": [
        "from sklearn.naive_bayes import GaussianNB"
      ]
    },
    {
      "cell_type": "code",
      "execution_count": null,
      "metadata": {
        "id": "1_SqwNv5V1-i"
      },
      "outputs": [],
      "source": [
        "with open('new_base', 'rb') as f:\n",
        "  x_water_treinamento, y_water_treinamento, x_water_teste, y_water_teste = pickle.load(f)"
      ]
    },
    {
      "cell_type": "code",
      "execution_count": null,
      "metadata": {
        "colab": {
          "base_uri": "https://localhost:8080/"
        },
        "id": "mkxWzuFmXO87",
        "outputId": "40b4e009-decc-4cf6-93ba-c864aa688ae6"
      },
      "outputs": [
        {
          "data": {
            "text/plain": [
              "((2784, 9), (2784, 1), (492, 9), (492, 1))"
            ]
          },
          "execution_count": 33,
          "metadata": {},
          "output_type": "execute_result"
        }
      ],
      "source": [
        "x_water_treinamento.shape, y_water_treinamento.shape, x_water_teste.shape, y_water_teste.shape"
      ]
    },
    {
      "cell_type": "code",
      "execution_count": null,
      "metadata": {
        "colab": {
          "base_uri": "https://localhost:8080/"
        },
        "id": "XtJ-Ge-VWYbW",
        "outputId": "505dd910-af50-4930-97be-77b8ad54cbe7"
      },
      "outputs": [
        {
          "name": "stderr",
          "output_type": "stream",
          "text": [
            "/usr/local/lib/python3.8/dist-packages/sklearn/utils/validation.py:993: DataConversionWarning: A column-vector y was passed when a 1d array was expected. Please change the shape of y to (n_samples, ), for example using ravel().\n",
            "  y = column_or_1d(y, warn=True)\n"
          ]
        },
        {
          "data": {
            "text/plain": [
              "GaussianNB()"
            ]
          },
          "execution_count": 34,
          "metadata": {},
          "output_type": "execute_result"
        }
      ],
      "source": [
        "naive_new_base = GaussianNB()\n",
        "naive_new_base.fit(x_water_treinamento, y_water_treinamento)"
      ]
    },
    {
      "cell_type": "code",
      "execution_count": null,
      "metadata": {
        "colab": {
          "base_uri": "https://localhost:8080/"
        },
        "id": "XVcVT8s-WfOj",
        "outputId": "cd9a4753-75c6-4c9d-a7cc-dc07d1bb10e6"
      },
      "outputs": [
        {
          "data": {
            "text/plain": [
              "array([0, 0, 0, 0, 0, 0, 0, 0, 0, 0, 0, 0, 0, 0, 0, 0, 0, 0, 1, 0, 1, 1,\n",
              "       0, 0, 0, 1, 0, 0, 0, 0, 0, 0, 1, 0, 0, 0, 0, 0, 1, 0, 0, 0, 0, 0,\n",
              "       0, 0, 0, 1, 1, 0, 0, 1, 0, 0, 0, 0, 0, 1, 0, 0, 0, 0, 0, 0, 1, 0,\n",
              "       0, 0, 0, 0, 0, 1, 0, 0, 0, 1, 0, 0, 1, 0, 0, 0, 1, 0, 0, 0, 0, 1,\n",
              "       0, 0, 0, 0, 0, 0, 0, 1, 0, 1, 0, 0, 0, 0, 0, 0, 0, 0, 0, 0, 0, 0,\n",
              "       0, 0, 1, 0, 0, 0, 1, 0, 1, 0, 1, 0, 1, 0, 0, 0, 0, 0, 0, 0, 0, 0,\n",
              "       0, 0, 0, 0, 1, 0, 0, 0, 0, 0, 0, 1, 0, 0, 0, 0, 1, 0, 0, 0, 0, 0,\n",
              "       0, 0, 0, 0, 0, 0, 0, 0, 1, 0, 1, 0, 0, 0, 1, 0, 0, 1, 0, 0, 0, 1,\n",
              "       0, 0, 0, 0, 0, 0, 0, 0, 0, 0, 0, 0, 0, 0, 0, 1, 0, 0, 0, 0, 0, 0,\n",
              "       0, 1, 0, 1, 0, 0, 0, 1, 0, 0, 0, 0, 0, 0, 0, 0, 0, 0, 0, 0, 0, 1,\n",
              "       0, 0, 0, 0, 1, 0, 0, 0, 1, 0, 0, 1, 0, 0, 1, 0, 0, 0, 0, 0, 0, 0,\n",
              "       0, 1, 1, 1, 0, 0, 0, 0, 0, 0, 0, 1, 0, 0, 0, 1, 0, 0, 0, 0, 0, 0,\n",
              "       0, 0, 0, 0, 1, 0, 0, 0, 0, 0, 0, 0, 1, 0, 0, 0, 0, 0, 1, 1, 0, 0,\n",
              "       1, 0, 0, 0, 0, 0, 0, 0, 0, 1, 0, 1, 0, 0, 0, 0, 0, 0, 0, 0, 0, 0,\n",
              "       0, 0, 0, 1, 1, 1, 0, 1, 0, 0, 0, 0, 0, 0, 0, 1, 0, 0, 0, 0, 0, 0,\n",
              "       1, 0, 1, 0, 0, 0, 0, 0, 0, 0, 1, 0, 0, 0, 0, 0, 1, 0, 0, 0, 0, 0,\n",
              "       0, 1, 0, 0, 0, 0, 0, 0, 0, 0, 0, 0, 1, 0, 1, 0, 0, 0, 0, 0, 0, 0,\n",
              "       0, 0, 0, 0, 0, 0, 0, 0, 0, 1, 1, 0, 0, 1, 1, 0, 1, 0, 0, 1, 0, 0,\n",
              "       0, 0, 0, 0, 0, 0, 1, 0, 0, 0, 0, 0, 0, 0, 0, 0, 0, 1, 0, 0, 0, 0,\n",
              "       1, 0, 0, 0, 0, 0, 0, 0, 1, 0, 0, 0, 1, 0, 0, 0, 0, 0, 1, 0, 0, 1,\n",
              "       0, 0, 0, 0, 0, 0, 0, 0, 0, 0, 1, 0, 0, 0, 0, 0, 0, 0, 0, 0, 0, 0,\n",
              "       0, 0, 0, 0, 0, 0, 1, 1, 0, 1, 0, 0, 1, 0, 1, 0, 0, 0, 0, 0, 0, 0,\n",
              "       0, 0, 0, 0, 0, 0, 0, 0])"
            ]
          },
          "execution_count": 35,
          "metadata": {},
          "output_type": "execute_result"
        }
      ],
      "source": [
        "previsoes = naive_new_base.predict(x_water_teste)\n",
        "previsoes"
      ]
    },
    {
      "cell_type": "code",
      "execution_count": null,
      "metadata": {
        "id": "_q2iZtv4hn8h"
      },
      "outputs": [],
      "source": [
        "y_water_teste;"
      ]
    },
    {
      "cell_type": "code",
      "execution_count": null,
      "metadata": {
        "id": "BDFdBnjNhqwg"
      },
      "outputs": [],
      "source": [
        "from sklearn.metrics import accuracy_score, confusion_matrix, classification_report"
      ]
    },
    {
      "cell_type": "code",
      "execution_count": null,
      "metadata": {
        "colab": {
          "base_uri": "https://localhost:8080/"
        },
        "id": "Zzklu4VxhwCC",
        "outputId": "f4a3eecb-4d42-4148-89ee-9b38c00d9267"
      },
      "outputs": [
        {
          "data": {
            "text/plain": [
              "0.6239837398373984"
            ]
          },
          "execution_count": 38,
          "metadata": {},
          "output_type": "execute_result"
        }
      ],
      "source": [
        "accuracy_score(y_water_teste, previsoes)"
      ]
    },
    {
      "cell_type": "code",
      "execution_count": null,
      "metadata": {
        "colab": {
          "base_uri": "https://localhost:8080/"
        },
        "id": "Uj_T11ZOh2xN",
        "outputId": "5d6b9c92-fde9-4bc2-fc2e-8f1b3197e29a"
      },
      "outputs": [
        {
          "name": "stdout",
          "output_type": "stream",
          "text": [
            "              precision    recall  f1-score   support\n",
            "\n",
            "           0       0.65      0.86      0.74       308\n",
            "           1       0.49      0.22      0.31       184\n",
            "\n",
            "    accuracy                           0.62       492\n",
            "   macro avg       0.57      0.54      0.52       492\n",
            "weighted avg       0.59      0.62      0.58       492\n",
            "\n"
          ]
        }
      ],
      "source": [
        "print(classification_report(y_water_teste, previsoes))"
      ]
    },
    {
      "cell_type": "markdown",
      "metadata": {
        "id": "MHukFzjjiJc7"
      },
      "source": [
        "### Random Forest"
      ]
    },
    {
      "cell_type": "code",
      "execution_count": null,
      "metadata": {
        "id": "Q3nbp7Olismu"
      },
      "outputs": [],
      "source": [
        "from sklearn.ensemble import RandomForestClassifier"
      ]
    },
    {
      "cell_type": "code",
      "execution_count": null,
      "metadata": {
        "id": "lNto30N9iS5D"
      },
      "outputs": [],
      "source": [
        "with open('new_base', 'rb') as f:\n",
        "  x_water_treinamento, y_water_treinamento, x_water_teste, y_water_teste = pickle.load(f)"
      ]
    },
    {
      "cell_type": "code",
      "execution_count": null,
      "metadata": {
        "colab": {
          "base_uri": "https://localhost:8080/"
        },
        "id": "OCv01eVwiiRj",
        "outputId": "b2886f70-9615-4cbc-b2a4-8fe88eb8e08e"
      },
      "outputs": [
        {
          "name": "stderr",
          "output_type": "stream",
          "text": [
            "<ipython-input-42-c97a106e1d4a>:2: DataConversionWarning: A column-vector y was passed when a 1d array was expected. Please change the shape of y to (n_samples,), for example using ravel().\n",
            "  random_forest_water.fit(x_water_treinamento, y_water_treinamento)\n"
          ]
        },
        {
          "data": {
            "text/plain": [
              "RandomForestClassifier(n_estimators=150, random_state=0)"
            ]
          },
          "execution_count": 42,
          "metadata": {},
          "output_type": "execute_result"
        }
      ],
      "source": [
        "random_forest_water = RandomForestClassifier(n_estimators=150, criterion='gini', random_state = 0, )\n",
        "random_forest_water.fit(x_water_treinamento, y_water_treinamento)"
      ]
    },
    {
      "cell_type": "code",
      "execution_count": null,
      "metadata": {
        "id": "74JT76CpjBjr"
      },
      "outputs": [],
      "source": [
        "previsoes = random_forest_water.predict(x_water_teste,)\n",
        "previsoes;"
      ]
    },
    {
      "cell_type": "code",
      "execution_count": null,
      "metadata": {
        "colab": {
          "base_uri": "https://localhost:8080/"
        },
        "id": "BtCAH9M6jOSG",
        "outputId": "ef6cf61b-a8f3-46cc-acce-c1c5585e1572"
      },
      "outputs": [
        {
          "data": {
            "text/plain": [
              "0.7113821138211383"
            ]
          },
          "execution_count": 44,
          "metadata": {},
          "output_type": "execute_result"
        }
      ],
      "source": [
        "accuracy_score(y_water_teste, previsoes)"
      ]
    },
    {
      "cell_type": "markdown",
      "metadata": {
        "id": "cXQCivmajtvw"
      },
      "source": [
        "### SVM"
      ]
    },
    {
      "cell_type": "code",
      "execution_count": null,
      "metadata": {
        "id": "4foSCsvAjy_9"
      },
      "outputs": [],
      "source": [
        "from sklearn.svm import SVC"
      ]
    },
    {
      "cell_type": "code",
      "execution_count": null,
      "metadata": {
        "colab": {
          "base_uri": "https://localhost:8080/"
        },
        "id": "cuI723ytkFlL",
        "outputId": "87743618-54ed-4ddf-ac96-7a2a810fe56d"
      },
      "outputs": [
        {
          "name": "stderr",
          "output_type": "stream",
          "text": [
            "/usr/local/lib/python3.8/dist-packages/sklearn/utils/validation.py:993: DataConversionWarning: A column-vector y was passed when a 1d array was expected. Please change the shape of y to (n_samples, ), for example using ravel().\n",
            "  y = column_or_1d(y, warn=True)\n"
          ]
        },
        {
          "data": {
            "text/plain": [
              "SVC(C=2.0, random_state=1)"
            ]
          },
          "execution_count": 46,
          "metadata": {},
          "output_type": "execute_result"
        }
      ],
      "source": [
        "svm_credit = SVC(kernel='rbf', random_state=1, C = 2.0) # 2 -> 4\n",
        "svm_credit.fit(x_water_treinamento, y_water_treinamento)"
      ]
    },
    {
      "cell_type": "code",
      "execution_count": null,
      "metadata": {
        "id": "itUgZxfzkOXh"
      },
      "outputs": [],
      "source": [
        "previsoes = svm_credit.predict(x_water_teste)\n",
        "previsoes;"
      ]
    },
    {
      "cell_type": "code",
      "execution_count": null,
      "metadata": {
        "colab": {
          "base_uri": "https://localhost:8080/"
        },
        "id": "yeCOMX-skStp",
        "outputId": "18b4096f-0ce3-4206-e0b8-454416a043e7"
      },
      "outputs": [
        {
          "data": {
            "text/plain": [
              "0.6829268292682927"
            ]
          },
          "execution_count": 48,
          "metadata": {},
          "output_type": "execute_result"
        }
      ],
      "source": [
        "accuracy_score(y_water_teste, previsoes)"
      ]
    },
    {
      "cell_type": "markdown",
      "metadata": {
        "id": "67RIPuvskiYN"
      },
      "source": [
        "### Redes Neurais"
      ]
    },
    {
      "cell_type": "code",
      "execution_count": null,
      "metadata": {
        "id": "wAK0yusWkp-Z"
      },
      "outputs": [],
      "source": [
        "from sklearn.neural_network import MLPClassifier"
      ]
    },
    {
      "cell_type": "code",
      "execution_count": null,
      "metadata": {
        "colab": {
          "base_uri": "https://localhost:8080/"
        },
        "id": "XIXd070Ek2JG",
        "outputId": "8fb02dfd-efd8-425a-8ac8-22cb35f107a8"
      },
      "outputs": [
        {
          "name": "stderr",
          "output_type": "stream",
          "text": [
            "/usr/local/lib/python3.8/dist-packages/sklearn/neural_network/_multilayer_perceptron.py:1109: DataConversionWarning: A column-vector y was passed when a 1d array was expected. Please change the shape of y to (n_samples, ), for example using ravel().\n",
            "  y = column_or_1d(y, warn=True)\n"
          ]
        },
        {
          "name": "stdout",
          "output_type": "stream",
          "text": [
            "Iteration 1, loss = 0.72140708\n",
            "Iteration 2, loss = 0.68988907\n",
            "Iteration 3, loss = 0.67895271\n",
            "Iteration 4, loss = 0.67365711\n",
            "Iteration 5, loss = 0.66904143\n",
            "Iteration 6, loss = 0.66545894\n",
            "Iteration 7, loss = 0.66187703\n",
            "Iteration 8, loss = 0.65869858\n",
            "Iteration 9, loss = 0.65557426\n",
            "Iteration 10, loss = 0.65189525\n",
            "Iteration 11, loss = 0.64808316\n",
            "Iteration 12, loss = 0.64449733\n",
            "Iteration 13, loss = 0.64051796\n",
            "Iteration 14, loss = 0.63652597\n",
            "Iteration 15, loss = 0.63242421\n",
            "Iteration 16, loss = 0.62813696\n",
            "Iteration 17, loss = 0.62416446\n",
            "Iteration 18, loss = 0.61962327\n",
            "Iteration 19, loss = 0.61584940\n",
            "Iteration 20, loss = 0.61241915\n",
            "Iteration 21, loss = 0.60861317\n",
            "Iteration 22, loss = 0.60521082\n",
            "Iteration 23, loss = 0.60232056\n",
            "Iteration 24, loss = 0.59956516\n",
            "Iteration 25, loss = 0.59713265\n",
            "Iteration 26, loss = 0.59481358\n",
            "Iteration 27, loss = 0.59283129\n",
            "Iteration 28, loss = 0.59137149\n",
            "Iteration 29, loss = 0.58964166\n",
            "Iteration 30, loss = 0.58786826\n",
            "Iteration 31, loss = 0.58668714\n",
            "Iteration 32, loss = 0.58509517\n",
            "Iteration 33, loss = 0.58402411\n",
            "Iteration 34, loss = 0.58278694\n",
            "Iteration 35, loss = 0.58205385\n",
            "Iteration 36, loss = 0.58092337\n",
            "Iteration 37, loss = 0.57953688\n",
            "Iteration 38, loss = 0.57881307\n",
            "Iteration 39, loss = 0.57792193\n",
            "Iteration 40, loss = 0.57686477\n",
            "Iteration 41, loss = 0.57626480\n",
            "Iteration 42, loss = 0.57532151\n",
            "Iteration 43, loss = 0.57471346\n",
            "Iteration 44, loss = 0.57420456\n",
            "Iteration 45, loss = 0.57371894\n",
            "Iteration 46, loss = 0.57277606\n",
            "Iteration 47, loss = 0.57185634\n",
            "Iteration 48, loss = 0.57082286\n",
            "Iteration 49, loss = 0.57004865\n",
            "Iteration 50, loss = 0.56961667\n",
            "Iteration 51, loss = 0.56885924\n",
            "Iteration 52, loss = 0.56840743\n",
            "Iteration 53, loss = 0.56759481\n",
            "Iteration 54, loss = 0.56677003\n",
            "Iteration 55, loss = 0.56658905\n",
            "Iteration 56, loss = 0.56555790\n",
            "Iteration 57, loss = 0.56448180\n",
            "Iteration 58, loss = 0.56441749\n",
            "Iteration 59, loss = 0.56334135\n",
            "Iteration 60, loss = 0.56298682\n",
            "Iteration 61, loss = 0.56233832\n",
            "Iteration 62, loss = 0.56152039\n",
            "Iteration 63, loss = 0.56123398\n",
            "Iteration 64, loss = 0.56044662\n",
            "Iteration 65, loss = 0.55954562\n",
            "Iteration 66, loss = 0.55944836\n",
            "Iteration 67, loss = 0.55884327\n",
            "Iteration 68, loss = 0.55761882\n",
            "Iteration 69, loss = 0.55757690\n",
            "Iteration 70, loss = 0.55716024\n",
            "Iteration 71, loss = 0.55652290\n",
            "Iteration 72, loss = 0.55546322\n",
            "Iteration 73, loss = 0.55531373\n",
            "Iteration 74, loss = 0.55497944\n",
            "Iteration 75, loss = 0.55424717\n",
            "Iteration 76, loss = 0.55355946\n",
            "Iteration 77, loss = 0.55270713\n",
            "Iteration 78, loss = 0.55223213\n",
            "Iteration 79, loss = 0.55197322\n",
            "Iteration 80, loss = 0.55116238\n",
            "Iteration 81, loss = 0.55106469\n",
            "Iteration 82, loss = 0.55010854\n",
            "Iteration 83, loss = 0.55087471\n",
            "Iteration 84, loss = 0.54990606\n",
            "Iteration 85, loss = 0.54936430\n",
            "Iteration 86, loss = 0.54845243\n",
            "Iteration 87, loss = 0.54811147\n",
            "Iteration 88, loss = 0.54765409\n",
            "Iteration 89, loss = 0.54694603\n",
            "Iteration 90, loss = 0.54673116\n",
            "Iteration 91, loss = 0.54605642\n",
            "Iteration 92, loss = 0.54572213\n",
            "Iteration 93, loss = 0.54521764\n",
            "Iteration 94, loss = 0.54458896\n",
            "Iteration 95, loss = 0.54442703\n",
            "Iteration 96, loss = 0.54376126\n",
            "Iteration 97, loss = 0.54397874\n",
            "Iteration 98, loss = 0.54337952\n",
            "Iteration 99, loss = 0.54306898\n",
            "Iteration 100, loss = 0.54267118\n",
            "Iteration 101, loss = 0.54190669\n",
            "Iteration 102, loss = 0.54155899\n",
            "Iteration 103, loss = 0.54101393\n",
            "Iteration 104, loss = 0.54111280\n",
            "Iteration 105, loss = 0.54059359\n",
            "Iteration 106, loss = 0.54067668\n",
            "Iteration 107, loss = 0.53955774\n",
            "Iteration 108, loss = 0.53923109\n",
            "Iteration 109, loss = 0.53912586\n",
            "Iteration 110, loss = 0.53971376\n",
            "Iteration 111, loss = 0.53832131\n",
            "Iteration 112, loss = 0.53766240\n",
            "Iteration 113, loss = 0.53798190\n",
            "Iteration 114, loss = 0.53737188\n",
            "Iteration 115, loss = 0.53746493\n",
            "Iteration 116, loss = 0.53689090\n",
            "Iteration 117, loss = 0.53642525\n",
            "Iteration 118, loss = 0.53620160\n",
            "Iteration 119, loss = 0.53571173\n",
            "Iteration 120, loss = 0.53556359\n",
            "Iteration 121, loss = 0.53515343\n",
            "Iteration 122, loss = 0.53500460\n",
            "Iteration 123, loss = 0.53446441\n",
            "Iteration 124, loss = 0.53395377\n",
            "Iteration 125, loss = 0.53397515\n",
            "Iteration 126, loss = 0.53366692\n",
            "Iteration 127, loss = 0.53311543\n",
            "Iteration 128, loss = 0.53270955\n",
            "Iteration 129, loss = 0.53237086\n",
            "Iteration 130, loss = 0.53227625\n",
            "Iteration 131, loss = 0.53241232\n",
            "Iteration 132, loss = 0.53215546\n",
            "Iteration 133, loss = 0.53225484\n",
            "Iteration 134, loss = 0.53115046\n",
            "Iteration 135, loss = 0.53108256\n",
            "Iteration 136, loss = 0.53089912\n",
            "Iteration 137, loss = 0.53014231\n",
            "Iteration 138, loss = 0.52984924\n",
            "Iteration 139, loss = 0.52995655\n",
            "Iteration 140, loss = 0.52962570\n",
            "Iteration 141, loss = 0.52928946\n",
            "Iteration 142, loss = 0.52867338\n",
            "Iteration 143, loss = 0.52917620\n",
            "Iteration 144, loss = 0.52914963\n",
            "Iteration 145, loss = 0.52888459\n",
            "Iteration 146, loss = 0.52889699\n",
            "Iteration 147, loss = 0.52747537\n",
            "Iteration 148, loss = 0.52806202\n",
            "Iteration 149, loss = 0.52706359\n",
            "Iteration 150, loss = 0.52701424\n",
            "Iteration 151, loss = 0.52693820\n",
            "Iteration 152, loss = 0.52674275\n",
            "Iteration 153, loss = 0.52661514\n",
            "Iteration 154, loss = 0.52596071\n",
            "Iteration 155, loss = 0.52534954\n",
            "Iteration 156, loss = 0.52632999\n",
            "Iteration 157, loss = 0.52592409\n",
            "Iteration 158, loss = 0.52500206\n",
            "Iteration 159, loss = 0.52526108\n",
            "Iteration 160, loss = 0.52441142\n",
            "Iteration 161, loss = 0.52418199\n",
            "Iteration 162, loss = 0.52434942\n",
            "Iteration 163, loss = 0.52385061\n",
            "Iteration 164, loss = 0.52353190\n",
            "Iteration 165, loss = 0.52325927\n",
            "Iteration 166, loss = 0.52327315\n",
            "Iteration 167, loss = 0.52280549\n",
            "Iteration 168, loss = 0.52365151\n",
            "Iteration 169, loss = 0.52353719\n",
            "Iteration 170, loss = 0.52194608\n",
            "Iteration 171, loss = 0.52241760\n",
            "Iteration 172, loss = 0.52214262\n",
            "Iteration 173, loss = 0.52211747\n",
            "Iteration 174, loss = 0.52139834\n",
            "Iteration 175, loss = 0.52132682\n",
            "Iteration 176, loss = 0.52137961\n",
            "Iteration 177, loss = 0.52146669\n",
            "Iteration 178, loss = 0.52036929\n",
            "Iteration 179, loss = 0.52096048\n",
            "Iteration 180, loss = 0.52047164\n",
            "Iteration 181, loss = 0.52067861\n",
            "Iteration 182, loss = 0.52008750\n",
            "Iteration 183, loss = 0.51950375\n",
            "Iteration 184, loss = 0.51963255\n",
            "Iteration 185, loss = 0.51969713\n",
            "Iteration 186, loss = 0.52027758\n",
            "Iteration 187, loss = 0.51978817\n",
            "Iteration 188, loss = 0.51866119\n",
            "Iteration 189, loss = 0.51853586\n",
            "Iteration 190, loss = 0.51839581\n",
            "Iteration 191, loss = 0.51790690\n",
            "Iteration 192, loss = 0.51827552\n",
            "Iteration 193, loss = 0.51750558\n",
            "Iteration 194, loss = 0.51936906\n",
            "Iteration 195, loss = 0.51826338\n",
            "Iteration 196, loss = 0.51800793\n",
            "Iteration 197, loss = 0.51730119\n",
            "Iteration 198, loss = 0.51697506\n",
            "Iteration 199, loss = 0.51691412\n",
            "Iteration 200, loss = 0.51654448\n",
            "Iteration 201, loss = 0.51666819\n",
            "Iteration 202, loss = 0.51666950\n",
            "Iteration 203, loss = 0.51639129\n",
            "Iteration 204, loss = 0.51630169\n",
            "Iteration 205, loss = 0.51588150\n",
            "Iteration 206, loss = 0.51613889\n",
            "Iteration 207, loss = 0.51573352\n",
            "Iteration 208, loss = 0.51486092\n",
            "Iteration 209, loss = 0.51503504\n",
            "Iteration 210, loss = 0.51497255\n",
            "Iteration 211, loss = 0.51487796\n",
            "Iteration 212, loss = 0.51475233\n",
            "Iteration 213, loss = 0.51417199\n",
            "Iteration 214, loss = 0.51406263\n",
            "Iteration 215, loss = 0.51398197\n",
            "Iteration 216, loss = 0.51462084\n",
            "Iteration 217, loss = 0.51410727\n",
            "Iteration 218, loss = 0.51360703\n",
            "Iteration 219, loss = 0.51320865\n",
            "Iteration 220, loss = 0.51347739\n",
            "Iteration 221, loss = 0.51341114\n",
            "Iteration 222, loss = 0.51314504\n",
            "Iteration 223, loss = 0.51287461\n",
            "Iteration 224, loss = 0.51288529\n",
            "Iteration 225, loss = 0.51269906\n",
            "Iteration 226, loss = 0.51211830\n",
            "Iteration 227, loss = 0.51228723\n",
            "Iteration 228, loss = 0.51174461\n",
            "Iteration 229, loss = 0.51215394\n",
            "Iteration 230, loss = 0.51215148\n",
            "Iteration 231, loss = 0.51215761\n",
            "Iteration 232, loss = 0.51147604\n",
            "Iteration 233, loss = 0.51197256\n",
            "Iteration 234, loss = 0.51104432\n",
            "Iteration 235, loss = 0.51143118\n",
            "Iteration 236, loss = 0.51107468\n",
            "Iteration 237, loss = 0.51063728\n",
            "Iteration 238, loss = 0.51108565\n",
            "Iteration 239, loss = 0.51081226\n",
            "Iteration 240, loss = 0.51014592\n",
            "Iteration 241, loss = 0.51051850\n",
            "Iteration 242, loss = 0.51043633\n",
            "Iteration 243, loss = 0.51031883\n",
            "Iteration 244, loss = 0.51072299\n",
            "Iteration 245, loss = 0.51034259\n",
            "Iteration 246, loss = 0.51026707\n",
            "Iteration 247, loss = 0.50968873\n",
            "Iteration 248, loss = 0.50997796\n",
            "Iteration 249, loss = 0.51022569\n",
            "Iteration 250, loss = 0.51043970\n",
            "Iteration 251, loss = 0.50886051\n",
            "Iteration 252, loss = 0.50913223\n",
            "Iteration 253, loss = 0.50885704\n",
            "Iteration 254, loss = 0.50871174\n",
            "Iteration 255, loss = 0.50931721\n",
            "Iteration 256, loss = 0.50881591\n",
            "Iteration 257, loss = 0.50859748\n",
            "Iteration 258, loss = 0.50898543\n",
            "Iteration 259, loss = 0.50799771\n",
            "Iteration 260, loss = 0.50740968\n",
            "Iteration 261, loss = 0.50744423\n",
            "Iteration 262, loss = 0.50741178\n",
            "Iteration 263, loss = 0.50805859\n",
            "Iteration 264, loss = 0.50750138\n",
            "Iteration 265, loss = 0.50785893\n",
            "Iteration 266, loss = 0.50682582\n",
            "Iteration 267, loss = 0.50669522\n",
            "Iteration 268, loss = 0.50661023\n",
            "Iteration 269, loss = 0.50644304\n",
            "Iteration 270, loss = 0.50703784\n",
            "Iteration 271, loss = 0.50720250\n",
            "Iteration 272, loss = 0.50663362\n",
            "Iteration 273, loss = 0.50680077\n",
            "Iteration 274, loss = 0.50649641\n",
            "Iteration 275, loss = 0.50592492\n",
            "Iteration 276, loss = 0.50553217\n",
            "Iteration 277, loss = 0.50527187\n",
            "Iteration 278, loss = 0.50544448\n",
            "Iteration 279, loss = 0.50630118\n",
            "Iteration 280, loss = 0.50564341\n",
            "Iteration 281, loss = 0.50532705\n",
            "Iteration 282, loss = 0.50536049\n",
            "Iteration 283, loss = 0.50585410\n",
            "Iteration 284, loss = 0.50465242\n",
            "Iteration 285, loss = 0.50453464\n",
            "Iteration 286, loss = 0.50415374\n",
            "Iteration 287, loss = 0.50482680\n",
            "Iteration 288, loss = 0.50593908\n",
            "Iteration 289, loss = 0.50420895\n",
            "Iteration 290, loss = 0.50426938\n",
            "Iteration 291, loss = 0.50341722\n",
            "Iteration 292, loss = 0.50406841\n",
            "Iteration 293, loss = 0.50339133\n",
            "Iteration 294, loss = 0.50376569\n",
            "Iteration 295, loss = 0.50334909\n",
            "Iteration 296, loss = 0.50293045\n",
            "Iteration 297, loss = 0.50344973\n",
            "Iteration 298, loss = 0.50442132\n",
            "Iteration 299, loss = 0.50335930\n",
            "Iteration 300, loss = 0.50308334\n",
            "Iteration 301, loss = 0.50246589\n",
            "Iteration 302, loss = 0.50233656\n",
            "Iteration 303, loss = 0.50281223\n",
            "Iteration 304, loss = 0.50318503\n",
            "Iteration 305, loss = 0.50198584\n",
            "Iteration 306, loss = 0.50244532\n",
            "Iteration 307, loss = 0.50233766\n",
            "Iteration 308, loss = 0.50248338\n",
            "Iteration 309, loss = 0.50169177\n",
            "Iteration 310, loss = 0.50172593\n",
            "Iteration 311, loss = 0.50190785\n",
            "Iteration 312, loss = 0.50173521\n",
            "Iteration 313, loss = 0.50215160\n",
            "Iteration 314, loss = 0.50176741\n",
            "Iteration 315, loss = 0.50150726\n",
            "Iteration 316, loss = 0.50090774\n",
            "Iteration 317, loss = 0.50103964\n",
            "Iteration 318, loss = 0.50081731\n",
            "Iteration 319, loss = 0.50070102\n",
            "Iteration 320, loss = 0.50075913\n",
            "Iteration 321, loss = 0.50037298\n",
            "Iteration 322, loss = 0.50050627\n",
            "Iteration 323, loss = 0.50097774\n",
            "Iteration 324, loss = 0.50000273\n",
            "Iteration 325, loss = 0.50031836\n",
            "Iteration 326, loss = 0.50008170\n",
            "Iteration 327, loss = 0.49969009\n",
            "Iteration 328, loss = 0.49964044\n",
            "Iteration 329, loss = 0.50020670\n",
            "Iteration 330, loss = 0.50010096\n",
            "Iteration 331, loss = 0.49909153\n",
            "Iteration 332, loss = 0.49916353\n",
            "Iteration 333, loss = 0.49927008\n",
            "Iteration 334, loss = 0.49935958\n",
            "Iteration 335, loss = 0.49932254\n",
            "Iteration 336, loss = 0.49877244\n",
            "Iteration 337, loss = 0.49863681\n",
            "Iteration 338, loss = 0.49866722\n",
            "Iteration 339, loss = 0.49826678\n",
            "Iteration 340, loss = 0.49837423\n",
            "Iteration 341, loss = 0.49818633\n",
            "Iteration 342, loss = 0.49813629\n",
            "Iteration 343, loss = 0.49824301\n",
            "Iteration 344, loss = 0.49817912\n",
            "Iteration 345, loss = 0.49803785\n",
            "Iteration 346, loss = 0.49768454\n",
            "Iteration 347, loss = 0.49756285\n",
            "Iteration 348, loss = 0.49740663\n",
            "Iteration 349, loss = 0.49719196\n",
            "Iteration 350, loss = 0.49712425\n",
            "Iteration 351, loss = 0.49716367\n",
            "Iteration 352, loss = 0.49808041\n",
            "Iteration 353, loss = 0.49794052\n",
            "Iteration 354, loss = 0.49742284\n",
            "Iteration 355, loss = 0.49720121\n",
            "Iteration 356, loss = 0.49631991\n",
            "Iteration 357, loss = 0.49638056\n",
            "Iteration 358, loss = 0.49685213\n",
            "Iteration 359, loss = 0.49677637\n",
            "Iteration 360, loss = 0.49661878\n",
            "Iteration 361, loss = 0.49639030\n",
            "Iteration 362, loss = 0.49628554\n",
            "Iteration 363, loss = 0.49628338\n",
            "Iteration 364, loss = 0.49582367\n",
            "Iteration 365, loss = 0.49546262\n",
            "Iteration 366, loss = 0.49537598\n",
            "Iteration 367, loss = 0.49577151\n",
            "Iteration 368, loss = 0.49499255\n",
            "Iteration 369, loss = 0.49576201\n",
            "Iteration 370, loss = 0.49606263\n",
            "Iteration 371, loss = 0.49490117\n",
            "Iteration 372, loss = 0.49475707\n",
            "Iteration 373, loss = 0.49488481\n",
            "Iteration 374, loss = 0.49453242\n",
            "Iteration 375, loss = 0.49477220\n",
            "Iteration 376, loss = 0.49469019\n",
            "Iteration 377, loss = 0.49409845\n",
            "Iteration 378, loss = 0.49444146\n",
            "Iteration 379, loss = 0.49436728\n",
            "Iteration 380, loss = 0.49492344\n",
            "Iteration 381, loss = 0.49472273\n",
            "Iteration 382, loss = 0.49414050\n",
            "Iteration 383, loss = 0.49458299\n",
            "Iteration 384, loss = 0.49476779\n",
            "Iteration 385, loss = 0.49355228\n",
            "Iteration 386, loss = 0.49365419\n",
            "Iteration 387, loss = 0.49352110\n",
            "Iteration 388, loss = 0.49318528\n",
            "Iteration 389, loss = 0.49351125\n",
            "Iteration 390, loss = 0.49413510\n",
            "Iteration 391, loss = 0.49326927\n",
            "Iteration 392, loss = 0.49379857\n",
            "Iteration 393, loss = 0.49338681\n",
            "Iteration 394, loss = 0.49304404\n",
            "Iteration 395, loss = 0.49272949\n",
            "Iteration 396, loss = 0.49312373\n",
            "Iteration 397, loss = 0.49217085\n",
            "Iteration 398, loss = 0.49259496\n",
            "Iteration 399, loss = 0.49455067\n",
            "Iteration 400, loss = 0.49467820\n",
            "Iteration 401, loss = 0.49214071\n",
            "Iteration 402, loss = 0.49187096\n",
            "Iteration 403, loss = 0.49199167\n",
            "Iteration 404, loss = 0.49184113\n",
            "Iteration 405, loss = 0.49201115\n",
            "Iteration 406, loss = 0.49113632\n",
            "Iteration 407, loss = 0.49129285\n",
            "Iteration 408, loss = 0.49122255\n",
            "Iteration 409, loss = 0.49094537\n",
            "Iteration 410, loss = 0.49129864\n",
            "Iteration 411, loss = 0.49050815\n",
            "Iteration 412, loss = 0.49053292\n",
            "Iteration 413, loss = 0.49062513\n",
            "Iteration 414, loss = 0.49070750\n",
            "Iteration 415, loss = 0.49047153\n",
            "Iteration 416, loss = 0.49028938\n",
            "Iteration 417, loss = 0.49069991\n",
            "Iteration 418, loss = 0.49048325\n",
            "Iteration 419, loss = 0.48994851\n",
            "Iteration 420, loss = 0.49049080\n",
            "Iteration 421, loss = 0.49021714\n",
            "Iteration 422, loss = 0.49012572\n",
            "Iteration 423, loss = 0.48957194\n",
            "Iteration 424, loss = 0.48930026\n",
            "Iteration 425, loss = 0.49017783\n",
            "Iteration 426, loss = 0.48959780\n",
            "Iteration 427, loss = 0.48948724\n",
            "Iteration 428, loss = 0.48931784\n",
            "Iteration 429, loss = 0.48982202\n",
            "Iteration 430, loss = 0.48919916\n",
            "Iteration 431, loss = 0.48873927\n",
            "Iteration 432, loss = 0.48964044\n",
            "Iteration 433, loss = 0.48813054\n",
            "Iteration 434, loss = 0.48824571\n",
            "Iteration 435, loss = 0.48884430\n",
            "Iteration 436, loss = 0.48925265\n",
            "Iteration 437, loss = 0.48907275\n",
            "Iteration 438, loss = 0.48825467\n",
            "Iteration 439, loss = 0.48791091\n",
            "Iteration 440, loss = 0.48799062\n",
            "Iteration 441, loss = 0.48788371\n",
            "Iteration 442, loss = 0.48870498\n",
            "Iteration 443, loss = 0.48775014\n",
            "Iteration 444, loss = 0.48815287\n",
            "Iteration 445, loss = 0.48898138\n",
            "Iteration 446, loss = 0.48834486\n",
            "Iteration 447, loss = 0.48666579\n",
            "Iteration 448, loss = 0.48726589\n",
            "Iteration 449, loss = 0.48735392\n",
            "Iteration 450, loss = 0.48760934\n",
            "Iteration 451, loss = 0.48715959\n",
            "Iteration 452, loss = 0.48657569\n",
            "Iteration 453, loss = 0.48702940\n",
            "Iteration 454, loss = 0.48833553\n",
            "Iteration 455, loss = 0.48758125\n",
            "Iteration 456, loss = 0.48620335\n",
            "Iteration 457, loss = 0.48720049\n",
            "Iteration 458, loss = 0.48674112\n",
            "Iteration 459, loss = 0.48652523\n",
            "Iteration 460, loss = 0.48647950\n",
            "Iteration 461, loss = 0.48620018\n",
            "Iteration 462, loss = 0.48672297\n",
            "Iteration 463, loss = 0.48656118\n",
            "Iteration 464, loss = 0.48575106\n",
            "Iteration 465, loss = 0.48521268\n",
            "Iteration 466, loss = 0.48518503\n",
            "Iteration 467, loss = 0.48547367\n",
            "Iteration 468, loss = 0.48539390\n",
            "Iteration 469, loss = 0.48544891\n",
            "Iteration 470, loss = 0.48563023\n",
            "Iteration 471, loss = 0.48597136\n",
            "Iteration 472, loss = 0.48508449\n",
            "Iteration 473, loss = 0.48477353\n",
            "Iteration 474, loss = 0.48608003\n",
            "Iteration 475, loss = 0.48515488\n",
            "Iteration 476, loss = 0.48485632\n",
            "Iteration 477, loss = 0.48518761\n",
            "Iteration 478, loss = 0.48517642\n",
            "Iteration 479, loss = 0.48459084\n",
            "Iteration 480, loss = 0.48392670\n",
            "Iteration 481, loss = 0.48433212\n",
            "Iteration 482, loss = 0.48438579\n",
            "Iteration 483, loss = 0.48391770\n",
            "Iteration 484, loss = 0.48474436\n",
            "Iteration 485, loss = 0.48465937\n",
            "Iteration 486, loss = 0.48433193\n",
            "Iteration 487, loss = 0.48468859\n",
            "Iteration 488, loss = 0.48386199\n",
            "Iteration 489, loss = 0.48343258\n",
            "Iteration 490, loss = 0.48338509\n",
            "Iteration 491, loss = 0.48364012\n",
            "Iteration 492, loss = 0.48363624\n",
            "Iteration 493, loss = 0.48346553\n",
            "Iteration 494, loss = 0.48315314\n",
            "Iteration 495, loss = 0.48342666\n",
            "Iteration 496, loss = 0.48357905\n",
            "Iteration 497, loss = 0.48294554\n",
            "Iteration 498, loss = 0.48250179\n",
            "Iteration 499, loss = 0.48321114\n",
            "Iteration 500, loss = 0.48395149\n",
            "Iteration 501, loss = 0.48305892\n",
            "Iteration 502, loss = 0.48340158\n",
            "Iteration 503, loss = 0.48295835\n",
            "Iteration 504, loss = 0.48213522\n",
            "Iteration 505, loss = 0.48311797\n",
            "Iteration 506, loss = 0.48289170\n",
            "Iteration 507, loss = 0.48203391\n",
            "Iteration 508, loss = 0.48173778\n",
            "Iteration 509, loss = 0.48275851\n",
            "Iteration 510, loss = 0.48156990\n",
            "Iteration 511, loss = 0.48164117\n",
            "Iteration 512, loss = 0.48244965\n",
            "Iteration 513, loss = 0.48133744\n",
            "Iteration 514, loss = 0.48121459\n",
            "Iteration 515, loss = 0.48223985\n",
            "Iteration 516, loss = 0.48154417\n",
            "Iteration 517, loss = 0.48163085\n",
            "Iteration 518, loss = 0.48087878\n",
            "Iteration 519, loss = 0.48208082\n",
            "Iteration 520, loss = 0.48122945\n",
            "Iteration 521, loss = 0.48030947\n",
            "Iteration 522, loss = 0.48119563\n",
            "Iteration 523, loss = 0.48028576\n",
            "Iteration 524, loss = 0.48052951\n",
            "Iteration 525, loss = 0.48083261\n",
            "Iteration 526, loss = 0.48055920\n",
            "Iteration 527, loss = 0.48093215\n",
            "Iteration 528, loss = 0.48040898\n",
            "Iteration 529, loss = 0.48088835\n",
            "Iteration 530, loss = 0.47962172\n",
            "Iteration 531, loss = 0.47967120\n",
            "Iteration 532, loss = 0.48053458\n",
            "Iteration 533, loss = 0.48118912\n",
            "Iteration 534, loss = 0.48033235\n",
            "Iteration 535, loss = 0.48085629\n",
            "Iteration 536, loss = 0.47953030\n",
            "Iteration 537, loss = 0.47970666\n",
            "Iteration 538, loss = 0.47938335\n",
            "Iteration 539, loss = 0.47872359\n",
            "Iteration 540, loss = 0.48014516\n",
            "Iteration 541, loss = 0.47907120\n",
            "Iteration 542, loss = 0.47873171\n",
            "Iteration 543, loss = 0.47888014\n",
            "Iteration 544, loss = 0.47890396\n",
            "Iteration 545, loss = 0.47862210\n",
            "Iteration 546, loss = 0.47855169\n",
            "Iteration 547, loss = 0.47868415\n",
            "Iteration 548, loss = 0.47875755\n",
            "Iteration 549, loss = 0.47898345\n",
            "Iteration 550, loss = 0.47871399\n",
            "Iteration 551, loss = 0.47813369\n",
            "Iteration 552, loss = 0.47824602\n",
            "Iteration 553, loss = 0.47762947\n",
            "Iteration 554, loss = 0.47859952\n",
            "Iteration 555, loss = 0.47767789\n",
            "Iteration 556, loss = 0.47805465\n",
            "Iteration 557, loss = 0.47766405\n",
            "Iteration 558, loss = 0.47726835\n",
            "Iteration 559, loss = 0.47708160\n",
            "Iteration 560, loss = 0.47698102\n",
            "Iteration 561, loss = 0.47744963\n",
            "Iteration 562, loss = 0.47662165\n",
            "Iteration 563, loss = 0.47652828\n",
            "Iteration 564, loss = 0.47650710\n",
            "Iteration 565, loss = 0.47814315\n",
            "Iteration 566, loss = 0.47699823\n",
            "Iteration 567, loss = 0.47752185\n",
            "Iteration 568, loss = 0.47640319\n",
            "Iteration 569, loss = 0.47602613\n",
            "Iteration 570, loss = 0.47599493\n",
            "Iteration 571, loss = 0.47589928\n",
            "Iteration 572, loss = 0.47570775\n",
            "Iteration 573, loss = 0.47558889\n",
            "Iteration 574, loss = 0.47544849\n",
            "Iteration 575, loss = 0.47507915\n",
            "Iteration 576, loss = 0.47508132\n",
            "Iteration 577, loss = 0.47541797\n",
            "Iteration 578, loss = 0.47608814\n",
            "Iteration 579, loss = 0.47579451\n",
            "Iteration 580, loss = 0.47451028\n",
            "Iteration 581, loss = 0.47464306\n",
            "Iteration 582, loss = 0.47435275\n",
            "Iteration 583, loss = 0.47513467\n",
            "Iteration 584, loss = 0.47454042\n",
            "Iteration 585, loss = 0.47557326\n",
            "Iteration 586, loss = 0.47586813\n",
            "Iteration 587, loss = 0.47296576\n",
            "Iteration 588, loss = 0.47446853\n",
            "Iteration 589, loss = 0.47315898\n",
            "Iteration 590, loss = 0.47322978\n",
            "Iteration 591, loss = 0.47320121\n",
            "Iteration 592, loss = 0.47310511\n",
            "Iteration 593, loss = 0.47330140\n",
            "Iteration 594, loss = 0.47365587\n",
            "Iteration 595, loss = 0.47271195\n",
            "Iteration 596, loss = 0.47256832\n",
            "Iteration 597, loss = 0.47227663\n",
            "Iteration 598, loss = 0.47239186\n",
            "Iteration 599, loss = 0.47174951\n",
            "Iteration 600, loss = 0.47213541\n",
            "Iteration 601, loss = 0.47183721\n",
            "Iteration 602, loss = 0.47145409\n",
            "Iteration 603, loss = 0.47143280\n",
            "Iteration 604, loss = 0.47116569\n",
            "Iteration 605, loss = 0.47084015\n",
            "Iteration 606, loss = 0.47161239\n",
            "Iteration 607, loss = 0.47114446\n",
            "Iteration 608, loss = 0.47145166\n",
            "Iteration 609, loss = 0.47035905\n",
            "Iteration 610, loss = 0.47012762\n",
            "Iteration 611, loss = 0.46986190\n",
            "Iteration 612, loss = 0.46986752\n",
            "Iteration 613, loss = 0.46994118\n",
            "Iteration 614, loss = 0.47009092\n",
            "Iteration 615, loss = 0.46924454\n",
            "Iteration 616, loss = 0.46992790\n",
            "Iteration 617, loss = 0.47001183\n",
            "Iteration 618, loss = 0.46924142\n",
            "Iteration 619, loss = 0.46977430\n",
            "Iteration 620, loss = 0.46898095\n",
            "Iteration 621, loss = 0.47048673\n",
            "Iteration 622, loss = 0.47009352\n",
            "Iteration 623, loss = 0.46953684\n",
            "Iteration 624, loss = 0.46856491\n",
            "Iteration 625, loss = 0.46879574\n",
            "Iteration 626, loss = 0.46822723\n",
            "Iteration 627, loss = 0.46810775\n",
            "Iteration 628, loss = 0.46928566\n",
            "Iteration 629, loss = 0.46846588\n",
            "Iteration 630, loss = 0.46925357\n",
            "Iteration 631, loss = 0.46889749\n",
            "Iteration 632, loss = 0.46755548\n",
            "Iteration 633, loss = 0.46829459\n",
            "Iteration 634, loss = 0.46727855\n",
            "Iteration 635, loss = 0.46784677\n",
            "Iteration 636, loss = 0.46719149\n",
            "Iteration 637, loss = 0.46719189\n",
            "Iteration 638, loss = 0.46732359\n",
            "Iteration 639, loss = 0.46791299\n",
            "Iteration 640, loss = 0.46776163\n",
            "Iteration 641, loss = 0.46690000\n",
            "Iteration 642, loss = 0.46642297\n",
            "Iteration 643, loss = 0.46646595\n",
            "Iteration 644, loss = 0.46649783\n",
            "Iteration 645, loss = 0.46651425\n",
            "Iteration 646, loss = 0.46604695\n",
            "Iteration 647, loss = 0.46615931\n",
            "Iteration 648, loss = 0.46692783\n",
            "Iteration 649, loss = 0.46739963\n",
            "Iteration 650, loss = 0.46654778\n",
            "Iteration 651, loss = 0.46660289\n",
            "Iteration 652, loss = 0.46613949\n",
            "Iteration 653, loss = 0.46697367\n",
            "Iteration 654, loss = 0.46622357\n",
            "Iteration 655, loss = 0.46795567\n",
            "Iteration 656, loss = 0.46583441\n",
            "Iteration 657, loss = 0.46553696\n",
            "Iteration 658, loss = 0.46619980\n",
            "Iteration 659, loss = 0.46617520\n",
            "Iteration 660, loss = 0.46564414\n",
            "Iteration 661, loss = 0.46485081\n",
            "Iteration 662, loss = 0.46517895\n",
            "Iteration 663, loss = 0.46488955\n",
            "Iteration 664, loss = 0.46457988\n",
            "Iteration 665, loss = 0.46445066\n",
            "Iteration 666, loss = 0.46483857\n",
            "Iteration 667, loss = 0.46511120\n",
            "Iteration 668, loss = 0.46456501\n",
            "Iteration 669, loss = 0.46418103\n",
            "Iteration 670, loss = 0.46481420\n",
            "Iteration 671, loss = 0.46389253\n",
            "Iteration 672, loss = 0.46372184\n",
            "Iteration 673, loss = 0.46402551\n",
            "Iteration 674, loss = 0.46431618\n",
            "Iteration 675, loss = 0.46417521\n",
            "Iteration 676, loss = 0.46511928\n",
            "Iteration 677, loss = 0.46516970\n",
            "Iteration 678, loss = 0.46473048\n",
            "Iteration 679, loss = 0.46546750\n",
            "Iteration 680, loss = 0.46394948\n",
            "Iteration 681, loss = 0.46433341\n",
            "Iteration 682, loss = 0.46336490\n",
            "Iteration 683, loss = 0.46326931\n",
            "Iteration 684, loss = 0.46326125\n",
            "Iteration 685, loss = 0.46317086\n",
            "Iteration 686, loss = 0.46303553\n",
            "Iteration 687, loss = 0.46250433\n",
            "Iteration 688, loss = 0.46319997\n",
            "Iteration 689, loss = 0.46252239\n",
            "Iteration 690, loss = 0.46318980\n",
            "Iteration 691, loss = 0.46305065\n",
            "Iteration 692, loss = 0.46229933\n",
            "Iteration 693, loss = 0.46332206\n",
            "Iteration 694, loss = 0.46307348\n",
            "Iteration 695, loss = 0.46212897\n",
            "Iteration 696, loss = 0.46194454\n",
            "Iteration 697, loss = 0.46232837\n",
            "Iteration 698, loss = 0.46207514\n",
            "Iteration 699, loss = 0.46173085\n",
            "Iteration 700, loss = 0.46144424\n",
            "Iteration 701, loss = 0.46143465\n",
            "Iteration 702, loss = 0.46126032\n",
            "Iteration 703, loss = 0.46090187\n",
            "Iteration 704, loss = 0.46082173\n",
            "Iteration 705, loss = 0.46157623\n",
            "Iteration 706, loss = 0.46244386\n",
            "Iteration 707, loss = 0.46061768\n",
            "Iteration 708, loss = 0.46063586\n",
            "Iteration 709, loss = 0.46168345\n",
            "Iteration 710, loss = 0.46144948\n",
            "Iteration 711, loss = 0.46107445\n",
            "Iteration 712, loss = 0.46048560\n",
            "Iteration 713, loss = 0.46124799\n",
            "Iteration 714, loss = 0.46030457\n",
            "Iteration 715, loss = 0.46012486\n",
            "Iteration 716, loss = 0.46067857\n",
            "Iteration 717, loss = 0.46018370\n",
            "Iteration 718, loss = 0.46006339\n",
            "Iteration 719, loss = 0.46032226\n",
            "Iteration 720, loss = 0.45948991\n",
            "Iteration 721, loss = 0.45945124\n",
            "Iteration 722, loss = 0.45990931\n",
            "Iteration 723, loss = 0.46031016\n",
            "Iteration 724, loss = 0.45917046\n",
            "Iteration 725, loss = 0.46031730\n",
            "Iteration 726, loss = 0.45922418\n",
            "Iteration 727, loss = 0.45999887\n",
            "Iteration 728, loss = 0.45942533\n",
            "Iteration 729, loss = 0.45996340\n",
            "Iteration 730, loss = 0.45930186\n",
            "Iteration 731, loss = 0.45878108\n",
            "Iteration 732, loss = 0.45956116\n",
            "Iteration 733, loss = 0.45865002\n",
            "Iteration 734, loss = 0.45954860\n",
            "Iteration 735, loss = 0.45896038\n",
            "Iteration 736, loss = 0.45942083\n",
            "Iteration 737, loss = 0.45822916\n",
            "Iteration 738, loss = 0.45916427\n",
            "Iteration 739, loss = 0.45816601\n",
            "Iteration 740, loss = 0.45853501\n",
            "Iteration 741, loss = 0.45820107\n",
            "Iteration 742, loss = 0.45830696\n",
            "Iteration 743, loss = 0.45783878\n",
            "Iteration 744, loss = 0.45789882\n",
            "Iteration 745, loss = 0.45787428\n",
            "Iteration 746, loss = 0.45755029\n",
            "Iteration 747, loss = 0.45754945\n",
            "Iteration 748, loss = 0.45750021\n",
            "Iteration 749, loss = 0.45800089\n",
            "Iteration 750, loss = 0.45867108\n",
            "Iteration 751, loss = 0.45745918\n",
            "Iteration 752, loss = 0.45790627\n",
            "Iteration 753, loss = 0.45789409\n",
            "Iteration 754, loss = 0.45757644\n",
            "Iteration 755, loss = 0.45722987\n",
            "Iteration 756, loss = 0.45668830\n",
            "Iteration 757, loss = 0.45701056\n",
            "Iteration 758, loss = 0.45741275\n",
            "Iteration 759, loss = 0.45719699\n",
            "Iteration 760, loss = 0.45683065\n",
            "Iteration 761, loss = 0.45670848\n",
            "Iteration 762, loss = 0.45663896\n",
            "Iteration 763, loss = 0.45666170\n",
            "Iteration 764, loss = 0.45750366\n",
            "Iteration 765, loss = 0.45706604\n",
            "Iteration 766, loss = 0.45648706\n",
            "Iteration 767, loss = 0.45714550\n",
            "Iteration 768, loss = 0.45591050\n",
            "Iteration 769, loss = 0.45611073\n",
            "Iteration 770, loss = 0.45633754\n",
            "Iteration 771, loss = 0.45631654\n",
            "Iteration 772, loss = 0.45631911\n",
            "Iteration 773, loss = 0.45673324\n",
            "Iteration 774, loss = 0.45632563\n",
            "Iteration 775, loss = 0.45605451\n",
            "Iteration 776, loss = 0.45731909\n",
            "Iteration 777, loss = 0.45603237\n",
            "Iteration 778, loss = 0.45519547\n",
            "Iteration 779, loss = 0.45547148\n",
            "Iteration 780, loss = 0.45486975\n",
            "Iteration 781, loss = 0.45518010\n",
            "Iteration 782, loss = 0.45508627\n",
            "Iteration 783, loss = 0.45471023\n",
            "Iteration 784, loss = 0.45528352\n",
            "Iteration 785, loss = 0.45572969\n",
            "Iteration 786, loss = 0.45465499\n",
            "Iteration 787, loss = 0.45453775\n",
            "Iteration 788, loss = 0.45409952\n",
            "Iteration 789, loss = 0.45410850\n",
            "Iteration 790, loss = 0.45414812\n",
            "Iteration 791, loss = 0.45456234\n",
            "Iteration 792, loss = 0.45419306\n",
            "Iteration 793, loss = 0.45373087\n",
            "Iteration 794, loss = 0.45411547\n",
            "Iteration 795, loss = 0.45466541\n",
            "Iteration 796, loss = 0.45425227\n",
            "Iteration 797, loss = 0.45430208\n",
            "Iteration 798, loss = 0.45351530\n",
            "Iteration 799, loss = 0.45392222\n",
            "Iteration 800, loss = 0.45342005\n",
            "Iteration 801, loss = 0.45325543\n",
            "Iteration 802, loss = 0.45308321\n",
            "Iteration 803, loss = 0.45390907\n",
            "Iteration 804, loss = 0.45364288\n",
            "Iteration 805, loss = 0.45313682\n",
            "Iteration 806, loss = 0.45382133\n",
            "Iteration 807, loss = 0.45271664\n",
            "Iteration 808, loss = 0.45285197\n",
            "Iteration 809, loss = 0.45284152\n",
            "Iteration 810, loss = 0.45316985\n",
            "Iteration 811, loss = 0.45217282\n",
            "Iteration 812, loss = 0.45218212\n",
            "Iteration 813, loss = 0.45322897\n",
            "Iteration 814, loss = 0.45226865\n",
            "Iteration 815, loss = 0.45212426\n",
            "Iteration 816, loss = 0.45204184\n",
            "Iteration 817, loss = 0.45204524\n",
            "Iteration 818, loss = 0.45168402\n",
            "Iteration 819, loss = 0.45197203\n",
            "Iteration 820, loss = 0.45217936\n",
            "Iteration 821, loss = 0.45199942\n",
            "Iteration 822, loss = 0.45234086\n",
            "Iteration 823, loss = 0.45199828\n",
            "Iteration 824, loss = 0.45217939\n",
            "Iteration 825, loss = 0.45204963\n",
            "Iteration 826, loss = 0.45170948\n",
            "Iteration 827, loss = 0.45140414\n",
            "Iteration 828, loss = 0.45151020\n",
            "Iteration 829, loss = 0.45155705\n",
            "Iteration 830, loss = 0.45091285\n",
            "Iteration 831, loss = 0.45168832\n",
            "Iteration 832, loss = 0.45099200\n",
            "Iteration 833, loss = 0.45087154\n",
            "Iteration 834, loss = 0.45052210\n",
            "Iteration 835, loss = 0.45085526\n",
            "Iteration 836, loss = 0.45071595\n",
            "Iteration 837, loss = 0.45077735\n",
            "Iteration 838, loss = 0.45120759\n",
            "Iteration 839, loss = 0.45069027\n",
            "Iteration 840, loss = 0.45033155\n",
            "Iteration 841, loss = 0.45029274\n",
            "Iteration 842, loss = 0.45102934\n",
            "Iteration 843, loss = 0.45022756\n",
            "Iteration 844, loss = 0.45040268\n",
            "Iteration 845, loss = 0.44982588\n",
            "Iteration 846, loss = 0.45064555\n",
            "Iteration 847, loss = 0.45070588\n",
            "Iteration 848, loss = 0.44995476\n",
            "Iteration 849, loss = 0.44973233\n",
            "Iteration 850, loss = 0.45070438\n",
            "Iteration 851, loss = 0.45020145\n",
            "Iteration 852, loss = 0.44956173\n",
            "Iteration 853, loss = 0.45054328\n",
            "Iteration 854, loss = 0.45063330\n",
            "Iteration 855, loss = 0.44898292\n",
            "Iteration 856, loss = 0.45000967\n",
            "Iteration 857, loss = 0.45016839\n",
            "Iteration 858, loss = 0.44988012\n",
            "Iteration 859, loss = 0.44931229\n",
            "Iteration 860, loss = 0.44927111\n",
            "Iteration 861, loss = 0.44892829\n",
            "Iteration 862, loss = 0.44838270\n",
            "Iteration 863, loss = 0.44891695\n",
            "Iteration 864, loss = 0.44945707\n",
            "Iteration 865, loss = 0.44980299\n",
            "Iteration 866, loss = 0.44890438\n",
            "Iteration 867, loss = 0.44963724\n",
            "Iteration 868, loss = 0.44900948\n",
            "Iteration 869, loss = 0.44861025\n",
            "Iteration 870, loss = 0.44840600\n",
            "Iteration 871, loss = 0.44815213\n",
            "Iteration 872, loss = 0.44953321\n",
            "Iteration 873, loss = 0.44968608\n",
            "Iteration 874, loss = 0.44778882\n",
            "Iteration 875, loss = 0.44922468\n",
            "Iteration 876, loss = 0.44812072\n",
            "Iteration 877, loss = 0.44770094\n",
            "Iteration 878, loss = 0.44782376\n",
            "Iteration 879, loss = 0.44829861\n",
            "Iteration 880, loss = 0.44741252\n",
            "Iteration 881, loss = 0.44794492\n",
            "Iteration 882, loss = 0.44721549\n",
            "Iteration 883, loss = 0.44763070\n",
            "Iteration 884, loss = 0.44751758\n",
            "Iteration 885, loss = 0.44750777\n",
            "Iteration 886, loss = 0.44708688\n",
            "Iteration 887, loss = 0.44740040\n",
            "Iteration 888, loss = 0.44629928\n",
            "Iteration 889, loss = 0.44934576\n",
            "Iteration 890, loss = 0.44823993\n",
            "Iteration 891, loss = 0.44693652\n",
            "Iteration 892, loss = 0.44640156\n",
            "Iteration 893, loss = 0.44658756\n",
            "Iteration 894, loss = 0.44687144\n",
            "Iteration 895, loss = 0.44626804\n",
            "Iteration 896, loss = 0.44654682\n",
            "Iteration 897, loss = 0.44836969\n",
            "Iteration 898, loss = 0.44774872\n",
            "Iteration 899, loss = 0.44629586\n",
            "Iteration 900, loss = 0.44592790\n",
            "Iteration 901, loss = 0.44613902\n",
            "Iteration 902, loss = 0.44614822\n",
            "Iteration 903, loss = 0.44584862\n",
            "Iteration 904, loss = 0.44564109\n",
            "Iteration 905, loss = 0.44609960\n",
            "Iteration 906, loss = 0.44562500\n",
            "Iteration 907, loss = 0.44581956\n",
            "Iteration 908, loss = 0.44608715\n",
            "Iteration 909, loss = 0.44625260\n",
            "Iteration 910, loss = 0.44503418\n",
            "Iteration 911, loss = 0.44493607\n",
            "Iteration 912, loss = 0.44611686\n",
            "Iteration 913, loss = 0.44538704\n",
            "Iteration 914, loss = 0.44628196\n",
            "Iteration 915, loss = 0.44500704\n",
            "Iteration 916, loss = 0.44583116\n",
            "Iteration 917, loss = 0.44529405\n",
            "Iteration 918, loss = 0.44455380\n",
            "Iteration 919, loss = 0.44468932\n",
            "Iteration 920, loss = 0.44506845\n",
            "Iteration 921, loss = 0.44520190\n",
            "Iteration 922, loss = 0.44502973\n",
            "Iteration 923, loss = 0.44460524\n",
            "Iteration 924, loss = 0.44539871\n",
            "Iteration 925, loss = 0.44393496\n",
            "Iteration 926, loss = 0.44647155\n",
            "Iteration 927, loss = 0.44425371\n",
            "Iteration 928, loss = 0.44403924\n",
            "Iteration 929, loss = 0.44579810\n",
            "Iteration 930, loss = 0.44364743\n",
            "Iteration 931, loss = 0.44503905\n",
            "Iteration 932, loss = 0.44398226\n",
            "Iteration 933, loss = 0.44444881\n",
            "Iteration 934, loss = 0.44312505\n",
            "Iteration 935, loss = 0.44448867\n",
            "Iteration 936, loss = 0.44460909\n",
            "Iteration 937, loss = 0.44387173\n",
            "Iteration 938, loss = 0.44517634\n",
            "Iteration 939, loss = 0.44391226\n",
            "Iteration 940, loss = 0.44335517\n",
            "Iteration 941, loss = 0.44341818\n",
            "Iteration 942, loss = 0.44330845\n",
            "Iteration 943, loss = 0.44303753\n",
            "Iteration 944, loss = 0.44316326\n",
            "Iteration 945, loss = 0.44274942\n",
            "Iteration 946, loss = 0.44305325\n",
            "Iteration 947, loss = 0.44338098\n",
            "Iteration 948, loss = 0.44319907\n",
            "Iteration 949, loss = 0.44263019\n",
            "Iteration 950, loss = 0.44296163\n",
            "Iteration 951, loss = 0.44221663\n",
            "Iteration 952, loss = 0.44275191\n",
            "Iteration 953, loss = 0.44267361\n",
            "Iteration 954, loss = 0.44287357\n",
            "Iteration 955, loss = 0.44313885\n",
            "Iteration 956, loss = 0.44249672\n",
            "Iteration 957, loss = 0.44219150\n",
            "Iteration 958, loss = 0.44206556\n",
            "Iteration 959, loss = 0.44242638\n",
            "Iteration 960, loss = 0.44327670\n",
            "Iteration 961, loss = 0.44145959\n",
            "Iteration 962, loss = 0.44190002\n",
            "Iteration 963, loss = 0.44176505\n",
            "Iteration 964, loss = 0.44200989\n",
            "Iteration 965, loss = 0.44193212\n",
            "Iteration 966, loss = 0.44253705\n",
            "Iteration 967, loss = 0.44149993\n",
            "Iteration 968, loss = 0.44124421\n",
            "Iteration 969, loss = 0.44132608\n",
            "Iteration 970, loss = 0.44078253\n",
            "Iteration 971, loss = 0.44132175\n",
            "Iteration 972, loss = 0.44094099\n",
            "Iteration 973, loss = 0.44088669\n",
            "Iteration 974, loss = 0.44053805\n",
            "Iteration 975, loss = 0.44087282\n",
            "Iteration 976, loss = 0.44082672\n",
            "Iteration 977, loss = 0.44302302\n",
            "Iteration 978, loss = 0.44196861\n",
            "Iteration 979, loss = 0.44054462\n",
            "Iteration 980, loss = 0.44074128\n",
            "Iteration 981, loss = 0.44015920\n",
            "Iteration 982, loss = 0.44101997\n",
            "Iteration 983, loss = 0.44045458\n",
            "Iteration 984, loss = 0.44034007\n",
            "Iteration 985, loss = 0.44260540\n",
            "Iteration 986, loss = 0.44159905\n",
            "Iteration 987, loss = 0.44069439\n",
            "Iteration 988, loss = 0.44069334\n",
            "Iteration 989, loss = 0.43930510\n",
            "Iteration 990, loss = 0.43964201\n",
            "Iteration 991, loss = 0.43934916\n",
            "Iteration 992, loss = 0.43980995\n",
            "Iteration 993, loss = 0.44020437\n",
            "Iteration 994, loss = 0.44018721\n",
            "Iteration 995, loss = 0.44025542\n",
            "Iteration 996, loss = 0.43927615\n",
            "Iteration 997, loss = 0.44007420\n",
            "Iteration 998, loss = 0.43915541\n",
            "Iteration 999, loss = 0.44011638\n",
            "Iteration 1000, loss = 0.44064750\n",
            "Iteration 1001, loss = 0.44048551\n",
            "Iteration 1002, loss = 0.43981139\n",
            "Iteration 1003, loss = 0.43991632\n",
            "Iteration 1004, loss = 0.44062281\n",
            "Iteration 1005, loss = 0.44038948\n",
            "Iteration 1006, loss = 0.43875303\n",
            "Iteration 1007, loss = 0.43944848\n",
            "Iteration 1008, loss = 0.43922487\n",
            "Iteration 1009, loss = 0.43850211\n",
            "Iteration 1010, loss = 0.43868311\n",
            "Iteration 1011, loss = 0.44082245\n",
            "Iteration 1012, loss = 0.43872889\n",
            "Iteration 1013, loss = 0.43823429\n",
            "Iteration 1014, loss = 0.43823512\n",
            "Iteration 1015, loss = 0.43841699\n",
            "Iteration 1016, loss = 0.43797842\n",
            "Iteration 1017, loss = 0.43819118\n",
            "Iteration 1018, loss = 0.44121885\n",
            "Iteration 1019, loss = 0.43787516\n",
            "Iteration 1020, loss = 0.43817643\n",
            "Iteration 1021, loss = 0.43825857\n",
            "Iteration 1022, loss = 0.43820237\n",
            "Iteration 1023, loss = 0.43825416\n",
            "Iteration 1024, loss = 0.43835842\n",
            "Iteration 1025, loss = 0.43781590\n",
            "Iteration 1026, loss = 0.43726717\n",
            "Iteration 1027, loss = 0.43794420\n",
            "Iteration 1028, loss = 0.43766546\n",
            "Iteration 1029, loss = 0.43700968\n",
            "Iteration 1030, loss = 0.43760257\n",
            "Iteration 1031, loss = 0.43705953\n",
            "Iteration 1032, loss = 0.43669754\n",
            "Iteration 1033, loss = 0.43752074\n",
            "Iteration 1034, loss = 0.43811495\n",
            "Iteration 1035, loss = 0.43727488\n",
            "Iteration 1036, loss = 0.43687799\n",
            "Iteration 1037, loss = 0.43748143\n",
            "Iteration 1038, loss = 0.43679461\n",
            "Iteration 1039, loss = 0.43715833\n",
            "Iteration 1040, loss = 0.43733299\n",
            "Iteration 1041, loss = 0.43709934\n",
            "Iteration 1042, loss = 0.43725173\n",
            "Iteration 1043, loss = 0.43744780\n",
            "Training loss did not improve more than tol=0.000010 for 10 consecutive epochs. Stopping.\n"
          ]
        },
        {
          "data": {
            "text/plain": [
              "MLPClassifier(hidden_layer_sizes=(20, 20), max_iter=1500, tol=1e-05,\n",
              "              verbose=True)"
            ]
          },
          "execution_count": 50,
          "metadata": {},
          "output_type": "execute_result"
        }
      ],
      "source": [
        "rede_neural_credit = MLPClassifier(max_iter=1500, verbose=True, tol=0.0000100,\n",
        "                                   solver = 'adam', activation = 'relu',\n",
        "                                   hidden_layer_sizes = (20,20))\n",
        "rede_neural_credit.fit(x_water_treinamento, y_water_treinamento)"
      ]
    },
    {
      "cell_type": "code",
      "execution_count": null,
      "metadata": {
        "colab": {
          "base_uri": "https://localhost:8080/"
        },
        "id": "gY59p7WtksM0",
        "outputId": "84e21b77-065d-43a5-fc44-397409b2f3a8"
      },
      "outputs": [
        {
          "data": {
            "text/plain": [
              "array([0, 0, 1, 0, 0, 0, 0, 1, 1, 0, 0, 0, 0, 1, 0, 0, 0, 0, 1, 0, 1, 0,\n",
              "       1, 0, 1, 0, 1, 0, 1, 0, 1, 1, 0, 0, 0, 1, 0, 0, 0, 0, 0, 1, 0, 0,\n",
              "       0, 0, 0, 1, 0, 0, 0, 0, 0, 0, 0, 1, 0, 1, 0, 0, 0, 1, 0, 0, 1, 0,\n",
              "       0, 0, 0, 0, 0, 0, 1, 1, 1, 1, 0, 0, 1, 0, 0, 0, 1, 0, 0, 0, 0, 1,\n",
              "       0, 1, 0, 1, 0, 0, 0, 0, 0, 1, 0, 1, 0, 0, 0, 0, 1, 0, 0, 1, 0, 1,\n",
              "       0, 0, 0, 1, 0, 0, 0, 0, 1, 0, 0, 0, 0, 0, 0, 0, 0, 1, 0, 1, 1, 0,\n",
              "       0, 0, 0, 0, 0, 1, 0, 0, 0, 0, 1, 0, 1, 1, 0, 0, 0, 0, 0, 1, 0, 1,\n",
              "       1, 0, 0, 0, 0, 0, 0, 0, 0, 0, 1, 1, 0, 0, 0, 1, 0, 1, 0, 0, 0, 0,\n",
              "       1, 0, 1, 1, 0, 1, 0, 0, 0, 0, 1, 0, 1, 0, 1, 0, 0, 0, 0, 0, 0, 1,\n",
              "       0, 1, 0, 1, 0, 0, 1, 1, 0, 0, 0, 1, 1, 0, 0, 0, 0, 0, 0, 1, 0, 1,\n",
              "       0, 1, 0, 0, 0, 0, 0, 1, 0, 0, 0, 0, 0, 1, 0, 0, 0, 0, 1, 0, 0, 0,\n",
              "       1, 1, 1, 1, 1, 1, 0, 1, 1, 0, 0, 1, 0, 0, 0, 1, 0, 0, 0, 0, 1, 0,\n",
              "       0, 0, 0, 0, 0, 0, 0, 0, 1, 1, 0, 1, 0, 1, 1, 0, 0, 0, 1, 0, 0, 0,\n",
              "       0, 1, 0, 0, 1, 1, 1, 0, 0, 1, 0, 1, 0, 0, 0, 1, 1, 1, 0, 0, 0, 1,\n",
              "       1, 0, 1, 1, 0, 0, 0, 1, 0, 1, 1, 0, 1, 0, 0, 1, 1, 0, 0, 0, 0, 1,\n",
              "       0, 0, 1, 1, 0, 1, 0, 0, 0, 1, 1, 0, 0, 0, 0, 0, 1, 0, 0, 0, 1, 0,\n",
              "       0, 1, 1, 0, 0, 1, 0, 0, 0, 0, 0, 0, 0, 0, 1, 0, 1, 0, 0, 0, 0, 0,\n",
              "       0, 0, 0, 1, 0, 0, 0, 0, 0, 1, 0, 1, 0, 0, 0, 0, 1, 0, 0, 0, 0, 0,\n",
              "       1, 0, 0, 0, 0, 0, 0, 1, 0, 0, 1, 0, 0, 0, 0, 0, 0, 0, 1, 1, 1, 0,\n",
              "       1, 0, 0, 0, 1, 1, 0, 0, 0, 0, 0, 1, 1, 0, 0, 1, 0, 0, 0, 1, 1, 1,\n",
              "       0, 1, 0, 0, 0, 0, 0, 0, 0, 0, 0, 0, 0, 1, 0, 1, 0, 0, 0, 0, 0, 0,\n",
              "       0, 0, 0, 0, 1, 0, 1, 0, 0, 1, 1, 1, 0, 0, 0, 0, 0, 0, 0, 0, 0, 0,\n",
              "       0, 0, 0, 0, 0, 0, 0, 1])"
            ]
          },
          "execution_count": 51,
          "metadata": {},
          "output_type": "execute_result"
        }
      ],
      "source": [
        "previsoes = rede_neural_credit.predict(x_water_teste)\n",
        "previsoes"
      ]
    },
    {
      "cell_type": "code",
      "execution_count": null,
      "metadata": {
        "colab": {
          "base_uri": "https://localhost:8080/"
        },
        "id": "9Vt007WblJuk",
        "outputId": "6978646c-9403-4504-f01b-b4611b52550c"
      },
      "outputs": [
        {
          "data": {
            "text/plain": [
              "0.6422764227642277"
            ]
          },
          "execution_count": 52,
          "metadata": {},
          "output_type": "execute_result"
        }
      ],
      "source": [
        "accuracy_score(y_water_teste, previsoes)"
      ]
    },
    {
      "cell_type": "markdown",
      "metadata": {
        "id": "s9GetjYI327F"
      },
      "source": [
        "### Tuning dos parâmetros com GridSearch"
      ]
    },
    {
      "cell_type": "code",
      "execution_count": null,
      "metadata": {
        "id": "vuti8F6P34aA"
      },
      "outputs": [],
      "source": [
        "from sklearn.model_selection import GridSearchCV\n",
        "from sklearn.tree import DecisionTreeClassifier\n",
        "from sklearn.ensemble import RandomForestClassifier\n",
        "from sklearn.neighbors import KNeighborsClassifier\n",
        "from sklearn.linear_model import LogisticRegression\n",
        "from sklearn.svm import SVC\n",
        "from sklearn.neural_network import MLPClassifier"
      ]
    },
    {
      "cell_type": "code",
      "execution_count": null,
      "metadata": {
        "id": "eAbAAf6Y39ZE"
      },
      "outputs": [],
      "source": [
        "parametros = {'criterion': ['gini', 'entropy'],\n",
        "              'splitter': ['best', 'random'],\n",
        "              'min_samples_split': [2, 5, 10],\n",
        "              'min_samples_leaf': [1, 5, 10]}"
      ]
    },
    {
      "cell_type": "code",
      "execution_count": null,
      "metadata": {
        "colab": {
          "base_uri": "https://localhost:8080/"
        },
        "id": "ZrotwLiC4EYB",
        "outputId": "8328c7c0-f4e6-45e1-eb1d-158fb40d281c"
      },
      "outputs": [
        {
          "name": "stdout",
          "output_type": "stream",
          "text": [
            "{'criterion': 'gini', 'min_samples_leaf': 10, 'min_samples_split': 2, 'splitter': 'random'}\n",
            "0.5934095140569726\n"
          ]
        }
      ],
      "source": [
        "grid_search = GridSearchCV(estimator=DecisionTreeClassifier(), param_grid=parametros)\n",
        "grid_search.fit(x_water, y_water)\n",
        "melhores_parametros = grid_search.best_params_\n",
        "melhor_resultado = grid_search.best_score_\n",
        "print(melhores_parametros)\n",
        "print(melhor_resultado)"
      ]
    },
    {
      "cell_type": "code",
      "execution_count": null,
      "metadata": {
        "id": "dCoJDrrP4RrY"
      },
      "outputs": [],
      "source": [
        "parametros = {'criterion': ['gini', 'entropy'],\n",
        "              'n_estimators': [10, 40, 100, 150],\n",
        "              'min_samples_split': [2, 5, 10],\n",
        "              'min_samples_leaf': [1, 5, 10]}"
      ]
    },
    {
      "cell_type": "code",
      "execution_count": null,
      "metadata": {
        "id": "4LL70SVN4UUn"
      },
      "outputs": [],
      "source": [
        "grid_search = GridSearchCV(estimator=RandomForestClassifier(), param_grid=parametros)\n",
        "grid_search.fit(x_water, y_water)\n",
        "melhores_parametros = grid_search.best_params_\n",
        "melhor_resultado = grid_search.best_score_\n",
        "print(melhores_parametros)\n",
        "print(melhor_resultado)"
      ]
    },
    {
      "cell_type": "code",
      "execution_count": null,
      "metadata": {
        "id": "4oCn2W1x4YR8"
      },
      "outputs": [],
      "source": [
        "parametros = {'tol': [0.001, 0.0001, 0.00001],\n",
        "              'C': [1.0, 1.5, 2.0],\n",
        "              'kernel': ['rbf', 'linear', 'poly', 'sigmoid']}"
      ]
    },
    {
      "cell_type": "code",
      "execution_count": null,
      "metadata": {
        "id": "lkDn5UNl4bJ6"
      },
      "outputs": [],
      "source": []
    },
    {
      "cell_type": "code",
      "execution_count": null,
      "metadata": {
        "id": "uWsQUBTv4csi"
      },
      "outputs": [],
      "source": [
        "grid_search = GridSearchCV(estimator=SVC(), param_grid=parametros)\n",
        "grid_search.fit(x_water, y_water)\n",
        "melhores_parametros = grid_search.best_params_\n",
        "melhor_resultado = grid_search.best_score_\n",
        "print(melhores_parametros)\n",
        "print(melhor_resultado)"
      ]
    },
    {
      "cell_type": "code",
      "execution_count": null,
      "metadata": {
        "id": "Q4te6SKZ4h8Q"
      },
      "outputs": [],
      "source": [
        "parametros = {'activation': ['relu', 'logistic', 'tahn'],\n",
        "              'solver': ['adam', 'sgd'],\n",
        "              'batch_size': [10, 56]}"
      ]
    },
    {
      "cell_type": "code",
      "execution_count": null,
      "metadata": {
        "id": "I6oSa9p_4jVY"
      },
      "outputs": [],
      "source": [
        "grid_search = GridSearchCV(estimator=MLPClassifier(), param_grid=parametros)\n",
        "grid_search.fit(x_water, y_water)\n",
        "melhores_parametros = grid_search.best_params_\n",
        "melhor_resultado = grid_search.best_score_"
      ]
    },
    {
      "cell_type": "code",
      "execution_count": null,
      "metadata": {
        "id": "rCYKQJLO4p-p"
      },
      "outputs": [],
      "source": [
        "from sklearn.model_selection import cross_val_score, KFold"
      ]
    },
    {
      "cell_type": "code",
      "execution_count": null,
      "metadata": {
        "id": "rlF6swhe4sv6"
      },
      "outputs": [],
      "source": [
        "resultados_arvore = []\n",
        "resultados_random_forest = []\n",
        "resultados_svm = []\n",
        "resultados_rede_neural = []\n",
        "\n",
        "for i in range(30):\n",
        "  print(i)\n",
        "  kfold = KFold(n_splits=10, shuffle=True, random_state=i)\n",
        "\n",
        "  arvore = DecisionTreeClassifier(criterion='entropy', min_samples_leaf=1, min_samples_split=5, splitter='best')\n",
        "  scores = cross_val_score(arvore, x_water, y_water, cv = kfold)\n",
        "  #print(scores)\n",
        "  #print(scores.mean())\n",
        "  resultados_arvore.append(scores.mean())\n",
        "\n",
        "  random_forest = RandomForestClassifier(criterion = 'entropy', min_samples_leaf = 1, min_samples_split=5, n_estimators = 10)\n",
        "  scores = cross_val_score(random_forest, X_water, y_water, cv = kfold)\n",
        "  resultados_random_forest.append(scores.mean())\n",
        "\n",
        "  knn = KNeighborsClassifier()\n",
        "  scores = cross_val_score(knn, X_water, y_water, cv = kfold)\n",
        "  resultados_knn.append(scores.mean())\n",
        "\n",
        "  logistica = LogisticRegression(C = 1.0, solver = 'lbfgs', tol = 0.0001)\n",
        "  scores = cross_val_score(logistica, x_water, y_water, cv = kfold)\n",
        "  resultados_logistica.append(scores.mean())\n",
        "\n",
        "  svm = SVC(kernel = 'rbf', C = 2.0)\n",
        "  scores = cross_val_score(svm, x_water, y_water, cv = kfold)\n",
        "  resultados_svm.append(scores.mean())\n",
        "\n",
        "  rede_neural = MLPClassifier(activation = 'relu', batch_size = 56, solver = 'adam')\n",
        "  scores = cross_val_score(rede_neural, x_water, y_water, cv = kfold)\n",
        "  resultados_rede_neural.append(scores.mean())\n"
      ]
    },
    {
      "cell_type": "code",
      "execution_count": null,
      "metadata": {
        "id": "kXguh_hb4ujO"
      },
      "outputs": [],
      "source": [
        "resultados = pd.DataFrame({'Arvore': resultados_arvore, 'Random forest': resultados_random_forest,\n",
        "                           'SVM': resultados_svm, 'Rede neural': resultados_rede_neural})\n",
        "resultados"
      ]
    }
  ],
  "metadata": {
    "colab": {
      "toc_visible": true,
      "provenance": [],
      "authorship_tag": "ABX9TyMo9782J8XRPYm1rS3I+vWE",
      "include_colab_link": true
    },
    "kernelspec": {
      "display_name": "Python 3",
      "name": "python3"
    },
    "language_info": {
      "name": "python"
    }
  },
  "nbformat": 4,
  "nbformat_minor": 0
}