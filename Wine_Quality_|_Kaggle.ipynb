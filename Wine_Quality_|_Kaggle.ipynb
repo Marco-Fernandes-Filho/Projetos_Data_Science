{
  "nbformat": 4,
  "nbformat_minor": 0,
  "metadata": {
    "colab": {
      "provenance": [],
      "toc_visible": true,
      "mount_file_id": "1aRCe0_YWtEu6DPgdnX0G-aA9fkOTtysz",
      "authorship_tag": "ABX9TyPPL66bEWKnG24Ut4M1AOUq",
      "include_colab_link": true
    },
    "kernelspec": {
      "name": "python3",
      "display_name": "Python 3"
    },
    "language_info": {
      "name": "python"
    },
    "accelerator": "GPU",
    "gpuClass": "standard"
  },
  "cells": [
    {
      "cell_type": "markdown",
      "metadata": {
        "id": "view-in-github",
        "colab_type": "text"
      },
      "source": [
        "<a href=\"https://colab.research.google.com/github/Marco-Fernandes-Filho/Projetos_Data_Science/blob/main/Wine_Quality_%7C_Kaggle.ipynb\" target=\"_parent\"><img src=\"https://colab.research.google.com/assets/colab-badge.svg\" alt=\"Open In Colab\"/></a>"
      ]
    },
    {
      "cell_type": "markdown",
      "source": [
        "https://www.kaggle.com/datasets/uciml/red-wine-quality-cortez-et-al-2009"
      ],
      "metadata": {
        "id": "i_0Mgx2IDk8p"
      }
    },
    {
      "cell_type": "markdown",
      "source": [
        "#Goal\n",
        "\n",
        "The idea here is to find out the weight of each predictive for the classification of wine. Determine which characteristics are most indicative for a good quality wine.\n",
        "\n",
        "Objetivo\n",
        "\n",
        "A ideia aqui é descobri o peso de cada preditivo para a classificação do vinho. Determinar quais características são mais indicativas para um vinho de boa qualidade.\n",
        "\n"
      ],
      "metadata": {
        "id": "knr0-_ZWFePd"
      }
    },
    {
      "cell_type": "markdown",
      "source": [
        "# Importing required packages"
      ],
      "metadata": {
        "id": "6u1X3wHoGGju"
      }
    },
    {
      "cell_type": "code",
      "source": [
        "import numpy as np \n",
        "import pandas as pd \n",
        "import matplotlib as plt \n",
        "import seaborn as sns \n",
        "import plotly.express as px"
      ],
      "metadata": {
        "id": "bSV8uIMLDlzL"
      },
      "execution_count": null,
      "outputs": []
    },
    {
      "cell_type": "markdown",
      "source": [
        "#Loading dataset"
      ],
      "metadata": {
        "id": "p5kHVDP8GRP3"
      }
    },
    {
      "cell_type": "code",
      "source": [
        "data_wine = pd.read_csv('/content/drive/MyDrive/Data - Colab/winequality-red.csv')"
      ],
      "metadata": {
        "id": "JM5xASO0DrZr"
      },
      "execution_count": null,
      "outputs": []
    },
    {
      "cell_type": "markdown",
      "source": [
        "# Data Exploration"
      ],
      "metadata": {
        "id": "Qn8dIiOKGPnR"
      }
    },
    {
      "cell_type": "code",
      "source": [
        "data_wine.head(5)"
      ],
      "metadata": {
        "id": "inoSNtIjEN8Y",
        "colab": {
          "base_uri": "https://localhost:8080/",
          "height": 267
        },
        "outputId": "e9231dc1-76e3-4364-de35-72424c9fb04f"
      },
      "execution_count": null,
      "outputs": [
        {
          "output_type": "execute_result",
          "data": {
            "text/plain": [
              "   fixed acidity  volatile acidity  citric acid  residual sugar  chlorides  \\\n",
              "0            7.4              0.70         0.00             1.9      0.076   \n",
              "1            7.8              0.88         0.00             2.6      0.098   \n",
              "2            7.8              0.76         0.04             2.3      0.092   \n",
              "3           11.2              0.28         0.56             1.9      0.075   \n",
              "4            7.4              0.70         0.00             1.9      0.076   \n",
              "\n",
              "   free sulfur dioxide  total sulfur dioxide  density    pH  sulphates  \\\n",
              "0                 11.0                  34.0   0.9978  3.51       0.56   \n",
              "1                 25.0                  67.0   0.9968  3.20       0.68   \n",
              "2                 15.0                  54.0   0.9970  3.26       0.65   \n",
              "3                 17.0                  60.0   0.9980  3.16       0.58   \n",
              "4                 11.0                  34.0   0.9978  3.51       0.56   \n",
              "\n",
              "   alcohol  quality  \n",
              "0      9.4        5  \n",
              "1      9.8        5  \n",
              "2      9.8        5  \n",
              "3      9.8        6  \n",
              "4      9.4        5  "
            ],
            "text/html": [
              "\n",
              "  <div id=\"df-4e129524-87de-4b53-94a9-68cd8a2e0d6c\">\n",
              "    <div class=\"colab-df-container\">\n",
              "      <div>\n",
              "<style scoped>\n",
              "    .dataframe tbody tr th:only-of-type {\n",
              "        vertical-align: middle;\n",
              "    }\n",
              "\n",
              "    .dataframe tbody tr th {\n",
              "        vertical-align: top;\n",
              "    }\n",
              "\n",
              "    .dataframe thead th {\n",
              "        text-align: right;\n",
              "    }\n",
              "</style>\n",
              "<table border=\"1\" class=\"dataframe\">\n",
              "  <thead>\n",
              "    <tr style=\"text-align: right;\">\n",
              "      <th></th>\n",
              "      <th>fixed acidity</th>\n",
              "      <th>volatile acidity</th>\n",
              "      <th>citric acid</th>\n",
              "      <th>residual sugar</th>\n",
              "      <th>chlorides</th>\n",
              "      <th>free sulfur dioxide</th>\n",
              "      <th>total sulfur dioxide</th>\n",
              "      <th>density</th>\n",
              "      <th>pH</th>\n",
              "      <th>sulphates</th>\n",
              "      <th>alcohol</th>\n",
              "      <th>quality</th>\n",
              "    </tr>\n",
              "  </thead>\n",
              "  <tbody>\n",
              "    <tr>\n",
              "      <th>0</th>\n",
              "      <td>7.4</td>\n",
              "      <td>0.70</td>\n",
              "      <td>0.00</td>\n",
              "      <td>1.9</td>\n",
              "      <td>0.076</td>\n",
              "      <td>11.0</td>\n",
              "      <td>34.0</td>\n",
              "      <td>0.9978</td>\n",
              "      <td>3.51</td>\n",
              "      <td>0.56</td>\n",
              "      <td>9.4</td>\n",
              "      <td>5</td>\n",
              "    </tr>\n",
              "    <tr>\n",
              "      <th>1</th>\n",
              "      <td>7.8</td>\n",
              "      <td>0.88</td>\n",
              "      <td>0.00</td>\n",
              "      <td>2.6</td>\n",
              "      <td>0.098</td>\n",
              "      <td>25.0</td>\n",
              "      <td>67.0</td>\n",
              "      <td>0.9968</td>\n",
              "      <td>3.20</td>\n",
              "      <td>0.68</td>\n",
              "      <td>9.8</td>\n",
              "      <td>5</td>\n",
              "    </tr>\n",
              "    <tr>\n",
              "      <th>2</th>\n",
              "      <td>7.8</td>\n",
              "      <td>0.76</td>\n",
              "      <td>0.04</td>\n",
              "      <td>2.3</td>\n",
              "      <td>0.092</td>\n",
              "      <td>15.0</td>\n",
              "      <td>54.0</td>\n",
              "      <td>0.9970</td>\n",
              "      <td>3.26</td>\n",
              "      <td>0.65</td>\n",
              "      <td>9.8</td>\n",
              "      <td>5</td>\n",
              "    </tr>\n",
              "    <tr>\n",
              "      <th>3</th>\n",
              "      <td>11.2</td>\n",
              "      <td>0.28</td>\n",
              "      <td>0.56</td>\n",
              "      <td>1.9</td>\n",
              "      <td>0.075</td>\n",
              "      <td>17.0</td>\n",
              "      <td>60.0</td>\n",
              "      <td>0.9980</td>\n",
              "      <td>3.16</td>\n",
              "      <td>0.58</td>\n",
              "      <td>9.8</td>\n",
              "      <td>6</td>\n",
              "    </tr>\n",
              "    <tr>\n",
              "      <th>4</th>\n",
              "      <td>7.4</td>\n",
              "      <td>0.70</td>\n",
              "      <td>0.00</td>\n",
              "      <td>1.9</td>\n",
              "      <td>0.076</td>\n",
              "      <td>11.0</td>\n",
              "      <td>34.0</td>\n",
              "      <td>0.9978</td>\n",
              "      <td>3.51</td>\n",
              "      <td>0.56</td>\n",
              "      <td>9.4</td>\n",
              "      <td>5</td>\n",
              "    </tr>\n",
              "  </tbody>\n",
              "</table>\n",
              "</div>\n",
              "      <button class=\"colab-df-convert\" onclick=\"convertToInteractive('df-4e129524-87de-4b53-94a9-68cd8a2e0d6c')\"\n",
              "              title=\"Convert this dataframe to an interactive table.\"\n",
              "              style=\"display:none;\">\n",
              "        \n",
              "  <svg xmlns=\"http://www.w3.org/2000/svg\" height=\"24px\"viewBox=\"0 0 24 24\"\n",
              "       width=\"24px\">\n",
              "    <path d=\"M0 0h24v24H0V0z\" fill=\"none\"/>\n",
              "    <path d=\"M18.56 5.44l.94 2.06.94-2.06 2.06-.94-2.06-.94-.94-2.06-.94 2.06-2.06.94zm-11 1L8.5 8.5l.94-2.06 2.06-.94-2.06-.94L8.5 2.5l-.94 2.06-2.06.94zm10 10l.94 2.06.94-2.06 2.06-.94-2.06-.94-.94-2.06-.94 2.06-2.06.94z\"/><path d=\"M17.41 7.96l-1.37-1.37c-.4-.4-.92-.59-1.43-.59-.52 0-1.04.2-1.43.59L10.3 9.45l-7.72 7.72c-.78.78-.78 2.05 0 2.83L4 21.41c.39.39.9.59 1.41.59.51 0 1.02-.2 1.41-.59l7.78-7.78 2.81-2.81c.8-.78.8-2.07 0-2.86zM5.41 20L4 18.59l7.72-7.72 1.47 1.35L5.41 20z\"/>\n",
              "  </svg>\n",
              "      </button>\n",
              "      \n",
              "  <style>\n",
              "    .colab-df-container {\n",
              "      display:flex;\n",
              "      flex-wrap:wrap;\n",
              "      gap: 12px;\n",
              "    }\n",
              "\n",
              "    .colab-df-convert {\n",
              "      background-color: #E8F0FE;\n",
              "      border: none;\n",
              "      border-radius: 50%;\n",
              "      cursor: pointer;\n",
              "      display: none;\n",
              "      fill: #1967D2;\n",
              "      height: 32px;\n",
              "      padding: 0 0 0 0;\n",
              "      width: 32px;\n",
              "    }\n",
              "\n",
              "    .colab-df-convert:hover {\n",
              "      background-color: #E2EBFA;\n",
              "      box-shadow: 0px 1px 2px rgba(60, 64, 67, 0.3), 0px 1px 3px 1px rgba(60, 64, 67, 0.15);\n",
              "      fill: #174EA6;\n",
              "    }\n",
              "\n",
              "    [theme=dark] .colab-df-convert {\n",
              "      background-color: #3B4455;\n",
              "      fill: #D2E3FC;\n",
              "    }\n",
              "\n",
              "    [theme=dark] .colab-df-convert:hover {\n",
              "      background-color: #434B5C;\n",
              "      box-shadow: 0px 1px 3px 1px rgba(0, 0, 0, 0.15);\n",
              "      filter: drop-shadow(0px 1px 2px rgba(0, 0, 0, 0.3));\n",
              "      fill: #FFFFFF;\n",
              "    }\n",
              "  </style>\n",
              "\n",
              "      <script>\n",
              "        const buttonEl =\n",
              "          document.querySelector('#df-4e129524-87de-4b53-94a9-68cd8a2e0d6c button.colab-df-convert');\n",
              "        buttonEl.style.display =\n",
              "          google.colab.kernel.accessAllowed ? 'block' : 'none';\n",
              "\n",
              "        async function convertToInteractive(key) {\n",
              "          const element = document.querySelector('#df-4e129524-87de-4b53-94a9-68cd8a2e0d6c');\n",
              "          const dataTable =\n",
              "            await google.colab.kernel.invokeFunction('convertToInteractive',\n",
              "                                                     [key], {});\n",
              "          if (!dataTable) return;\n",
              "\n",
              "          const docLinkHtml = 'Like what you see? Visit the ' +\n",
              "            '<a target=\"_blank\" href=https://colab.research.google.com/notebooks/data_table.ipynb>data table notebook</a>'\n",
              "            + ' to learn more about interactive tables.';\n",
              "          element.innerHTML = '';\n",
              "          dataTable['output_type'] = 'display_data';\n",
              "          await google.colab.output.renderOutput(dataTable, element);\n",
              "          const docLink = document.createElement('div');\n",
              "          docLink.innerHTML = docLinkHtml;\n",
              "          element.appendChild(docLink);\n",
              "        }\n",
              "      </script>\n",
              "    </div>\n",
              "  </div>\n",
              "  "
            ]
          },
          "metadata": {},
          "execution_count": 42
        }
      ]
    },
    {
      "cell_type": "code",
      "source": [
        "data_wine.info()"
      ],
      "metadata": {
        "id": "Ki3QarOfD6Oc",
        "colab": {
          "base_uri": "https://localhost:8080/"
        },
        "outputId": "2e1b7692-a6eb-4ef0-994d-026827f6b1b2"
      },
      "execution_count": null,
      "outputs": [
        {
          "output_type": "stream",
          "name": "stdout",
          "text": [
            "<class 'pandas.core.frame.DataFrame'>\n",
            "RangeIndex: 1599 entries, 0 to 1598\n",
            "Data columns (total 12 columns):\n",
            " #   Column                Non-Null Count  Dtype  \n",
            "---  ------                --------------  -----  \n",
            " 0   fixed acidity         1599 non-null   float64\n",
            " 1   volatile acidity      1599 non-null   float64\n",
            " 2   citric acid           1599 non-null   float64\n",
            " 3   residual sugar        1599 non-null   float64\n",
            " 4   chlorides             1599 non-null   float64\n",
            " 5   free sulfur dioxide   1599 non-null   float64\n",
            " 6   total sulfur dioxide  1599 non-null   float64\n",
            " 7   density               1599 non-null   float64\n",
            " 8   pH                    1599 non-null   float64\n",
            " 9   sulphates             1599 non-null   float64\n",
            " 10  alcohol               1599 non-null   float64\n",
            " 11  quality               1599 non-null   int64  \n",
            "dtypes: float64(11), int64(1)\n",
            "memory usage: 150.0 KB\n"
          ]
        }
      ]
    },
    {
      "cell_type": "code",
      "source": [
        "data_wine.describe()"
      ],
      "metadata": {
        "id": "PAfBdF0GD7Vu",
        "colab": {
          "base_uri": "https://localhost:8080/",
          "height": 399
        },
        "outputId": "476d451c-e4e9-41f3-f921-18634e515c19"
      },
      "execution_count": null,
      "outputs": [
        {
          "output_type": "execute_result",
          "data": {
            "text/plain": [
              "       fixed acidity  volatile acidity  citric acid  residual sugar  \\\n",
              "count    1599.000000       1599.000000  1599.000000     1599.000000   \n",
              "mean        8.319637          0.527821     0.270976        2.538806   \n",
              "std         1.741096          0.179060     0.194801        1.409928   \n",
              "min         4.600000          0.120000     0.000000        0.900000   \n",
              "25%         7.100000          0.390000     0.090000        1.900000   \n",
              "50%         7.900000          0.520000     0.260000        2.200000   \n",
              "75%         9.200000          0.640000     0.420000        2.600000   \n",
              "max        15.900000          1.580000     1.000000       15.500000   \n",
              "\n",
              "         chlorides  free sulfur dioxide  total sulfur dioxide      density  \\\n",
              "count  1599.000000          1599.000000           1599.000000  1599.000000   \n",
              "mean      0.087467            15.874922             46.467792     0.996747   \n",
              "std       0.047065            10.460157             32.895324     0.001887   \n",
              "min       0.012000             1.000000              6.000000     0.990070   \n",
              "25%       0.070000             7.000000             22.000000     0.995600   \n",
              "50%       0.079000            14.000000             38.000000     0.996750   \n",
              "75%       0.090000            21.000000             62.000000     0.997835   \n",
              "max       0.611000            72.000000            289.000000     1.003690   \n",
              "\n",
              "                pH    sulphates      alcohol      quality  \n",
              "count  1599.000000  1599.000000  1599.000000  1599.000000  \n",
              "mean      3.311113     0.658149    10.422983     5.636023  \n",
              "std       0.154386     0.169507     1.065668     0.807569  \n",
              "min       2.740000     0.330000     8.400000     3.000000  \n",
              "25%       3.210000     0.550000     9.500000     5.000000  \n",
              "50%       3.310000     0.620000    10.200000     6.000000  \n",
              "75%       3.400000     0.730000    11.100000     6.000000  \n",
              "max       4.010000     2.000000    14.900000     8.000000  "
            ],
            "text/html": [
              "\n",
              "  <div id=\"df-291a72c7-3609-4ccb-9850-09aa6b96ac3e\">\n",
              "    <div class=\"colab-df-container\">\n",
              "      <div>\n",
              "<style scoped>\n",
              "    .dataframe tbody tr th:only-of-type {\n",
              "        vertical-align: middle;\n",
              "    }\n",
              "\n",
              "    .dataframe tbody tr th {\n",
              "        vertical-align: top;\n",
              "    }\n",
              "\n",
              "    .dataframe thead th {\n",
              "        text-align: right;\n",
              "    }\n",
              "</style>\n",
              "<table border=\"1\" class=\"dataframe\">\n",
              "  <thead>\n",
              "    <tr style=\"text-align: right;\">\n",
              "      <th></th>\n",
              "      <th>fixed acidity</th>\n",
              "      <th>volatile acidity</th>\n",
              "      <th>citric acid</th>\n",
              "      <th>residual sugar</th>\n",
              "      <th>chlorides</th>\n",
              "      <th>free sulfur dioxide</th>\n",
              "      <th>total sulfur dioxide</th>\n",
              "      <th>density</th>\n",
              "      <th>pH</th>\n",
              "      <th>sulphates</th>\n",
              "      <th>alcohol</th>\n",
              "      <th>quality</th>\n",
              "    </tr>\n",
              "  </thead>\n",
              "  <tbody>\n",
              "    <tr>\n",
              "      <th>count</th>\n",
              "      <td>1599.000000</td>\n",
              "      <td>1599.000000</td>\n",
              "      <td>1599.000000</td>\n",
              "      <td>1599.000000</td>\n",
              "      <td>1599.000000</td>\n",
              "      <td>1599.000000</td>\n",
              "      <td>1599.000000</td>\n",
              "      <td>1599.000000</td>\n",
              "      <td>1599.000000</td>\n",
              "      <td>1599.000000</td>\n",
              "      <td>1599.000000</td>\n",
              "      <td>1599.000000</td>\n",
              "    </tr>\n",
              "    <tr>\n",
              "      <th>mean</th>\n",
              "      <td>8.319637</td>\n",
              "      <td>0.527821</td>\n",
              "      <td>0.270976</td>\n",
              "      <td>2.538806</td>\n",
              "      <td>0.087467</td>\n",
              "      <td>15.874922</td>\n",
              "      <td>46.467792</td>\n",
              "      <td>0.996747</td>\n",
              "      <td>3.311113</td>\n",
              "      <td>0.658149</td>\n",
              "      <td>10.422983</td>\n",
              "      <td>5.636023</td>\n",
              "    </tr>\n",
              "    <tr>\n",
              "      <th>std</th>\n",
              "      <td>1.741096</td>\n",
              "      <td>0.179060</td>\n",
              "      <td>0.194801</td>\n",
              "      <td>1.409928</td>\n",
              "      <td>0.047065</td>\n",
              "      <td>10.460157</td>\n",
              "      <td>32.895324</td>\n",
              "      <td>0.001887</td>\n",
              "      <td>0.154386</td>\n",
              "      <td>0.169507</td>\n",
              "      <td>1.065668</td>\n",
              "      <td>0.807569</td>\n",
              "    </tr>\n",
              "    <tr>\n",
              "      <th>min</th>\n",
              "      <td>4.600000</td>\n",
              "      <td>0.120000</td>\n",
              "      <td>0.000000</td>\n",
              "      <td>0.900000</td>\n",
              "      <td>0.012000</td>\n",
              "      <td>1.000000</td>\n",
              "      <td>6.000000</td>\n",
              "      <td>0.990070</td>\n",
              "      <td>2.740000</td>\n",
              "      <td>0.330000</td>\n",
              "      <td>8.400000</td>\n",
              "      <td>3.000000</td>\n",
              "    </tr>\n",
              "    <tr>\n",
              "      <th>25%</th>\n",
              "      <td>7.100000</td>\n",
              "      <td>0.390000</td>\n",
              "      <td>0.090000</td>\n",
              "      <td>1.900000</td>\n",
              "      <td>0.070000</td>\n",
              "      <td>7.000000</td>\n",
              "      <td>22.000000</td>\n",
              "      <td>0.995600</td>\n",
              "      <td>3.210000</td>\n",
              "      <td>0.550000</td>\n",
              "      <td>9.500000</td>\n",
              "      <td>5.000000</td>\n",
              "    </tr>\n",
              "    <tr>\n",
              "      <th>50%</th>\n",
              "      <td>7.900000</td>\n",
              "      <td>0.520000</td>\n",
              "      <td>0.260000</td>\n",
              "      <td>2.200000</td>\n",
              "      <td>0.079000</td>\n",
              "      <td>14.000000</td>\n",
              "      <td>38.000000</td>\n",
              "      <td>0.996750</td>\n",
              "      <td>3.310000</td>\n",
              "      <td>0.620000</td>\n",
              "      <td>10.200000</td>\n",
              "      <td>6.000000</td>\n",
              "    </tr>\n",
              "    <tr>\n",
              "      <th>75%</th>\n",
              "      <td>9.200000</td>\n",
              "      <td>0.640000</td>\n",
              "      <td>0.420000</td>\n",
              "      <td>2.600000</td>\n",
              "      <td>0.090000</td>\n",
              "      <td>21.000000</td>\n",
              "      <td>62.000000</td>\n",
              "      <td>0.997835</td>\n",
              "      <td>3.400000</td>\n",
              "      <td>0.730000</td>\n",
              "      <td>11.100000</td>\n",
              "      <td>6.000000</td>\n",
              "    </tr>\n",
              "    <tr>\n",
              "      <th>max</th>\n",
              "      <td>15.900000</td>\n",
              "      <td>1.580000</td>\n",
              "      <td>1.000000</td>\n",
              "      <td>15.500000</td>\n",
              "      <td>0.611000</td>\n",
              "      <td>72.000000</td>\n",
              "      <td>289.000000</td>\n",
              "      <td>1.003690</td>\n",
              "      <td>4.010000</td>\n",
              "      <td>2.000000</td>\n",
              "      <td>14.900000</td>\n",
              "      <td>8.000000</td>\n",
              "    </tr>\n",
              "  </tbody>\n",
              "</table>\n",
              "</div>\n",
              "      <button class=\"colab-df-convert\" onclick=\"convertToInteractive('df-291a72c7-3609-4ccb-9850-09aa6b96ac3e')\"\n",
              "              title=\"Convert this dataframe to an interactive table.\"\n",
              "              style=\"display:none;\">\n",
              "        \n",
              "  <svg xmlns=\"http://www.w3.org/2000/svg\" height=\"24px\"viewBox=\"0 0 24 24\"\n",
              "       width=\"24px\">\n",
              "    <path d=\"M0 0h24v24H0V0z\" fill=\"none\"/>\n",
              "    <path d=\"M18.56 5.44l.94 2.06.94-2.06 2.06-.94-2.06-.94-.94-2.06-.94 2.06-2.06.94zm-11 1L8.5 8.5l.94-2.06 2.06-.94-2.06-.94L8.5 2.5l-.94 2.06-2.06.94zm10 10l.94 2.06.94-2.06 2.06-.94-2.06-.94-.94-2.06-.94 2.06-2.06.94z\"/><path d=\"M17.41 7.96l-1.37-1.37c-.4-.4-.92-.59-1.43-.59-.52 0-1.04.2-1.43.59L10.3 9.45l-7.72 7.72c-.78.78-.78 2.05 0 2.83L4 21.41c.39.39.9.59 1.41.59.51 0 1.02-.2 1.41-.59l7.78-7.78 2.81-2.81c.8-.78.8-2.07 0-2.86zM5.41 20L4 18.59l7.72-7.72 1.47 1.35L5.41 20z\"/>\n",
              "  </svg>\n",
              "      </button>\n",
              "      \n",
              "  <style>\n",
              "    .colab-df-container {\n",
              "      display:flex;\n",
              "      flex-wrap:wrap;\n",
              "      gap: 12px;\n",
              "    }\n",
              "\n",
              "    .colab-df-convert {\n",
              "      background-color: #E8F0FE;\n",
              "      border: none;\n",
              "      border-radius: 50%;\n",
              "      cursor: pointer;\n",
              "      display: none;\n",
              "      fill: #1967D2;\n",
              "      height: 32px;\n",
              "      padding: 0 0 0 0;\n",
              "      width: 32px;\n",
              "    }\n",
              "\n",
              "    .colab-df-convert:hover {\n",
              "      background-color: #E2EBFA;\n",
              "      box-shadow: 0px 1px 2px rgba(60, 64, 67, 0.3), 0px 1px 3px 1px rgba(60, 64, 67, 0.15);\n",
              "      fill: #174EA6;\n",
              "    }\n",
              "\n",
              "    [theme=dark] .colab-df-convert {\n",
              "      background-color: #3B4455;\n",
              "      fill: #D2E3FC;\n",
              "    }\n",
              "\n",
              "    [theme=dark] .colab-df-convert:hover {\n",
              "      background-color: #434B5C;\n",
              "      box-shadow: 0px 1px 3px 1px rgba(0, 0, 0, 0.15);\n",
              "      filter: drop-shadow(0px 1px 2px rgba(0, 0, 0, 0.3));\n",
              "      fill: #FFFFFF;\n",
              "    }\n",
              "  </style>\n",
              "\n",
              "      <script>\n",
              "        const buttonEl =\n",
              "          document.querySelector('#df-291a72c7-3609-4ccb-9850-09aa6b96ac3e button.colab-df-convert');\n",
              "        buttonEl.style.display =\n",
              "          google.colab.kernel.accessAllowed ? 'block' : 'none';\n",
              "\n",
              "        async function convertToInteractive(key) {\n",
              "          const element = document.querySelector('#df-291a72c7-3609-4ccb-9850-09aa6b96ac3e');\n",
              "          const dataTable =\n",
              "            await google.colab.kernel.invokeFunction('convertToInteractive',\n",
              "                                                     [key], {});\n",
              "          if (!dataTable) return;\n",
              "\n",
              "          const docLinkHtml = 'Like what you see? Visit the ' +\n",
              "            '<a target=\"_blank\" href=https://colab.research.google.com/notebooks/data_table.ipynb>data table notebook</a>'\n",
              "            + ' to learn more about interactive tables.';\n",
              "          element.innerHTML = '';\n",
              "          dataTable['output_type'] = 'display_data';\n",
              "          await google.colab.output.renderOutput(dataTable, element);\n",
              "          const docLink = document.createElement('div');\n",
              "          docLink.innerHTML = docLinkHtml;\n",
              "          element.appendChild(docLink);\n",
              "        }\n",
              "      </script>\n",
              "    </div>\n",
              "  </div>\n",
              "  "
            ]
          },
          "metadata": {},
          "execution_count": 44
        }
      ]
    },
    {
      "cell_type": "code",
      "source": [
        "data_wine.isnull().sum()"
      ],
      "metadata": {
        "id": "ox9GEoskEeKG",
        "colab": {
          "base_uri": "https://localhost:8080/"
        },
        "outputId": "5a2e71bf-41ef-4c58-a6ab-d366f2be6d3d"
      },
      "execution_count": null,
      "outputs": [
        {
          "output_type": "execute_result",
          "data": {
            "text/plain": [
              "fixed acidity           0\n",
              "volatile acidity        0\n",
              "citric acid             0\n",
              "residual sugar          0\n",
              "chlorides               0\n",
              "free sulfur dioxide     0\n",
              "total sulfur dioxide    0\n",
              "density                 0\n",
              "pH                      0\n",
              "sulphates               0\n",
              "alcohol                 0\n",
              "quality                 0\n",
              "dtype: int64"
            ]
          },
          "metadata": {},
          "execution_count": 45
        }
      ]
    },
    {
      "cell_type": "code",
      "source": [
        "np.unique(data_wine['quality'], return_counts=True)"
      ],
      "metadata": {
        "id": "RqQc1rpvD_U_",
        "colab": {
          "base_uri": "https://localhost:8080/"
        },
        "outputId": "c5edb69e-2079-45e6-c5b2-ac8614fd34ea"
      },
      "execution_count": null,
      "outputs": [
        {
          "output_type": "execute_result",
          "data": {
            "text/plain": [
              "(array([3, 4, 5, 6, 7, 8]), array([ 10,  53, 681, 638, 199,  18]))"
            ]
          },
          "metadata": {},
          "execution_count": 52
        }
      ]
    },
    {
      "cell_type": "markdown",
      "source": [
        "# Data Visualization\n"
      ],
      "metadata": {
        "id": "mesU9OfUGU2P"
      }
    },
    {
      "cell_type": "code",
      "source": [
        "# Aqui podemos comparar a quantidade de cada vinhos, por nota, temos na nosa base de dados.\n",
        "# Here we can compare the amount of each wines, per note, we have in the nosa database.\n",
        "sns.countplot(data_wine, x = 'quality')"
      ],
      "metadata": {
        "id": "EGYWFyhnE33n",
        "colab": {
          "base_uri": "https://localhost:8080/",
          "height": 296
        },
        "outputId": "26fa1384-5868-4a51-98d2-82a5b4426371"
      },
      "execution_count": null,
      "outputs": [
        {
          "output_type": "execute_result",
          "data": {
            "text/plain": [
              "<Axes: xlabel='quality', ylabel='count'>"
            ]
          },
          "metadata": {},
          "execution_count": 60
        },
        {
          "output_type": "display_data",
          "data": {
            "text/plain": [
              "<Figure size 432x288 with 1 Axes>"
            ],
            "image/png": "[encoded data removed]"
          },
          "metadata": {
            "needs_background": "light"
          }
        }
      ]
    },
    {
      "cell_type": "code",
      "source": [
        "# Através do .pyplot e da Matriz de Correlação, podemos comparar quais atributos possuem um maior peso para a determinação da qualidade do vinho.\n",
        "# Through the .pyplot and the correlation matrix, we can compare which attributes have a greater weight for the determination of wine quality.\n",
        "corr = data_wine.corr() \n",
        "plt.pyplot.subplots(figsize=(15,10)) \n",
        "sns.heatmap(corr, xticklabels=corr.columns, yticklabels=corr.columns, annot=True, cmap=sns.diverging_palette(220 , 20, as_cmap= True))\n",
        "# Podemos ver que, a princípio, os níveis de alcool, de sulfato e de ácido cítrico são os maiores determinantes para a qualidade do vinho.\n",
        "# We can see that, at first, alcohol, sulfate and citrus acid levels are the largest determinants for wine quality."
      ],
      "metadata": {
        "id": "uNqfKJHxGtSl",
        "colab": {
          "base_uri": "https://localhost:8080/",
          "height": 696
        },
        "outputId": "488e411f-295c-4067-a966-019063bd511d"
      },
      "execution_count": null,
      "outputs": [
        {
          "output_type": "execute_result",
          "data": {
            "text/plain": [
              "<Axes: >"
            ]
          },
          "metadata": {},
          "execution_count": 15
        },
        {
          "output_type": "display_data",
          "data": {
            "text/plain": [
              "<Figure size 1080x720 with 2 Axes>"
            ],
            "image/png": "[encoded data removed]"
          },
          "metadata": {
            "needs_background": "light"
          }
        }
      ]
    },
    {
      "cell_type": "markdown",
      "source": [
        "# Classification division"
      ],
      "metadata": {
        "id": "HiC9Mp6RJD4v"
      }
    },
    {
      "cell_type": "code",
      "source": [
        "# Para melhor comparar a qualidade dos vinhos, decidi agrupar-los em duas classificações:\n",
        "# -> Vinhos de boa qualidade (nota maior que 6);\n",
        "# -> Vinhos de baixa qualidade (nota menor que 6);\n",
        "for i in range(len(data_wine)):\n",
        "  if data_wine['quality'][i] > 6:\n",
        "    data_wine['quality'][i] = 1\n",
        "  else:\n",
        "    data_wine['quality'][i] = 0\n",
        "print(data_wine['quality'])\n"
      ],
      "metadata": {
        "id": "38SieiSCoAbI",
        "colab": {
          "base_uri": "https://localhost:8080/"
        },
        "outputId": "369615f2-52bf-45cd-c6d0-499121c1b17e"
      },
      "execution_count": null,
      "outputs": [
        {
          "output_type": "stream",
          "name": "stderr",
          "text": [
            "<ipython-input-16-e83326d2e64f>:8: SettingWithCopyWarning: \n",
            "A value is trying to be set on a copy of a slice from a DataFrame\n",
            "\n",
            "See the caveats in the documentation: https://pandas.pydata.org/pandas-docs/stable/user_guide/indexing.html#returning-a-view-versus-a-copy\n",
            "  data_wine['quality'][i] = 0\n",
            "<ipython-input-16-e83326d2e64f>:6: SettingWithCopyWarning: \n",
            "A value is trying to be set on a copy of a slice from a DataFrame\n",
            "\n",
            "See the caveats in the documentation: https://pandas.pydata.org/pandas-docs/stable/user_guide/indexing.html#returning-a-view-versus-a-copy\n",
            "  data_wine['quality'][i] = 1\n"
          ]
        },
        {
          "output_type": "stream",
          "name": "stdout",
          "text": [
            "0       0\n",
            "1       0\n",
            "2       0\n",
            "3       0\n",
            "4       0\n",
            "       ..\n",
            "1594    0\n",
            "1595    0\n",
            "1596    0\n",
            "1597    0\n",
            "1598    0\n",
            "Name: quality, Length: 1599, dtype: int64\n"
          ]
        }
      ]
    },
    {
      "cell_type": "code",
      "source": [
        "data_wine['quality'].value_counts()"
      ],
      "metadata": {
        "id": "uJxbhN4QyN-f",
        "colab": {
          "base_uri": "https://localhost:8080/"
        },
        "outputId": "6fbd928c-e774-401a-d1eb-05df821f6408"
      },
      "execution_count": null,
      "outputs": [
        {
          "output_type": "execute_result",
          "data": {
            "text/plain": [
              "0    1382\n",
              "1     217\n",
              "Name: quality, dtype: int64"
            ]
          },
          "metadata": {},
          "execution_count": 17
        }
      ]
    },
    {
      "cell_type": "code",
      "source": [
        "data_wine.shape"
      ],
      "metadata": {
        "id": "wpui0z908Br1",
        "colab": {
          "base_uri": "https://localhost:8080/"
        },
        "outputId": "6498d89d-5e4e-493c-c1a0-578dfc4af6a5"
      },
      "execution_count": null,
      "outputs": [
        {
          "output_type": "execute_result",
          "data": {
            "text/plain": [
              "(1599, 12)"
            ]
          },
          "metadata": {},
          "execution_count": 18
        }
      ]
    },
    {
      "cell_type": "markdown",
      "source": [
        "# Division between predators and class"
      ],
      "metadata": {
        "id": "4OiVez4YJYgP"
      }
    },
    {
      "cell_type": "code",
      "source": [
        "data_wine_x = data_wine.iloc[:, 0:11].values"
      ],
      "metadata": {
        "id": "o8-O8Min2cYZ"
      },
      "execution_count": null,
      "outputs": []
    },
    {
      "cell_type": "code",
      "source": [
        "data_wine_y = data_wine['quality'].values"
      ],
      "metadata": {
        "id": "-fBhwreB645w"
      },
      "execution_count": null,
      "outputs": []
    },
    {
      "cell_type": "code",
      "source": [
        "x_col = data_wine.iloc[:, 0:11]"
      ],
      "metadata": {
        "id": "g6GnO82RC_Tb"
      },
      "execution_count": null,
      "outputs": []
    },
    {
      "cell_type": "code",
      "source": [
        "type(data_wine_x)"
      ],
      "metadata": {
        "id": "KZJZX1Xn7woH",
        "colab": {
          "base_uri": "https://localhost:8080/"
        },
        "outputId": "6b251cf6-89d6-4d04-c110-ba6a2f74d31b"
      },
      "execution_count": null,
      "outputs": [
        {
          "output_type": "execute_result",
          "data": {
            "text/plain": [
              "numpy.ndarray"
            ]
          },
          "metadata": {},
          "execution_count": 22
        }
      ]
    },
    {
      "cell_type": "markdown",
      "source": [
        "# Scaling"
      ],
      "metadata": {
        "id": "XFRO2G71JtC3"
      }
    },
    {
      "cell_type": "code",
      "source": [
        "from sklearn.preprocessing import StandardScaler\n",
        "scaler_wine = StandardScaler()\n",
        "data_wine_x = scaler_wine.fit_transform(data_wine_x)"
      ],
      "metadata": {
        "id": "AH8N0nVB7ZhR"
      },
      "execution_count": null,
      "outputs": []
    },
    {
      "cell_type": "markdown",
      "source": [
        "# Division of bases into training and testing"
      ],
      "metadata": {
        "id": "k73eVNvOJ_lu"
      }
    },
    {
      "cell_type": "code",
      "source": [
        "from sklearn.model_selection import train_test_split"
      ],
      "metadata": {
        "id": "JedGuhg77dLE"
      },
      "execution_count": null,
      "outputs": []
    },
    {
      "cell_type": "code",
      "source": [
        "data_wine_x_treinamento, data_wine_x_teste, data_wine_y_treinamento, data_wine_y_teste = train_test_split(data_wine_x, data_wine_y, test_size = 0.25, random_state = 0)"
      ],
      "metadata": {
        "id": "_03PP2ce7j9g"
      },
      "execution_count": null,
      "outputs": []
    },
    {
      "cell_type": "markdown",
      "source": [
        "# Modeling"
      ],
      "metadata": {
        "id": "_uguukYvKIlF"
      }
    },
    {
      "cell_type": "markdown",
      "source": [
        "## Random Forest - 92,0%"
      ],
      "metadata": {
        "id": "7m0N04esKKld"
      }
    },
    {
      "cell_type": "code",
      "source": [
        "from sklearn.ensemble import RandomForestClassifier"
      ],
      "metadata": {
        "id": "C2sGl8uC8p96"
      },
      "execution_count": null,
      "outputs": []
    },
    {
      "cell_type": "code",
      "source": [
        "random_forest_wine = RandomForestClassifier(n_estimators=40, criterion='entropy', random_state = 0, min_samples_split= 5)\n",
        "random_forest_wine.fit(data_wine_x_treinamento, data_wine_y_treinamento);"
      ],
      "metadata": {
        "id": "Kh-P8oCM8vor"
      },
      "execution_count": null,
      "outputs": []
    },
    {
      "cell_type": "code",
      "source": [
        "rd_predict = random_forest_wine.predict(data_wine_x_teste)"
      ],
      "metadata": {
        "id": "NvXZvUAL8znh"
      },
      "execution_count": null,
      "outputs": []
    },
    {
      "cell_type": "code",
      "source": [
        "from sklearn.metrics import accuracy_score, classification_report\n",
        "accuracy_score(data_wine_y_teste, rd_predict)"
      ],
      "metadata": {
        "id": "7X0e_9Pz80lX",
        "colab": {
          "base_uri": "https://localhost:8080/"
        },
        "outputId": "91480d84-b0e2-4a22-dfb6-7d88d9bf3d47"
      },
      "execution_count": null,
      "outputs": [
        {
          "output_type": "execute_result",
          "data": {
            "text/plain": [
              "0.92"
            ]
          },
          "metadata": {},
          "execution_count": 64
        }
      ]
    },
    {
      "cell_type": "markdown",
      "source": [
        "## XGBoost - 91,75%"
      ],
      "metadata": {
        "id": "haPGfBObKSdm"
      }
    },
    {
      "cell_type": "code",
      "source": [
        "import xgboost as xgb\n",
        "xgb_wine = xgb.XGBClassifier(random_state=1)\n",
        "xgb_wine.fit(data_wine_x_treinamento, data_wine_y_treinamento)\n",
        "xgb_predict = xgb_wine.predict(data_wine_x_teste)"
      ],
      "metadata": {
        "id": "MwWKmhOx9WJy"
      },
      "execution_count": null,
      "outputs": []
    },
    {
      "cell_type": "code",
      "source": [
        "accuracy_score(data_wine_y_teste, xgb_predict)"
      ],
      "metadata": {
        "id": "CPVnbume9hh-",
        "colab": {
          "base_uri": "https://localhost:8080/"
        },
        "outputId": "f1f36e9c-4b3d-4dd1-e2e4-c9d38458c644"
      },
      "execution_count": null,
      "outputs": [
        {
          "output_type": "execute_result",
          "data": {
            "text/plain": [
              "0.9175"
            ]
          },
          "metadata": {},
          "execution_count": 34
        }
      ]
    },
    {
      "cell_type": "markdown",
      "source": [
        "## SVM - 90%"
      ],
      "metadata": {
        "id": "cUgmTZiHKWnZ"
      }
    },
    {
      "cell_type": "code",
      "source": [
        "from sklearn.svm import SVC"
      ],
      "metadata": {
        "id": "QFclQmUE934o"
      },
      "execution_count": null,
      "outputs": []
    },
    {
      "cell_type": "code",
      "source": [
        "svm_wine = SVC(kernel='rbf', random_state=1, C = 2.0, tol = 0.001 ) # 2 -> 4\n",
        "svm_wine.fit(data_wine_x_treinamento, data_wine_y_treinamento);"
      ],
      "metadata": {
        "id": "y9XFhged9sLO"
      },
      "execution_count": null,
      "outputs": []
    },
    {
      "cell_type": "code",
      "source": [
        "svm_predict = svm_wine.predict(data_wine_x_teste)\n",
        "accuracy_score(data_wine_y_teste, svm_predict)"
      ],
      "metadata": {
        "id": "t9TqC2Q096Gx",
        "colab": {
          "base_uri": "https://localhost:8080/"
        },
        "outputId": "6af65156-5e61-4ee5-8cb2-51e41882f242"
      },
      "execution_count": null,
      "outputs": [
        {
          "output_type": "execute_result",
          "data": {
            "text/plain": [
              "0.9075"
            ]
          },
          "metadata": {},
          "execution_count": 37
        }
      ]
    },
    {
      "cell_type": "markdown",
      "source": [
        "## Neural networks - 91%"
      ],
      "metadata": {
        "id": "VcXi8Y0w-HO1"
      }
    },
    {
      "cell_type": "code",
      "source": [
        "from sklearn.neural_network import MLPClassifier"
      ],
      "metadata": {
        "id": "GcEI9EHM-OoH"
      },
      "execution_count": null,
      "outputs": []
    },
    {
      "cell_type": "code",
      "source": [
        "rede_neural_wine = MLPClassifier(max_iter=1500, verbose=True, tol=0.0000100,\n",
        "                                   solver = 'adam', activation = 'relu',\n",
        "                                   hidden_layer_sizes = (20,20))\n",
        "rede_neural_wine.fit(data_wine_x_treinamento, data_wine_y_treinamento)"
      ],
      "metadata": {
        "id": "KPqwhs4P-O-O"
      },
      "execution_count": null,
      "outputs": []
    },
    {
      "cell_type": "code",
      "source": [
        "mlp_predict = rede_neural_wine.predict(data_wine_x_teste)\n"
      ],
      "metadata": {
        "id": "ogBeg-dR-WcB"
      },
      "execution_count": null,
      "outputs": []
    },
    {
      "cell_type": "code",
      "source": [
        "accuracy_score(data_wine_y_teste, mlp_predict)"
      ],
      "metadata": {
        "id": "gE5rx51X-fNV",
        "colab": {
          "base_uri": "https://localhost:8080/"
        },
        "outputId": "fd477fcf-e447-4061-bb9e-507e78aa6af2"
      },
      "execution_count": null,
      "outputs": [
        {
          "output_type": "execute_result",
          "data": {
            "text/plain": [
              "0.9125"
            ]
          },
          "metadata": {},
          "execution_count": 41
        }
      ]
    },
    {
      "cell_type": "markdown",
      "source": [
        "## ADABoost 89,5%"
      ],
      "metadata": {
        "id": "h0wCt6bi-stu"
      }
    },
    {
      "cell_type": "code",
      "source": [
        "from sklearn.ensemble import AdaBoostClassifier\n",
        "ada_wine = AdaBoostClassifier(random_state=1, learning_rate= 0.1, n_estimators= 2000)\n",
        "ada_wine.fit(data_wine_x_treinamento, data_wine_y_treinamento)\n",
        "ada_predict = ada_wine.predict(data_wine_x_teste)\n"
      ],
      "metadata": {
        "id": "o8QryABu-ued"
      },
      "execution_count": null,
      "outputs": []
    },
    {
      "cell_type": "code",
      "source": [
        "accuracy_score(data_wine_y_teste, ada_predict)"
      ],
      "metadata": {
        "id": "nU1dtCcO_IkC",
        "colab": {
          "base_uri": "https://localhost:8080/"
        },
        "outputId": "f271d6b2-44a2-4125-a05e-9421acc161aa"
      },
      "execution_count": null,
      "outputs": [
        {
          "output_type": "execute_result",
          "data": {
            "text/plain": [
              "0.895"
            ]
          },
          "metadata": {},
          "execution_count": 32
        }
      ]
    },
    {
      "cell_type": "markdown",
      "source": [
        "# Tunning with GridSearch"
      ],
      "metadata": {
        "id": "B_SV0qgaNCf8"
      }
    },
    {
      "cell_type": "code",
      "source": [
        "from sklearn.model_selection import GridSearchCV"
      ],
      "metadata": {
        "id": "_8w52CkcRWvV"
      },
      "execution_count": null,
      "outputs": []
    },
    {
      "cell_type": "markdown",
      "source": [
        "## Random Forest - 92%"
      ],
      "metadata": {
        "id": "_z4xloEnQyiT"
      }
    },
    {
      "cell_type": "code",
      "source": [
        "random_params = {'criterion': ['gini', 'entropy'],\n",
        "              'n_estimators': [10, 40, 100, 150],\n",
        "              'min_samples_split': [2, 5, 10],\n",
        "              'min_samples_leaf': [1, 5, 10]}"
      ],
      "metadata": {
        "id": "pAcuGok7QrO4"
      },
      "execution_count": null,
      "outputs": []
    },
    {
      "cell_type": "code",
      "source": [
        "grid_search = GridSearchCV(estimator=RandomForestClassifier(), param_grid=random_params)\n",
        "grid_search.fit(data_wine_x_treinamento, data_wine_y_treinamento)\n",
        "best_parameter_random = grid_search.best_params_\n",
        "best_result_random = grid_search.best_score_\n"
      ],
      "metadata": {
        "id": "qoobxFZ6Q2Bd"
      },
      "execution_count": null,
      "outputs": []
    },
    {
      "cell_type": "code",
      "source": [
        "print(best_parameter_random)\n",
        "print(best_result_random)"
      ],
      "metadata": {
        "id": "qhi8ksjASJQf",
        "colab": {
          "base_uri": "https://localhost:8080/"
        },
        "outputId": "2f228418-0270-4748-a291-f4b72b1c238e"
      },
      "execution_count": null,
      "outputs": [
        {
          "output_type": "stream",
          "name": "stdout",
          "text": [
            "{'criterion': 'entropy', 'min_samples_leaf': 1, 'min_samples_split': 2, 'n_estimators': 150}\n",
            "0.8999198047419805\n"
          ]
        }
      ]
    },
    {
      "cell_type": "code",
      "source": [
        "random_predict_grid = grid_search.predict(data_wine_x_teste)\n",
        "accuracy_score(data_wine_y_teste, random_predict_grid)"
      ],
      "metadata": {
        "colab": {
          "base_uri": "https://localhost:8080/"
        },
        "id": "cZMWfFuNS5vy",
        "outputId": "2f6a9080-639b-490c-825c-41ab6155a3b9"
      },
      "execution_count": null,
      "outputs": [
        {
          "output_type": "execute_result",
          "data": {
            "text/plain": [
              "0.925"
            ]
          },
          "metadata": {},
          "execution_count": 48
        }
      ]
    },
    {
      "cell_type": "markdown",
      "source": [
        "## XGBoost - 90%"
      ],
      "metadata": {
        "id": "27mA8TZ9Ry7u"
      }
    },
    {
      "cell_type": "code",
      "source": [
        "xgb_params = {\n",
        "        'min_child_weight': [1, 5, 10],\n",
        "        'gamma': [0.5, 1, 1.5, 2, 5],\n",
        "        'subsample': [0.6, 0.8, 1.0],\n",
        "        'colsample_bytree': [0.6, 0.8, 1.0],\n",
        "        'max_depth': [3, 4, 5]\n",
        "        }"
      ],
      "metadata": {
        "id": "MX_R56cTR16k"
      },
      "execution_count": null,
      "outputs": []
    },
    {
      "cell_type": "code",
      "source": [
        "grid_search = GridSearchCV(estimator=xgb.XGBClassifier(), param_grid=xgb_params)\n",
        "grid_search.fit(data_wine_x_treinamento, data_wine_y_treinamento)\n",
        "best_parameter_xgb = grid_search.best_params_\n",
        "best_result_xgb = grid_search.best_score_"
      ],
      "metadata": {
        "id": "GYmSQmGGSuDA"
      },
      "execution_count": null,
      "outputs": []
    },
    {
      "cell_type": "code",
      "source": [
        "print(best_parameter_xgb)\n",
        "print(best_result_xgb)"
      ],
      "metadata": {
        "id": "FeWtEsX0U704",
        "colab": {
          "base_uri": "https://localhost:8080/"
        },
        "outputId": "387406a1-a6ed-4d3b-c269-6571b25afcc9"
      },
      "execution_count": null,
      "outputs": [
        {
          "output_type": "stream",
          "name": "stdout",
          "text": [
            "{'colsample_bytree': 0.6, 'gamma': 0.5, 'max_depth': 4, 'min_child_weight': 1, 'subsample': 0.8}\n",
            "0.9024232914923292\n"
          ]
        }
      ]
    },
    {
      "cell_type": "markdown",
      "source": [
        "## SVM - 90,75"
      ],
      "metadata": {
        "id": "JmxRkaTwTKgu"
      }
    },
    {
      "cell_type": "code",
      "source": [
        "svm_params = {'tol': [0.001, 0.0001, 0.00001],\n",
        "              'C': [1.0, 1.5, 2.0, 3.0, 4.0],\n",
        "              'kernel': ['rbf', 'linear', 'poly', 'sigmoid']}"
      ],
      "metadata": {
        "id": "pdh4kezDTMxZ"
      },
      "execution_count": null,
      "outputs": []
    },
    {
      "cell_type": "code",
      "source": [
        "grid_search = GridSearchCV(estimator=SVC(), param_grid=svm_params)\n",
        "grid_search.fit(data_wine_x_treinamento, data_wine_y_treinamento)\n",
        "best_parameter_svm = grid_search.best_params_\n",
        "best_result_svm = grid_search.best_score_"
      ],
      "metadata": {
        "id": "yyuk26wpTTYa"
      },
      "execution_count": null,
      "outputs": []
    },
    {
      "cell_type": "code",
      "source": [
        "print(best_parameter_svm)\n",
        "print(best_result_svm)"
      ],
      "metadata": {
        "id": "A3iXOgitU9Dd",
        "colab": {
          "base_uri": "https://localhost:8080/"
        },
        "outputId": "052fbdb8-6e4a-42c5-ae70-72a22a417e6e"
      },
      "execution_count": null,
      "outputs": [
        {
          "output_type": "stream",
          "name": "stdout",
          "text": [
            "{'C': 2.0, 'kernel': 'rbf', 'tol': 0.001}\n",
            "0.8790794979079498\n"
          ]
        }
      ]
    },
    {
      "cell_type": "code",
      "source": [
        "svm_predict_grid = grid_search.predict(data_wine_x_teste)\n",
        "accuracy_score(data_wine_y_teste, svm_predict_grid)"
      ],
      "metadata": {
        "colab": {
          "base_uri": "https://localhost:8080/"
        },
        "id": "UVC6XpdtSqcR",
        "outputId": "0a3e258a-13a6-42f7-9e95-2f3509eaf95c"
      },
      "execution_count": null,
      "outputs": [
        {
          "output_type": "execute_result",
          "data": {
            "text/plain": [
              "0.9075"
            ]
          },
          "metadata": {},
          "execution_count": 55
        }
      ]
    },
    {
      "cell_type": "markdown",
      "source": [
        "## Neural Networks - 89%"
      ],
      "metadata": {
        "id": "ZqUVLfQATniB"
      }
    },
    {
      "cell_type": "code",
      "source": [
        "mpl_params = {'activation': ['relu', 'logistic', 'tahn'],\n",
        "              'solver': ['adam', 'sgd'],\n",
        "              'batch_size': [10, 56]}"
      ],
      "metadata": {
        "id": "ZuKE5DB4VSAp"
      },
      "execution_count": null,
      "outputs": []
    },
    {
      "cell_type": "code",
      "source": [
        "grid_search = GridSearchCV(estimator=MLPClassifier(), param_grid=mpl_params)\n",
        "grid_search.fit(data_wine_x_treinamento, data_wine_y_treinamento)\n",
        "best_parameter_mlp = grid_search.best_params_\n",
        "best_result_mlp = grid_search.best_score_"
      ],
      "metadata": {
        "id": "uvn_QWWOVMIu"
      },
      "execution_count": null,
      "outputs": []
    },
    {
      "cell_type": "code",
      "source": [
        "print(best_parameter_mlp)\n",
        "print(best_result_mlp)"
      ],
      "metadata": {
        "colab": {
          "base_uri": "https://localhost:8080/"
        },
        "id": "tfSjwMq_VRXq",
        "outputId": "af449772-08d5-4f19-deb2-9bcea07b7ab6"
      },
      "execution_count": null,
      "outputs": [
        {
          "output_type": "stream",
          "name": "stdout",
          "text": [
            "{'activation': 'relu', 'batch_size': 10, 'solver': 'adam'}\n",
            "0.8891004184100417\n"
          ]
        }
      ]
    },
    {
      "cell_type": "markdown",
      "source": [
        "## AdaBoost 89,95%"
      ],
      "metadata": {
        "id": "KgAr2R3gTrU1"
      }
    },
    {
      "cell_type": "code",
      "source": [
        "ada_params={'n_estimators':[500,1000,2000],\n",
        "             'learning_rate':[.001,0.01,.1]}"
      ],
      "metadata": {
        "id": "vW0yJr0AUty6"
      },
      "execution_count": null,
      "outputs": []
    },
    {
      "cell_type": "code",
      "source": [
        "grid_search = GridSearchCV(estimator=AdaBoostClassifier(), param_grid=ada_params)\n",
        "grid_search.fit(data_wine_x_treinamento, data_wine_y_treinamento)\n",
        "best_parameter_ada = grid_search.best_params_\n",
        "best_result_ada = grid_search.best_score_"
      ],
      "metadata": {
        "id": "ouMsnPefVCLT"
      },
      "execution_count": null,
      "outputs": []
    },
    {
      "cell_type": "code",
      "source": [
        "print(best_parameter_ada)\n",
        "print(best_result_ada)"
      ],
      "metadata": {
        "id": "pgTolGXzVKBI",
        "colab": {
          "base_uri": "https://localhost:8080/"
        },
        "outputId": "10b1a2f9-82b9-409b-f19d-a37e716626cc"
      },
      "execution_count": null,
      "outputs": [
        {
          "output_type": "stream",
          "name": "stdout",
          "text": [
            "{'learning_rate': 0.1, 'n_estimators': 2000}\n",
            "0.8799058577405857\n"
          ]
        }
      ]
    },
    {
      "cell_type": "code",
      "source": [
        "ada_predict_grid = grid_search.predict(data_wine_x_teste)\n",
        "accuracy_score(data_wine_y_teste, ada_predict_grid)"
      ],
      "metadata": {
        "colab": {
          "base_uri": "https://localhost:8080/"
        },
        "id": "lT7zRlwvd2XD",
        "outputId": "ae3bdc5b-8c0f-4113-80d2-7d57ab98c68c"
      },
      "execution_count": null,
      "outputs": [
        {
          "output_type": "execute_result",
          "data": {
            "text/plain": [
              "0.895"
            ]
          },
          "metadata": {},
          "execution_count": 39
        }
      ]
    },
    {
      "cell_type": "markdown",
      "source": [
        "# Cross Validation"
      ],
      "metadata": {
        "id": "ATenQSg1nEs2"
      }
    },
    {
      "cell_type": "code",
      "source": [
        "from sklearn.model_selection import cross_val_score, KFold"
      ],
      "metadata": {
        "id": "eC_dYHnznIef"
      },
      "execution_count": null,
      "outputs": []
    },
    {
      "cell_type": "code",
      "source": [
        "resultados_random_forest = []\n",
        "resultados_xgb_boost = []\n",
        "resultados_svm = []\n",
        "resultados_rede_neural = []\n",
        "resultados_ada_boost = []"
      ],
      "metadata": {
        "id": "WUrheNuxnKrH"
      },
      "execution_count": null,
      "outputs": []
    },
    {
      "cell_type": "code",
      "source": [
        "# Uma vez com os melhores parâmetros dos modelos de aprendizado, podemos realizar a validação cruzada\n",
        "for i in range(30):\n",
        "  print(i)\n",
        "  kfold = KFold(n_splits=10, shuffle=True, random_state=i)\n",
        "\n",
        "  random_forest = RandomForestClassifier(criterion = 'entropy', min_samples_leaf = 1, min_samples_split=5, n_estimators = 100)\n",
        "  scores = cross_val_score(random_forest, data_wine_x, data_wine_y, cv = kfold)\n",
        "  resultados_random_forest.append(scores.mean())\n",
        "\n",
        "  xgb_boost = xgb.XGBClassifier(colsample_bytree = 0.6, gamma = 0.5, max_depth = 4, min_child_weight = 1, subsample = 0.8)\n",
        "  scores = cross_val_score(xgb_boost, data_wine_x, data_wine_y, cv = kfold)\n",
        "  resultados_xgb_boost.append(scores.mean())\n",
        "\n",
        "  svm = SVC(kernel = 'rbf', C = 2.0)\n",
        "  scores = cross_val_score(svm, data_wine_x, data_wine_y, cv = kfold)\n",
        "  resultados_svm.append(scores.mean())\n",
        "\n",
        "  rede_neural = MLPClassifier(activation = 'relu', batch_size = 10, solver = 'adam')\n",
        "  scores = cross_val_score(rede_neural, data_wine_x, data_wine_y, cv = kfold)\n",
        "  resultados_rede_neural.append(scores.mean())\n",
        "\n",
        "  ada_boost = AdaBoostClassifier(learning_rate = 0.1, n_estimators = 2000)\n",
        "  scores = cross_val_score(ada_boost, data_wine_x, data_wine_y, cv = kfold)\n",
        "  resultados_ada_boost.append(scores.mean())"
      ],
      "metadata": {
        "id": "OJwZiy1OnQAj"
      },
      "execution_count": null,
      "outputs": []
    },
    {
      "cell_type": "code",
      "source": [
        "resultados = pd.DataFrame({'Random forest': resultados_random_forest,\n",
        "                           'xgb_boost': resultados_xgb_boost,\n",
        "                           'SVM': resultados_svm, \n",
        "                           'Rede neural': resultados_rede_neural,\n",
        "                           'ada_boost': resultados_ada_boost})\n",
        "resultados"
      ],
      "metadata": {
        "id": "NKEojQtEnXFy"
      },
      "execution_count": null,
      "outputs": []
    },
    {
      "cell_type": "code",
      "source": [
        "# Podemos concluir que o modelo de Random Forest é o mais efetivo quando classificamos a qualidade de vinho.\n",
        "# We can conclude that the Random Forest model is the most effective when classifying wine quality.\n",
        "resultados.describe()"
      ],
      "metadata": {
        "id": "SPyd2x5enc-s",
        "colab": {
          "base_uri": "https://localhost:8080/",
          "height": 300
        },
        "outputId": "1f3437b5-eb87-4663-c66a-a4b12ac6ab33"
      },
      "execution_count": null,
      "outputs": [
        {
          "output_type": "execute_result",
          "data": {
            "text/plain": [
              "       Random forest  xgb_boost        SVM  Rede neural  ada_boost\n",
              "count      30.000000  30.000000  30.000000    30.000000  30.000000\n",
              "mean        0.912987   0.910212   0.884905     0.898247   0.883656\n",
              "std         0.003147   0.004929   0.002096     0.004113   0.003851\n",
              "min         0.904277   0.896792   0.880546     0.889300   0.876781\n",
              "25%         0.911168   0.907592   0.883797     0.896181   0.880717\n",
              "50%         0.913699   0.910574   0.885554     0.898384   0.882754\n",
              "75%         0.914953   0.913703   0.886204     0.901201   0.886018\n",
              "max         0.918695   0.918695   0.888050     0.904292   0.891792"
            ],
            "text/html": [
              "\n",
              "  <div id=\"df-b274ccac-5d4a-4ffc-8d84-f14920eb91f1\">\n",
              "    <div class=\"colab-df-container\">\n",
              "      <div>\n",
              "<style scoped>\n",
              "    .dataframe tbody tr th:only-of-type {\n",
              "        vertical-align: middle;\n",
              "    }\n",
              "\n",
              "    .dataframe tbody tr th {\n",
              "        vertical-align: top;\n",
              "    }\n",
              "\n",
              "    .dataframe thead th {\n",
              "        text-align: right;\n",
              "    }\n",
              "</style>\n",
              "<table border=\"1\" class=\"dataframe\">\n",
              "  <thead>\n",
              "    <tr style=\"text-align: right;\">\n",
              "      <th></th>\n",
              "      <th>Random forest</th>\n",
              "      <th>xgb_boost</th>\n",
              "      <th>SVM</th>\n",
              "      <th>Rede neural</th>\n",
              "      <th>ada_boost</th>\n",
              "    </tr>\n",
              "  </thead>\n",
              "  <tbody>\n",
              "    <tr>\n",
              "      <th>count</th>\n",
              "      <td>30.000000</td>\n",
              "      <td>30.000000</td>\n",
              "      <td>30.000000</td>\n",
              "      <td>30.000000</td>\n",
              "      <td>30.000000</td>\n",
              "    </tr>\n",
              "    <tr>\n",
              "      <th>mean</th>\n",
              "      <td>0.912987</td>\n",
              "      <td>0.910212</td>\n",
              "      <td>0.884905</td>\n",
              "      <td>0.898247</td>\n",
              "      <td>0.883656</td>\n",
              "    </tr>\n",
              "    <tr>\n",
              "      <th>std</th>\n",
              "      <td>0.003147</td>\n",
              "      <td>0.004929</td>\n",
              "      <td>0.002096</td>\n",
              "      <td>0.004113</td>\n",
              "      <td>0.003851</td>\n",
              "    </tr>\n",
              "    <tr>\n",
              "      <th>min</th>\n",
              "      <td>0.904277</td>\n",
              "      <td>0.896792</td>\n",
              "      <td>0.880546</td>\n",
              "      <td>0.889300</td>\n",
              "      <td>0.876781</td>\n",
              "    </tr>\n",
              "    <tr>\n",
              "      <th>25%</th>\n",
              "      <td>0.911168</td>\n",
              "      <td>0.907592</td>\n",
              "      <td>0.883797</td>\n",
              "      <td>0.896181</td>\n",
              "      <td>0.880717</td>\n",
              "    </tr>\n",
              "    <tr>\n",
              "      <th>50%</th>\n",
              "      <td>0.913699</td>\n",
              "      <td>0.910574</td>\n",
              "      <td>0.885554</td>\n",
              "      <td>0.898384</td>\n",
              "      <td>0.882754</td>\n",
              "    </tr>\n",
              "    <tr>\n",
              "      <th>75%</th>\n",
              "      <td>0.914953</td>\n",
              "      <td>0.913703</td>\n",
              "      <td>0.886204</td>\n",
              "      <td>0.901201</td>\n",
              "      <td>0.886018</td>\n",
              "    </tr>\n",
              "    <tr>\n",
              "      <th>max</th>\n",
              "      <td>0.918695</td>\n",
              "      <td>0.918695</td>\n",
              "      <td>0.888050</td>\n",
              "      <td>0.904292</td>\n",
              "      <td>0.891792</td>\n",
              "    </tr>\n",
              "  </tbody>\n",
              "</table>\n",
              "</div>\n",
              "      <button class=\"colab-df-convert\" onclick=\"convertToInteractive('df-b274ccac-5d4a-4ffc-8d84-f14920eb91f1')\"\n",
              "              title=\"Convert this dataframe to an interactive table.\"\n",
              "              style=\"display:none;\">\n",
              "        \n",
              "  <svg xmlns=\"http://www.w3.org/2000/svg\" height=\"24px\"viewBox=\"0 0 24 24\"\n",
              "       width=\"24px\">\n",
              "    <path d=\"M0 0h24v24H0V0z\" fill=\"none\"/>\n",
              "    <path d=\"M18.56 5.44l.94 2.06.94-2.06 2.06-.94-2.06-.94-.94-2.06-.94 2.06-2.06.94zm-11 1L8.5 8.5l.94-2.06 2.06-.94-2.06-.94L8.5 2.5l-.94 2.06-2.06.94zm10 10l.94 2.06.94-2.06 2.06-.94-2.06-.94-.94-2.06-.94 2.06-2.06.94z\"/><path d=\"M17.41 7.96l-1.37-1.37c-.4-.4-.92-.59-1.43-.59-.52 0-1.04.2-1.43.59L10.3 9.45l-7.72 7.72c-.78.78-.78 2.05 0 2.83L4 21.41c.39.39.9.59 1.41.59.51 0 1.02-.2 1.41-.59l7.78-7.78 2.81-2.81c.8-.78.8-2.07 0-2.86zM5.41 20L4 18.59l7.72-7.72 1.47 1.35L5.41 20z\"/>\n",
              "  </svg>\n",
              "      </button>\n",
              "      \n",
              "  <style>\n",
              "    .colab-df-container {\n",
              "      display:flex;\n",
              "      flex-wrap:wrap;\n",
              "      gap: 12px;\n",
              "    }\n",
              "\n",
              "    .colab-df-convert {\n",
              "      background-color: #E8F0FE;\n",
              "      border: none;\n",
              "      border-radius: 50%;\n",
              "      cursor: pointer;\n",
              "      display: none;\n",
              "      fill: #1967D2;\n",
              "      height: 32px;\n",
              "      padding: 0 0 0 0;\n",
              "      width: 32px;\n",
              "    }\n",
              "\n",
              "    .colab-df-convert:hover {\n",
              "      background-color: #E2EBFA;\n",
              "      box-shadow: 0px 1px 2px rgba(60, 64, 67, 0.3), 0px 1px 3px 1px rgba(60, 64, 67, 0.15);\n",
              "      fill: #174EA6;\n",
              "    }\n",
              "\n",
              "    [theme=dark] .colab-df-convert {\n",
              "      background-color: #3B4455;\n",
              "      fill: #D2E3FC;\n",
              "    }\n",
              "\n",
              "    [theme=dark] .colab-df-convert:hover {\n",
              "      background-color: #434B5C;\n",
              "      box-shadow: 0px 1px 3px 1px rgba(0, 0, 0, 0.15);\n",
              "      filter: drop-shadow(0px 1px 2px rgba(0, 0, 0, 0.3));\n",
              "      fill: #FFFFFF;\n",
              "    }\n",
              "  </style>\n",
              "\n",
              "      <script>\n",
              "        const buttonEl =\n",
              "          document.querySelector('#df-b274ccac-5d4a-4ffc-8d84-f14920eb91f1 button.colab-df-convert');\n",
              "        buttonEl.style.display =\n",
              "          google.colab.kernel.accessAllowed ? 'block' : 'none';\n",
              "\n",
              "        async function convertToInteractive(key) {\n",
              "          const element = document.querySelector('#df-b274ccac-5d4a-4ffc-8d84-f14920eb91f1');\n",
              "          const dataTable =\n",
              "            await google.colab.kernel.invokeFunction('convertToInteractive',\n",
              "                                                     [key], {});\n",
              "          if (!dataTable) return;\n",
              "\n",
              "          const docLinkHtml = 'Like what you see? Visit the ' +\n",
              "            '<a target=\"_blank\" href=https://colab.research.google.com/notebooks/data_table.ipynb>data table notebook</a>'\n",
              "            + ' to learn more about interactive tables.';\n",
              "          element.innerHTML = '';\n",
              "          dataTable['output_type'] = 'display_data';\n",
              "          await google.colab.output.renderOutput(dataTable, element);\n",
              "          const docLink = document.createElement('div');\n",
              "          docLink.innerHTML = docLinkHtml;\n",
              "          element.appendChild(docLink);\n",
              "        }\n",
              "      </script>\n",
              "    </div>\n",
              "  </div>\n",
              "  "
            ]
          },
          "metadata": {},
          "execution_count": 68
        }
      ]
    },
    {
      "cell_type": "markdown",
      "source": [
        "# Feature Importance"
      ],
      "metadata": {
        "id": "TtLCs3Fg_UIS"
      }
    },
    {
      "cell_type": "markdown",
      "source": [
        "Abaixo, representei graficamente a importância do recurso com base no modelo Random Forest, no modelo XGBoost e Adaboost.\n",
        "\n",
        "Below, I graphically represented the importance of the resource based on the Random Forest model, the XGboost and Adaboost model"
      ],
      "metadata": {
        "id": "p94Imaq5K64I"
      }
    },
    {
      "cell_type": "code",
      "source": [
        "feat_importances = pd.Series(xgb_wine.feature_importances_, index=x_col.columns)\n",
        "feat_importances.nlargest(25).plot(kind='barh',figsize=(10,10))"
      ],
      "metadata": {
        "id": "yKWWA8C6N8dj",
        "colab": {
          "base_uri": "https://localhost:8080/",
          "height": 609
        },
        "outputId": "ff81b880-c442-4e13-92f5-88648a9dc73d"
      },
      "execution_count": null,
      "outputs": [
        {
          "output_type": "execute_result",
          "data": {
            "text/plain": [
              "<AxesSubplot:>"
            ]
          },
          "metadata": {},
          "execution_count": 69
        },
        {
          "output_type": "display_data",
          "data": {
            "text/plain": [
              "<Figure size 720x720 with 1 Axes>"
            ],
            "image/png": "[encoded data removed]"
          },
          "metadata": {
            "needs_background": "light"
          }
        }
      ]
    },
    {
      "cell_type": "code",
      "source": [
        "type(data_wine)"
      ],
      "metadata": {
        "id": "YVDWlUj6OyqQ",
        "colab": {
          "base_uri": "https://localhost:8080/"
        },
        "outputId": "689dde16-3ef1-4d77-8a60-ce7ce0af8172"
      },
      "execution_count": null,
      "outputs": [
        {
          "output_type": "execute_result",
          "data": {
            "text/plain": [
              "pandas.core.frame.DataFrame"
            ]
          },
          "metadata": {},
          "execution_count": 70
        }
      ]
    },
    {
      "cell_type": "code",
      "source": [
        "feat_importances = pd.Series(random_forest_wine.feature_importances_, index=x_col.columns)\n",
        "feat_importances.nlargest(25).plot(kind='barh',figsize=(10,10))"
      ],
      "metadata": {
        "id": "RZ8K0NdU_A6J",
        "colab": {
          "base_uri": "https://localhost:8080/",
          "height": 609
        },
        "outputId": "05f5526f-1ace-45af-b7fa-4bf1a7e4ecb0"
      },
      "execution_count": null,
      "outputs": [
        {
          "output_type": "execute_result",
          "data": {
            "text/plain": [
              "<AxesSubplot:>"
            ]
          },
          "metadata": {},
          "execution_count": 71
        },
        {
          "output_type": "display_data",
          "data": {
            "text/plain": [
              "<Figure size 720x720 with 1 Axes>"
            ],
            "image/png": "[encoded data removed]"
          },
          "metadata": {
            "needs_background": "light"
          }
        }
      ]
    },
    {
      "cell_type": "code",
      "source": [
        "feat_importances = pd.Series(ada_wine.feature_importances_, index=x_col.columns)\n",
        "feat_importances.nlargest(25).plot(kind='barh',figsize=(10,10))"
      ],
      "metadata": {
        "id": "nOCeC_a384o7",
        "colab": {
          "base_uri": "https://localhost:8080/",
          "height": 609
        },
        "outputId": "dac2b2b8-48b4-4eff-a5f6-a708281ffc4b"
      },
      "execution_count": null,
      "outputs": [
        {
          "output_type": "execute_result",
          "data": {
            "text/plain": [
              "<AxesSubplot:>"
            ]
          },
          "metadata": {},
          "execution_count": 72
        },
        {
          "output_type": "display_data",
          "data": {
            "text/plain": [
              "<Figure size 720x720 with 1 Axes>"
            ],
            "image/png": "[encoded data removed]"
          },
          "metadata": {
            "needs_background": "light"
          }
        }
      ]
    },
    {
      "cell_type": "markdown",
      "source": [
        "# Describre"
      ],
      "metadata": {
        "id": "sSq3gINREBtV"
      }
    },
    {
      "cell_type": "markdown",
      "source": [
        "Analisando os gráficos acima, podemos identificar quais são os fatores que são mais determinantes para a qualidade de um vinho. O álcool e o sulfato, por exemplo, parecem ser mais determinantes para a classifação da bebida. Portanto, dados um certo nível dos atributos (estimados como sendo o nível perfeito), a probabilidade de classificar esse vinho como de \"boa qualidade\" se torna maior.\n",
        "\n",
        "OBS: Este modelo foi criado para estimar a qualidade de um vinho e o peso que esses atributos tem nesta classificação. Contudo, dados como gosto e qualidade da fruta, estatístcas essas dificies de serem mensuradas, dicaram fora do modelo de aprendizado.\n",
        "\n",
        "\n",
        "Analyzing the graphs above, we can identify which are the factors that are most decisive for the quality of a wine. Alcohol and sulfate, for example, seem to be more determinant for the beverage's classification. Therefore, given a certain level of attributes (estimated to be the perfect level), the probability of classifying this wine as \"good quality\" becomes greater.\n",
        "\n",
        "NOTE: This model was created to estimate the quality of a wine and the weight these attributes have in this classification. However, data such as fruit taste and quality, statistics that are difficult to measure, were outside the learning model."
      ],
      "metadata": {
        "id": "96tlGDjY6iRe"
      }
    },
    {
      "cell_type": "code",
      "source": [
        "# Filtrando df apenas para boa qualidade \n",
        "# Filtering DF for good quality only\n",
        "\n",
        "df_temp = data_wine[data_wine['quality']==1] \n",
        "df_temp.describe()"
      ],
      "metadata": {
        "id": "Lo8XLVe97EZD",
        "colab": {
          "base_uri": "https://localhost:8080/",
          "height": 379
        },
        "outputId": "36586827-0701-4fae-c907-b61339ae77ca"
      },
      "execution_count": null,
      "outputs": [
        {
          "output_type": "execute_result",
          "data": {
            "text/plain": [
              "       fixed acidity  volatile acidity  citric acid  residual sugar  \\\n",
              "count     217.000000        217.000000   217.000000      217.000000   \n",
              "mean        8.847005          0.405530     0.376498        2.708756   \n",
              "std         1.999977          0.144963     0.194438        1.363026   \n",
              "min         4.900000          0.120000     0.000000        1.200000   \n",
              "25%         7.400000          0.300000     0.300000        2.000000   \n",
              "50%         8.700000          0.370000     0.400000        2.300000   \n",
              "75%        10.100000          0.490000     0.490000        2.700000   \n",
              "max        15.600000          0.915000     0.760000        8.900000   \n",
              "\n",
              "        chlorides  free sulfur dioxide  total sulfur dioxide     density  \\\n",
              "count  217.000000           217.000000            217.000000  217.000000   \n",
              "mean     0.075912            13.981567             34.889401    0.996030   \n",
              "std      0.028480            10.234615             32.572238    0.002201   \n",
              "min      0.012000             3.000000              7.000000    0.990640   \n",
              "25%      0.062000             6.000000             17.000000    0.994700   \n",
              "50%      0.073000            11.000000             27.000000    0.995720   \n",
              "75%      0.085000            18.000000             43.000000    0.997350   \n",
              "max      0.358000            54.000000            289.000000    1.003200   \n",
              "\n",
              "               pH   sulphates     alcohol  quality  \n",
              "count  217.000000  217.000000  217.000000    217.0  \n",
              "mean     3.288802    0.743456   11.518049      1.0  \n",
              "std      0.154478    0.134038    0.998153      0.0  \n",
              "min      2.880000    0.390000    9.200000      1.0  \n",
              "25%      3.200000    0.650000   10.800000      1.0  \n",
              "50%      3.270000    0.740000   11.600000      1.0  \n",
              "75%      3.380000    0.820000   12.200000      1.0  \n",
              "max      3.780000    1.360000   14.000000      1.0  "
            ],
            "text/html": [
              "\n",
              "  <div id=\"df-771047cb-3e3c-4138-800d-d7dcd95d7c0a\">\n",
              "    <div class=\"colab-df-container\">\n",
              "      <div>\n",
              "<style scoped>\n",
              "    .dataframe tbody tr th:only-of-type {\n",
              "        vertical-align: middle;\n",
              "    }\n",
              "\n",
              "    .dataframe tbody tr th {\n",
              "        vertical-align: top;\n",
              "    }\n",
              "\n",
              "    .dataframe thead th {\n",
              "        text-align: right;\n",
              "    }\n",
              "</style>\n",
              "<table border=\"1\" class=\"dataframe\">\n",
              "  <thead>\n",
              "    <tr style=\"text-align: right;\">\n",
              "      <th></th>\n",
              "      <th>fixed acidity</th>\n",
              "      <th>volatile acidity</th>\n",
              "      <th>citric acid</th>\n",
              "      <th>residual sugar</th>\n",
              "      <th>chlorides</th>\n",
              "      <th>free sulfur dioxide</th>\n",
              "      <th>total sulfur dioxide</th>\n",
              "      <th>density</th>\n",
              "      <th>pH</th>\n",
              "      <th>sulphates</th>\n",
              "      <th>alcohol</th>\n",
              "      <th>quality</th>\n",
              "    </tr>\n",
              "  </thead>\n",
              "  <tbody>\n",
              "    <tr>\n",
              "      <th>count</th>\n",
              "      <td>217.000000</td>\n",
              "      <td>217.000000</td>\n",
              "      <td>217.000000</td>\n",
              "      <td>217.000000</td>\n",
              "      <td>217.000000</td>\n",
              "      <td>217.000000</td>\n",
              "      <td>217.000000</td>\n",
              "      <td>217.000000</td>\n",
              "      <td>217.000000</td>\n",
              "      <td>217.000000</td>\n",
              "      <td>217.000000</td>\n",
              "      <td>217.0</td>\n",
              "    </tr>\n",
              "    <tr>\n",
              "      <th>mean</th>\n",
              "      <td>8.847005</td>\n",
              "      <td>0.405530</td>\n",
              "      <td>0.376498</td>\n",
              "      <td>2.708756</td>\n",
              "      <td>0.075912</td>\n",
              "      <td>13.981567</td>\n",
              "      <td>34.889401</td>\n",
              "      <td>0.996030</td>\n",
              "      <td>3.288802</td>\n",
              "      <td>0.743456</td>\n",
              "      <td>11.518049</td>\n",
              "      <td>1.0</td>\n",
              "    </tr>\n",
              "    <tr>\n",
              "      <th>std</th>\n",
              "      <td>1.999977</td>\n",
              "      <td>0.144963</td>\n",
              "      <td>0.194438</td>\n",
              "      <td>1.363026</td>\n",
              "      <td>0.028480</td>\n",
              "      <td>10.234615</td>\n",
              "      <td>32.572238</td>\n",
              "      <td>0.002201</td>\n",
              "      <td>0.154478</td>\n",
              "      <td>0.134038</td>\n",
              "      <td>0.998153</td>\n",
              "      <td>0.0</td>\n",
              "    </tr>\n",
              "    <tr>\n",
              "      <th>min</th>\n",
              "      <td>4.900000</td>\n",
              "      <td>0.120000</td>\n",
              "      <td>0.000000</td>\n",
              "      <td>1.200000</td>\n",
              "      <td>0.012000</td>\n",
              "      <td>3.000000</td>\n",
              "      <td>7.000000</td>\n",
              "      <td>0.990640</td>\n",
              "      <td>2.880000</td>\n",
              "      <td>0.390000</td>\n",
              "      <td>9.200000</td>\n",
              "      <td>1.0</td>\n",
              "    </tr>\n",
              "    <tr>\n",
              "      <th>25%</th>\n",
              "      <td>7.400000</td>\n",
              "      <td>0.300000</td>\n",
              "      <td>0.300000</td>\n",
              "      <td>2.000000</td>\n",
              "      <td>0.062000</td>\n",
              "      <td>6.000000</td>\n",
              "      <td>17.000000</td>\n",
              "      <td>0.994700</td>\n",
              "      <td>3.200000</td>\n",
              "      <td>0.650000</td>\n",
              "      <td>10.800000</td>\n",
              "      <td>1.0</td>\n",
              "    </tr>\n",
              "    <tr>\n",
              "      <th>50%</th>\n",
              "      <td>8.700000</td>\n",
              "      <td>0.370000</td>\n",
              "      <td>0.400000</td>\n",
              "      <td>2.300000</td>\n",
              "      <td>0.073000</td>\n",
              "      <td>11.000000</td>\n",
              "      <td>27.000000</td>\n",
              "      <td>0.995720</td>\n",
              "      <td>3.270000</td>\n",
              "      <td>0.740000</td>\n",
              "      <td>11.600000</td>\n",
              "      <td>1.0</td>\n",
              "    </tr>\n",
              "    <tr>\n",
              "      <th>75%</th>\n",
              "      <td>10.100000</td>\n",
              "      <td>0.490000</td>\n",
              "      <td>0.490000</td>\n",
              "      <td>2.700000</td>\n",
              "      <td>0.085000</td>\n",
              "      <td>18.000000</td>\n",
              "      <td>43.000000</td>\n",
              "      <td>0.997350</td>\n",
              "      <td>3.380000</td>\n",
              "      <td>0.820000</td>\n",
              "      <td>12.200000</td>\n",
              "      <td>1.0</td>\n",
              "    </tr>\n",
              "    <tr>\n",
              "      <th>max</th>\n",
              "      <td>15.600000</td>\n",
              "      <td>0.915000</td>\n",
              "      <td>0.760000</td>\n",
              "      <td>8.900000</td>\n",
              "      <td>0.358000</td>\n",
              "      <td>54.000000</td>\n",
              "      <td>289.000000</td>\n",
              "      <td>1.003200</td>\n",
              "      <td>3.780000</td>\n",
              "      <td>1.360000</td>\n",
              "      <td>14.000000</td>\n",
              "      <td>1.0</td>\n",
              "    </tr>\n",
              "  </tbody>\n",
              "</table>\n",
              "</div>\n",
              "      <button class=\"colab-df-convert\" onclick=\"convertToInteractive('df-771047cb-3e3c-4138-800d-d7dcd95d7c0a')\"\n",
              "              title=\"Convert this dataframe to an interactive table.\"\n",
              "              style=\"display:none;\">\n",
              "        \n",
              "  <svg xmlns=\"http://www.w3.org/2000/svg\" height=\"24px\"viewBox=\"0 0 24 24\"\n",
              "       width=\"24px\">\n",
              "    <path d=\"M0 0h24v24H0V0z\" fill=\"none\"/>\n",
              "    <path d=\"M18.56 5.44l.94 2.06.94-2.06 2.06-.94-2.06-.94-.94-2.06-.94 2.06-2.06.94zm-11 1L8.5 8.5l.94-2.06 2.06-.94-2.06-.94L8.5 2.5l-.94 2.06-2.06.94zm10 10l.94 2.06.94-2.06 2.06-.94-2.06-.94-.94-2.06-.94 2.06-2.06.94z\"/><path d=\"M17.41 7.96l-1.37-1.37c-.4-.4-.92-.59-1.43-.59-.52 0-1.04.2-1.43.59L10.3 9.45l-7.72 7.72c-.78.78-.78 2.05 0 2.83L4 21.41c.39.39.9.59 1.41.59.51 0 1.02-.2 1.41-.59l7.78-7.78 2.81-2.81c.8-.78.8-2.07 0-2.86zM5.41 20L4 18.59l7.72-7.72 1.47 1.35L5.41 20z\"/>\n",
              "  </svg>\n",
              "      </button>\n",
              "      \n",
              "  <style>\n",
              "    .colab-df-container {\n",
              "      display:flex;\n",
              "      flex-wrap:wrap;\n",
              "      gap: 12px;\n",
              "    }\n",
              "\n",
              "    .colab-df-convert {\n",
              "      background-color: #E8F0FE;\n",
              "      border: none;\n",
              "      border-radius: 50%;\n",
              "      cursor: pointer;\n",
              "      display: none;\n",
              "      fill: #1967D2;\n",
              "      height: 32px;\n",
              "      padding: 0 0 0 0;\n",
              "      width: 32px;\n",
              "    }\n",
              "\n",
              "    .colab-df-convert:hover {\n",
              "      background-color: #E2EBFA;\n",
              "      box-shadow: 0px 1px 2px rgba(60, 64, 67, 0.3), 0px 1px 3px 1px rgba(60, 64, 67, 0.15);\n",
              "      fill: #174EA6;\n",
              "    }\n",
              "\n",
              "    [theme=dark] .colab-df-convert {\n",
              "      background-color: #3B4455;\n",
              "      fill: #D2E3FC;\n",
              "    }\n",
              "\n",
              "    [theme=dark] .colab-df-convert:hover {\n",
              "      background-color: #434B5C;\n",
              "      box-shadow: 0px 1px 3px 1px rgba(0, 0, 0, 0.15);\n",
              "      filter: drop-shadow(0px 1px 2px rgba(0, 0, 0, 0.3));\n",
              "      fill: #FFFFFF;\n",
              "    }\n",
              "  </style>\n",
              "\n",
              "      <script>\n",
              "        const buttonEl =\n",
              "          document.querySelector('#df-771047cb-3e3c-4138-800d-d7dcd95d7c0a button.colab-df-convert');\n",
              "        buttonEl.style.display =\n",
              "          google.colab.kernel.accessAllowed ? 'block' : 'none';\n",
              "\n",
              "        async function convertToInteractive(key) {\n",
              "          const element = document.querySelector('#df-771047cb-3e3c-4138-800d-d7dcd95d7c0a');\n",
              "          const dataTable =\n",
              "            await google.colab.kernel.invokeFunction('convertToInteractive',\n",
              "                                                     [key], {});\n",
              "          if (!dataTable) return;\n",
              "\n",
              "          const docLinkHtml = 'Like what you see? Visit the ' +\n",
              "            '<a target=\"_blank\" href=https://colab.research.google.com/notebooks/data_table.ipynb>data table notebook</a>'\n",
              "            + ' to learn more about interactive tables.';\n",
              "          element.innerHTML = '';\n",
              "          dataTable['output_type'] = 'display_data';\n",
              "          await google.colab.output.renderOutput(dataTable, element);\n",
              "          const docLink = document.createElement('div');\n",
              "          docLink.innerHTML = docLinkHtml;\n",
              "          element.appendChild(docLink);\n",
              "        }\n",
              "      </script>\n",
              "    </div>\n",
              "  </div>\n",
              "  "
            ]
          },
          "metadata": {},
          "execution_count": 73
        }
      ]
    },
    {
      "cell_type": "code",
      "source": [
        "# Filtrando df apenas para qualidade ruim \n",
        "# Filtering dF for bad quality only\n",
        "df_temp2 = data_wine[data_wine['quality']==0] \n",
        "\n",
        "df_temp2.describe()"
      ],
      "metadata": {
        "id": "zzYu7152BzXd",
        "colab": {
          "base_uri": "https://localhost:8080/",
          "height": 399
        },
        "outputId": "6533b947-1dd0-482f-c38a-d674a6bb4b04"
      },
      "execution_count": null,
      "outputs": [
        {
          "output_type": "execute_result",
          "data": {
            "text/plain": [
              "       fixed acidity  volatile acidity  citric acid  residual sugar  \\\n",
              "count    1382.000000       1382.000000  1382.000000     1382.000000   \n",
              "mean        8.236831          0.547022     0.254407        2.512120   \n",
              "std         1.682726          0.176337     0.189665        1.415778   \n",
              "min         4.600000          0.160000     0.000000        0.900000   \n",
              "25%         7.100000          0.420000     0.082500        1.900000   \n",
              "50%         7.800000          0.540000     0.240000        2.200000   \n",
              "75%         9.100000          0.650000     0.400000        2.600000   \n",
              "max        15.900000          1.580000     1.000000       15.500000   \n",
              "\n",
              "         chlorides  free sulfur dioxide  total sulfur dioxide      density  \\\n",
              "count  1382.000000          1382.000000           1382.000000  1382.000000   \n",
              "mean      0.089281            16.172214             48.285818     0.996859   \n",
              "std       0.049113            10.467685             32.585604     0.001808   \n",
              "min       0.034000             1.000000              6.000000     0.990070   \n",
              "25%       0.071000             8.000000             23.000000     0.995785   \n",
              "50%       0.080000            14.000000             39.500000     0.996800   \n",
              "75%       0.091000            22.000000             65.000000     0.997900   \n",
              "max       0.611000            72.000000            165.000000     1.003690   \n",
              "\n",
              "                pH    sulphates      alcohol  quality  \n",
              "count  1382.000000  1382.000000  1382.000000   1382.0  \n",
              "mean      3.314616     0.644754    10.251037      0.0  \n",
              "std       0.154135     0.170629     0.969664      0.0  \n",
              "min       2.740000     0.330000     8.400000      0.0  \n",
              "25%       3.210000     0.540000     9.500000      0.0  \n",
              "50%       3.310000     0.600000    10.000000      0.0  \n",
              "75%       3.410000     0.700000    10.900000      0.0  \n",
              "max       4.010000     2.000000    14.900000      0.0  "
            ],
            "text/html": [
              "\n",
              "  <div id=\"df-60ccdc23-7b4d-440f-a2e2-61c3e382c82a\">\n",
              "    <div class=\"colab-df-container\">\n",
              "      <div>\n",
              "<style scoped>\n",
              "    .dataframe tbody tr th:only-of-type {\n",
              "        vertical-align: middle;\n",
              "    }\n",
              "\n",
              "    .dataframe tbody tr th {\n",
              "        vertical-align: top;\n",
              "    }\n",
              "\n",
              "    .dataframe thead th {\n",
              "        text-align: right;\n",
              "    }\n",
              "</style>\n",
              "<table border=\"1\" class=\"dataframe\">\n",
              "  <thead>\n",
              "    <tr style=\"text-align: right;\">\n",
              "      <th></th>\n",
              "      <th>fixed acidity</th>\n",
              "      <th>volatile acidity</th>\n",
              "      <th>citric acid</th>\n",
              "      <th>residual sugar</th>\n",
              "      <th>chlorides</th>\n",
              "      <th>free sulfur dioxide</th>\n",
              "      <th>total sulfur dioxide</th>\n",
              "      <th>density</th>\n",
              "      <th>pH</th>\n",
              "      <th>sulphates</th>\n",
              "      <th>alcohol</th>\n",
              "      <th>quality</th>\n",
              "    </tr>\n",
              "  </thead>\n",
              "  <tbody>\n",
              "    <tr>\n",
              "      <th>count</th>\n",
              "      <td>1382.000000</td>\n",
              "      <td>1382.000000</td>\n",
              "      <td>1382.000000</td>\n",
              "      <td>1382.000000</td>\n",
              "      <td>1382.000000</td>\n",
              "      <td>1382.000000</td>\n",
              "      <td>1382.000000</td>\n",
              "      <td>1382.000000</td>\n",
              "      <td>1382.000000</td>\n",
              "      <td>1382.000000</td>\n",
              "      <td>1382.000000</td>\n",
              "      <td>1382.0</td>\n",
              "    </tr>\n",
              "    <tr>\n",
              "      <th>mean</th>\n",
              "      <td>8.236831</td>\n",
              "      <td>0.547022</td>\n",
              "      <td>0.254407</td>\n",
              "      <td>2.512120</td>\n",
              "      <td>0.089281</td>\n",
              "      <td>16.172214</td>\n",
              "      <td>48.285818</td>\n",
              "      <td>0.996859</td>\n",
              "      <td>3.314616</td>\n",
              "      <td>0.644754</td>\n",
              "      <td>10.251037</td>\n",
              "      <td>0.0</td>\n",
              "    </tr>\n",
              "    <tr>\n",
              "      <th>std</th>\n",
              "      <td>1.682726</td>\n",
              "      <td>0.176337</td>\n",
              "      <td>0.189665</td>\n",
              "      <td>1.415778</td>\n",
              "      <td>0.049113</td>\n",
              "      <td>10.467685</td>\n",
              "      <td>32.585604</td>\n",
              "      <td>0.001808</td>\n",
              "      <td>0.154135</td>\n",
              "      <td>0.170629</td>\n",
              "      <td>0.969664</td>\n",
              "      <td>0.0</td>\n",
              "    </tr>\n",
              "    <tr>\n",
              "      <th>min</th>\n",
              "      <td>4.600000</td>\n",
              "      <td>0.160000</td>\n",
              "      <td>0.000000</td>\n",
              "      <td>0.900000</td>\n",
              "      <td>0.034000</td>\n",
              "      <td>1.000000</td>\n",
              "      <td>6.000000</td>\n",
              "      <td>0.990070</td>\n",
              "      <td>2.740000</td>\n",
              "      <td>0.330000</td>\n",
              "      <td>8.400000</td>\n",
              "      <td>0.0</td>\n",
              "    </tr>\n",
              "    <tr>\n",
              "      <th>25%</th>\n",
              "      <td>7.100000</td>\n",
              "      <td>0.420000</td>\n",
              "      <td>0.082500</td>\n",
              "      <td>1.900000</td>\n",
              "      <td>0.071000</td>\n",
              "      <td>8.000000</td>\n",
              "      <td>23.000000</td>\n",
              "      <td>0.995785</td>\n",
              "      <td>3.210000</td>\n",
              "      <td>0.540000</td>\n",
              "      <td>9.500000</td>\n",
              "      <td>0.0</td>\n",
              "    </tr>\n",
              "    <tr>\n",
              "      <th>50%</th>\n",
              "      <td>7.800000</td>\n",
              "      <td>0.540000</td>\n",
              "      <td>0.240000</td>\n",
              "      <td>2.200000</td>\n",
              "      <td>0.080000</td>\n",
              "      <td>14.000000</td>\n",
              "      <td>39.500000</td>\n",
              "      <td>0.996800</td>\n",
              "      <td>3.310000</td>\n",
              "      <td>0.600000</td>\n",
              "      <td>10.000000</td>\n",
              "      <td>0.0</td>\n",
              "    </tr>\n",
              "    <tr>\n",
              "      <th>75%</th>\n",
              "      <td>9.100000</td>\n",
              "      <td>0.650000</td>\n",
              "      <td>0.400000</td>\n",
              "      <td>2.600000</td>\n",
              "      <td>0.091000</td>\n",
              "      <td>22.000000</td>\n",
              "      <td>65.000000</td>\n",
              "      <td>0.997900</td>\n",
              "      <td>3.410000</td>\n",
              "      <td>0.700000</td>\n",
              "      <td>10.900000</td>\n",
              "      <td>0.0</td>\n",
              "    </tr>\n",
              "    <tr>\n",
              "      <th>max</th>\n",
              "      <td>15.900000</td>\n",
              "      <td>1.580000</td>\n",
              "      <td>1.000000</td>\n",
              "      <td>15.500000</td>\n",
              "      <td>0.611000</td>\n",
              "      <td>72.000000</td>\n",
              "      <td>165.000000</td>\n",
              "      <td>1.003690</td>\n",
              "      <td>4.010000</td>\n",
              "      <td>2.000000</td>\n",
              "      <td>14.900000</td>\n",
              "      <td>0.0</td>\n",
              "    </tr>\n",
              "  </tbody>\n",
              "</table>\n",
              "</div>\n",
              "      <button class=\"colab-df-convert\" onclick=\"convertToInteractive('df-60ccdc23-7b4d-440f-a2e2-61c3e382c82a')\"\n",
              "              title=\"Convert this dataframe to an interactive table.\"\n",
              "              style=\"display:none;\">\n",
              "        \n",
              "  <svg xmlns=\"http://www.w3.org/2000/svg\" height=\"24px\"viewBox=\"0 0 24 24\"\n",
              "       width=\"24px\">\n",
              "    <path d=\"M0 0h24v24H0V0z\" fill=\"none\"/>\n",
              "    <path d=\"M18.56 5.44l.94 2.06.94-2.06 2.06-.94-2.06-.94-.94-2.06-.94 2.06-2.06.94zm-11 1L8.5 8.5l.94-2.06 2.06-.94-2.06-.94L8.5 2.5l-.94 2.06-2.06.94zm10 10l.94 2.06.94-2.06 2.06-.94-2.06-.94-.94-2.06-.94 2.06-2.06.94z\"/><path d=\"M17.41 7.96l-1.37-1.37c-.4-.4-.92-.59-1.43-.59-.52 0-1.04.2-1.43.59L10.3 9.45l-7.72 7.72c-.78.78-.78 2.05 0 2.83L4 21.41c.39.39.9.59 1.41.59.51 0 1.02-.2 1.41-.59l7.78-7.78 2.81-2.81c.8-.78.8-2.07 0-2.86zM5.41 20L4 18.59l7.72-7.72 1.47 1.35L5.41 20z\"/>\n",
              "  </svg>\n",
              "      </button>\n",
              "      \n",
              "  <style>\n",
              "    .colab-df-container {\n",
              "      display:flex;\n",
              "      flex-wrap:wrap;\n",
              "      gap: 12px;\n",
              "    }\n",
              "\n",
              "    .colab-df-convert {\n",
              "      background-color: #E8F0FE;\n",
              "      border: none;\n",
              "      border-radius: 50%;\n",
              "      cursor: pointer;\n",
              "      display: none;\n",
              "      fill: #1967D2;\n",
              "      height: 32px;\n",
              "      padding: 0 0 0 0;\n",
              "      width: 32px;\n",
              "    }\n",
              "\n",
              "    .colab-df-convert:hover {\n",
              "      background-color: #E2EBFA;\n",
              "      box-shadow: 0px 1px 2px rgba(60, 64, 67, 0.3), 0px 1px 3px 1px rgba(60, 64, 67, 0.15);\n",
              "      fill: #174EA6;\n",
              "    }\n",
              "\n",
              "    [theme=dark] .colab-df-convert {\n",
              "      background-color: #3B4455;\n",
              "      fill: #D2E3FC;\n",
              "    }\n",
              "\n",
              "    [theme=dark] .colab-df-convert:hover {\n",
              "      background-color: #434B5C;\n",
              "      box-shadow: 0px 1px 3px 1px rgba(0, 0, 0, 0.15);\n",
              "      filter: drop-shadow(0px 1px 2px rgba(0, 0, 0, 0.3));\n",
              "      fill: #FFFFFF;\n",
              "    }\n",
              "  </style>\n",
              "\n",
              "      <script>\n",
              "        const buttonEl =\n",
              "          document.querySelector('#df-60ccdc23-7b4d-440f-a2e2-61c3e382c82a button.colab-df-convert');\n",
              "        buttonEl.style.display =\n",
              "          google.colab.kernel.accessAllowed ? 'block' : 'none';\n",
              "\n",
              "        async function convertToInteractive(key) {\n",
              "          const element = document.querySelector('#df-60ccdc23-7b4d-440f-a2e2-61c3e382c82a');\n",
              "          const dataTable =\n",
              "            await google.colab.kernel.invokeFunction('convertToInteractive',\n",
              "                                                     [key], {});\n",
              "          if (!dataTable) return;\n",
              "\n",
              "          const docLinkHtml = 'Like what you see? Visit the ' +\n",
              "            '<a target=\"_blank\" href=https://colab.research.google.com/notebooks/data_table.ipynb>data table notebook</a>'\n",
              "            + ' to learn more about interactive tables.';\n",
              "          element.innerHTML = '';\n",
              "          dataTable['output_type'] = 'display_data';\n",
              "          await google.colab.output.renderOutput(dataTable, element);\n",
              "          const docLink = document.createElement('div');\n",
              "          docLink.innerHTML = docLinkHtml;\n",
              "          element.appendChild(docLink);\n",
              "        }\n",
              "      </script>\n",
              "    </div>\n",
              "  </div>\n",
              "  "
            ]
          },
          "metadata": {},
          "execution_count": 74
        }
      ]
    }
  ]
}