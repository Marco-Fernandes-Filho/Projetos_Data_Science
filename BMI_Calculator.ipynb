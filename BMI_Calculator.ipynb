{
  "nbformat": 4,
  "nbformat_minor": 0,
  "metadata": {
    "colab": {
      "provenance": [],
      "authorship_tag": "ABX9TyNpgzB6DhjRnkLxv5JhSsb9",
      "include_colab_link": true
    },
    "kernelspec": {
      "name": "python3",
      "display_name": "Python 3"
    },
    "language_info": {
      "name": "python"
    }
  },
  "cells": [
    {
      "cell_type": "markdown",
      "metadata": {
        "id": "view-in-github",
        "colab_type": "text"
      },
      "source": [
        "<a href=\"https://colab.research.google.com/github/Marco-Fernandes-Filho/Projetos_Data_Science/blob/main/BMI_Calculator.ipynb\" target=\"_parent\"><img src=\"https://colab.research.google.com/assets/colab-badge.svg\" alt=\"Open In Colab\"/></a>"
      ]
    },
    {
      "cell_type": "code",
      "source": [
        "from sklearn.pipeline import Pipeline"
      ],
      "metadata": {
        "id": "hkyXq7IV-9gD"
      },
      "execution_count": 1,
      "outputs": []
    },
    {
      "cell_type": "code",
      "execution_count": null,
      "metadata": {
        "id": "lBtvp2mJHYtH"
      },
      "outputs": [],
      "source": [
        "height = float(input(\"Enter your height in cm without ',': \"))\n",
        "weight = float(input(\"Enter your weight in kg: \"))"
      ]
    },
    {
      "cell_type": "code",
      "source": [
        "BMI = weight / (height/100)**2"
      ],
      "metadata": {
        "id": "B0QFlSJfH4UI"
      },
      "execution_count": 2,
      "outputs": []
    },
    {
      "cell_type": "code",
      "source": [
        "print(f\"You BMI is {BMI}\")"
      ],
      "metadata": {
        "colab": {
          "base_uri": "https://localhost:8080/"
        },
        "id": "8LCUp2TKH61u",
        "outputId": "89db8a4a-c3fc-445a-d983-7b43b5650042"
      },
      "execution_count": 3,
      "outputs": [
        {
          "output_type": "stream",
          "name": "stdout",
          "text": [
            "You BMI is 22.857142857142858\n"
          ]
        }
      ]
    },
    {
      "cell_type": "code",
      "source": [
        "if BMI <= 18.4:\n",
        "    print(\"You are underweight.\")\n",
        "elif BMI <= 24.9:\n",
        "    print(\"You are healthy.\")\n",
        "elif BMI <= 29.9:\n",
        "    print(\"You are over weight.\")\n",
        "elif BMI <= 34.9:\n",
        "    print(\"You are severely over weight.\")\n",
        "elif BMI <= 39.9:\n",
        "    print(\"You are obese.\")\n",
        "else:\n",
        "    print(\"You are severely obese.\")"
      ],
      "metadata": {
        "colab": {
          "base_uri": "https://localhost:8080/"
        },
        "id": "auYlqVdSH_QC",
        "outputId": "66e1bf2c-3b5a-4a15-c005-1860980c8b6c"
      },
      "execution_count": 4,
      "outputs": [
        {
          "output_type": "stream",
          "name": "stdout",
          "text": [
            "You are healthy.\n"
          ]
        }
      ]
    }
  ]
}